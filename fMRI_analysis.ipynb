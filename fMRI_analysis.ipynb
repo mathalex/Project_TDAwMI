{
 "cells": [
  {
   "cell_type": "code",
   "execution_count": 2,
   "id": "a601b423",
   "metadata": {},
   "outputs": [],
   "source": [
    "%matplotlib inline\n",
    "import matplotlib.pyplot as plt\n",
    "\n",
    "import numpy as np\n",
    "\n",
    "from nibabel.loadsave import ImageFileError\n",
    "\n",
    "from nilearn.image import load_img\n",
    "from nilearn import datasets\n",
    "from nilearn.maskers import NiftiMasker, NiftiLabelsMasker\n",
    "from nilearn.connectome import ConnectivityMeasure\n",
    "\n",
    "from sklearn.preprocessing import StandardScaler\n",
    "\n",
    "from nilearn import plotting\n",
    "\n",
    "from itertools import combinations, product\n",
    "from tqdm.notebook import tqdm\n",
    "\n",
    "from scipy.stats import spearmanr, entropy\n",
    "\n",
    "from scipy.ndimage import gaussian_filter1d, uniform_filter1d, maximum_filter1d, minimum_filter1d\n",
    "\n",
    "from sklearn.model_selection import train_test_split\n",
    "from sklearn.linear_model import LogisticRegression\n",
    "from sklearn.neural_network import MLPClassifier\n",
    "from catboost import CatBoostClassifier\n",
    "\n",
    "from sklearn.model_selection import StratifiedKFold\n",
    "from sklearn.pipeline import Pipeline\n",
    "from sklearn.metrics import accuracy_score\n",
    "from scipy.linalg import logm\n",
    "\n",
    "import pandas as pd"
   ]
  },
  {
   "cell_type": "markdown",
   "id": "83350a5f",
   "metadata": {},
   "source": [
    "**Getting timeseries from fMRI scans**"
   ]
  },
  {
   "cell_type": "code",
   "execution_count": 2,
   "id": "3996fd85",
   "metadata": {},
   "outputs": [],
   "source": [
    "atlas = datasets.fetch_atlas_aal()\n",
    "atlas_filename = atlas.maps\n",
    "atlas_labels = atlas.labels\n",
    "masker = NiftiLabelsMasker(atlas_filename, detrend=False)\n",
    "\n",
    "def get_time_series(path):\n",
    "    # print(path)\n",
    "    try:\n",
    "        fmri_img = load_img(path)\n",
    "    except ImageFileError:  # no run for session\n",
    "        return None\n",
    "    \n",
    "    time_series = masker.fit_transform(fmri_img)\n",
    "    time_series = StandardScaler().fit_transform(time_series[:, :])\n",
    "    return time_series"
   ]
  },
  {
   "cell_type": "code",
   "execution_count": 3,
   "id": "3e847ac8",
   "metadata": {},
   "outputs": [],
   "source": [
    "def get_ts_by_info(subj_id, session_id, run_id):\n",
    "    return get_time_series(f'./raw/timeseries/subj0{subj_id}/timeseries_session{session_id:02d}_run{run_id:02d}.nii.gz')"
   ]
  },
  {
   "cell_type": "code",
   "execution_count": 7,
   "id": "163eebef",
   "metadata": {},
   "outputs": [
    {
     "data": {
      "application/vnd.jupyter.widget-view+json": {
       "model_id": "849665e022644c3da9489eb4515a409b",
       "version_major": 2,
       "version_minor": 0
      },
      "text/plain": [
       "Getting timeseries:   0%|          | 0/1036 [00:00<?, ?it/s]"
      ]
     },
     "metadata": {},
     "output_type": "display_data"
    }
   ],
   "source": [
    "SUBJ_IDS = (1, 5)  # need range(1, 8+1) --- download\n",
    "SESSION_IDS = range(1, 37+1)  # need range(1, 37+1) --- download, or use range(1, 23+1)\n",
    "RUN_IDS = range(1, 14+1)  # need range(1, 14+1) --- check 13 and 14 - may be empty\n",
    "\n",
    "trend_size = 50\n",
    "\n",
    "T = []\n",
    "X = []\n",
    "y = []\n",
    "\n",
    "for subj_id, session_id, run_id in tqdm(itertools.product(SUBJ_IDS, SESSION_IDS, RUN_IDS),\n",
    "                                        total=len(SUBJ_IDS) * len(SESSION_IDS) * len(RUN_IDS),\n",
    "                                        desc='Getting timeseries'):\n",
    "    time_series = get_ts_by_info(subj_id, session_id, run_id)\n",
    "    if time_series is None:\n",
    "        continue\n",
    "    \n",
    "    # get trend and subtract it\n",
    "    time_series_trend = uniform_filter1d(time_series, trend_size, axis=0)\n",
    "    time_series_filtered = time_series - time_series_trend\n",
    "                        \n",
    "    # standardize\n",
    "    time_series_std = StandardScaler().fit_transform(time_series)\n",
    "    time_series_filtered_std = StandardScaler().fit_transform(time_series_filtered)\n",
    "                        \n",
    "    # get connectivity matrices\n",
    "    A_raw = ConnectivityMeasure(kind=\"correlation\").fit_transform([time_series_std])[0]\n",
    "    A_filtered = ConnectivityMeasure(kind=\"correlation\").fit_transform([time_series_filtered_std])[0]\n",
    "    \n",
    "    # set data\n",
    "    T.append([time_series_std, time_series_filtered_std])\n",
    "    X.append([A_raw, A_filtered])\n",
    "    y.append(subj_id)\n",
    "T = np.array(T)\n",
    "X = np.array(X)\n",
    "y = np.array(y)"
   ]
  },
  {
   "cell_type": "code",
   "execution_count": 32,
   "id": "101be163",
   "metadata": {},
   "outputs": [],
   "source": [
    "n_trials = 478\n",
    "n_steps = 226\n",
    "n_rois = 116\n",
    "\n",
    "# T = np.zeros((2 * n_trials, 2, n_steps, n_rois))\n",
    "# X = np.zeros((2 * n_trials, 2, n_rois, n_rois)) # subject, raw/filtered, matrix\n",
    "y_subjects = np.repeat([0, 1], n_trials)\n",
    "y_sessions = np.tile(np.concatenate([np.repeat(0, 240), np.repeat(1, 238)]), 2)\n",
    "y = np.concatenate([np.expand_dims(y_subjects, 0), np.expand_dims(y_sessions, 0)], axis=0)"
   ]
  },
  {
   "cell_type": "code",
   "execution_count": 33,
   "id": "ef4880a3",
   "metadata": {},
   "outputs": [],
   "source": [
    "np.save(\"T_subjects_1,5_nsd_vs_rest.npy\", T)\n",
    "np.save(\"X_subjects_1,5_nsd_vs_rest.npy\", X)\n",
    "np.save(\"y_subjects_1,5_nsd_vs_rest.npy\", y)"
   ]
  },
  {
   "cell_type": "code",
   "execution_count": 68,
   "id": "b72a5449",
   "metadata": {},
   "outputs": [
    {
     "data": {
      "text/plain": [
       "((956, 226, 116), (956, 66), (956,))"
      ]
     },
     "execution_count": 68,
     "metadata": {},
     "output_type": "execute_result"
    }
   ],
   "source": [
    "T.shape, X.shape, y.shape"
   ]
  },
  {
   "cell_type": "markdown",
   "id": "4db9ded1",
   "metadata": {},
   "source": [
    "**Misc**"
   ]
  },
  {
   "cell_type": "code",
   "execution_count": 67,
   "id": "c351f9ad",
   "metadata": {},
   "outputs": [
    {
     "name": "stdout",
     "output_type": "stream",
     "text": [
      "359\n"
     ]
    }
   ],
   "source": [
    "import os.path\n",
    "\n",
    "subj_id, session_id, run_id = 1, 2, 13\n",
    "print(os.path.getsize(f'./raw/timeseries/subj0{subj_id}/timeseries_session{session_id:02d}_run{run_id:02d}.nii.gz'))"
   ]
  },
  {
   "cell_type": "code",
   "execution_count": 131,
   "id": "d970ad9b",
   "metadata": {},
   "outputs": [
    {
     "data": {
      "text/plain": [
       "((956, 2, 2), (956, 2))"
      ]
     },
     "execution_count": 131,
     "metadata": {},
     "output_type": "execute_result"
    }
   ],
   "source": [
    "z_idx = np.ix_(np.arange(0, X.shape[0]), [0, 1], [0, 1])\n",
    "X_dmn[z_idx].shape, X_dmn[:, [0, 1], [0, 1]].shape"
   ]
  },
  {
   "cell_type": "markdown",
   "id": "e101ea59",
   "metadata": {},
   "source": [
    "**Working with timeseries**"
   ]
  },
  {
   "cell_type": "markdown",
   "id": "522407ca",
   "metadata": {},
   "source": [
    "Loading data"
   ]
  },
  {
   "cell_type": "code",
   "execution_count": 4,
   "id": "01fef61e",
   "metadata": {},
   "outputs": [
    {
     "data": {
      "text/plain": [
       "((956, 226, 116), (956, 116, 116), (956,))"
      ]
     },
     "execution_count": 4,
     "metadata": {},
     "output_type": "execute_result"
    }
   ],
   "source": [
    "T_raw = np.load(\"T_subjects_15_nsd_vs_rest.npy\")[:, 1]\n",
    "X_raw = np.load(\"X_subjects_15_nsd_vs_rest.npy\")[:, 1]\n",
    "y = np.load(\"y_subjects_15_nsd_vs_rest.npy\")[1]\n",
    "T_raw.shape, X_raw.shape, y.shape"
   ]
  },
  {
   "cell_type": "markdown",
   "id": "4e6292fb",
   "metadata": {},
   "source": [
    "Brain networks"
   ]
  },
  {
   "cell_type": "code",
   "execution_count": 5,
   "id": "9d6aeead",
   "metadata": {},
   "outputs": [],
   "source": [
    "# visual cortex\n",
    "visual = list(range(42, 53+1))\n",
    "# sensorimotor network, somatomotor network (SMN)\n",
    "smn = [0, 1, 6, 7, 18, 19, 56, 57, 62, 63, 68, 69]\n",
    "# dorsal attention network (DAN), dorsal frontoparietal network (D-FPN)\n",
    "dan = [28, 29, 30, 31, 84, 85]\n",
    "# ventral attention network (VAN), ventral frontoparietal network (VFN), ventral attention system (VAS)\n",
    "van = [32, 33, 34, 35, 36, 37, 52, 53, 62, 63, 64, 65]\n",
    "# frontoparietal network (FPN), central executive network (CEN), lateral frontoparietal network (L-FPN)\n",
    "fpn = [6, 7, 10, 11, 12, 13, 60, 61, 64, 65]\n",
    "# limbic system, paleomammalian cortex\n",
    "limbic = list(range(30, 39+1)) + list(range(80, 87+1))\n",
    "# default mode network (DMN), default network, default state network, medial frontoparietal network (M-FPN)\n",
    "dmn = [22, 23, 34, 35, 36, 37, 38, 39, 64, 65, 66, 67]"
   ]
  },
  {
   "cell_type": "code",
   "execution_count": 6,
   "id": "12ae99bc",
   "metadata": {},
   "outputs": [
    {
     "data": {
      "text/plain": [
       "[([42, 43, 44, 45, 46, 47, 48, 49, 50, 51, 52, 53],\n",
       "  'visual cortex (12 regions)'),\n",
       " ([0, 1, 6, 7, 18, 19, 56, 57, 62, 63, 68, 69],\n",
       "  'sensorimotor network (SMN) (12 regions)'),\n",
       " ([28, 29, 30, 31, 84, 85], 'dorsal attention network (DAN) (6 regions)'),\n",
       " ([32, 33, 34, 35, 36, 37, 52, 53, 62, 63, 64, 65],\n",
       "  'ventral attention network (VAN) (12 regions)'),\n",
       " ([6, 7, 10, 11, 12, 13, 60, 61, 64, 65],\n",
       "  'frontoparietal network (FPN) (10 regions)'),\n",
       " ([30, 31, 32, 33, 34, 35, 36, 37, 38, 39, 80, 81, 82, 83, 84, 85, 86, 87],\n",
       "  'limbic system (18 regions)'),\n",
       " ([22, 23, 34, 35, 36, 37, 38, 39, 64, 65, 66, 67],\n",
       "  'default mode network (DMN) (12 regions)')]"
      ]
     },
     "execution_count": 6,
     "metadata": {},
     "output_type": "execute_result"
    }
   ],
   "source": [
    "brain_networks = [visual, smn, dan, van, fpn, limbic, dmn]\n",
    "brain_network_names = [\"visual cortex (12 regions)\",\n",
    "                       \"sensorimotor network (SMN) (12 regions)\",\n",
    "                       \"dorsal attention network (DAN) (6 regions)\",\n",
    "                       \"ventral attention network (VAN) (12 regions)\",\n",
    "                       \"frontoparietal network (FPN) (10 regions)\",\n",
    "                       \"limbic system (18 regions)\",\n",
    "                       \"default mode network (DMN) (12 regions)\"\n",
    "                      ]\n",
    "brain_short_network_names = [\"visual (12)\", \"SMN (12)\", \"DAN (6)\", \"VAN (12)\", \"FPN (10)\", \"limbic (18)\", \"DMN (12)\"]\n",
    "brain_networks_with_names = list(zip(brain_networks, brain_network_names))\n",
    "brain_networks_with_names"
   ]
  },
  {
   "cell_type": "markdown",
   "id": "906abc7c",
   "metadata": {},
   "source": [
    "MI estimators"
   ]
  },
  {
   "cell_type": "code",
   "execution_count": 4,
   "id": "0a0da5de",
   "metadata": {},
   "outputs": [],
   "source": [
    "def bivariate_mutual_information(X, Y):\n",
    "    r = np.corrcoef(X, Y)[0,1]\n",
    "    return -0.5 * np.log(1 - r**2)\n",
    "\n",
    "def H(sigma=1):\n",
    "    return 0.5 * np.log(2 * np.pi * np.e * sigma)\n",
    "\n",
    "def entropy(S):\n",
    "    n = S.shape[0]\n",
    "    return 0.5 * np.log((2 * np.pi * np.e) ** n * np.linalg.det(S))\n",
    "\n",
    "def gaussI(S):\n",
    "    return -0.5 * np.log(np.linalg.det(S))"
   ]
  },
  {
   "cell_type": "code",
   "execution_count": 5,
   "id": "8d18e908",
   "metadata": {},
   "outputs": [],
   "source": [
    "def gaussU_dim3(S):\n",
    "    if S.shape[0] != 3:\n",
    "        return gaussI(S)\n",
    "    rho_y_x2 = S[0, 2]\n",
    "    rho_y_x1 = S[0, 1]\n",
    "    if rho_y_x2 < rho_y_x1:\n",
    "        return np.log((1 - rho_y_x2 ** 2) / (1 - rho_y_x1 ** 2)) / 2\n",
    "    else:\n",
    "        return 0"
   ]
  },
  {
   "cell_type": "markdown",
   "id": "ddc29931",
   "metadata": {},
   "source": [
    "X_transformers"
   ]
  },
  {
   "cell_type": "code",
   "execution_count": 6,
   "id": "49e63f67",
   "metadata": {},
   "outputs": [],
   "source": [
    "def corrmat2vec(A, take_logm=False):\n",
    "    \"\"\"\n",
    "    Convert array of correlation matrices (A) to the object-feature table \n",
    "    \n",
    "    A.shape = (k, n, n)\n",
    "    k = number of runs\n",
    "    n = number of timeseries\n",
    "    A[i] = correlation matrix of i-th run\n",
    "    \n",
    "    log -- take matrix logarithm (standard symmetric positive definite matrix projection)\n",
    "    \"\"\"\n",
    "    k, n = A.shape[0], A.shape[1]\n",
    "    # note that A[i, j, j] = 1\n",
    "    A_vec = np.zeros((k, n * (n - 1) // 2))\n",
    "    triu_idx = np.triu_indices(n, 1)\n",
    "    \n",
    "    for i in range(k):\n",
    "        cur = logm(A[i]) if take_logm else A[i]\n",
    "        A_vec[i] = cur[triu_idx]\n",
    "        \n",
    "    return A_vec"
   ]
  },
  {
   "cell_type": "code",
   "execution_count": 25,
   "id": "60c079c0",
   "metadata": {},
   "outputs": [],
   "source": [
    "def genXk(X_bn, k, MI_estimator):\n",
    "    r = range(X_bn.shape[1])\n",
    "    n = X_bn.shape[0]\n",
    "    n_combs = len(list(combinations(r, k)))\n",
    "\n",
    "    Xk = np.zeros((n, n_combs))\n",
    "\n",
    "    for i, S in enumerate(X_bn):\n",
    "        for j, simplex in enumerate(combinations(r, k)):\n",
    "            simplex_idx = np.ix_(simplex, simplex)\n",
    "            Xk[i, j] = MI_estimator(S[simplex_idx])\n",
    "    return Xk\n",
    "\n",
    "def down_genX3_gaussU_dim3(X_bn):\n",
    "    k = 3\n",
    "    r = range(X_bn.shape[1])\n",
    "    n = X_bn.shape[0]\n",
    "    n_combs = len(list(combinations(r, k)))\n",
    "\n",
    "    Xk = np.zeros((n, n_combs))\n",
    "\n",
    "    for i, S in enumerate(X_bn):\n",
    "        for j, simplex in enumerate(combinations(r, k)):\n",
    "            simplex = list(simplex)\n",
    "            simplex[1], simplex[2] = simplex[2], simplex[1]\n",
    "            simplex_idx = np.ix_(simplex, simplex)\n",
    "            Xk[i, j] = gaussU_dim3(S[simplex_idx])\n",
    "    return Xk\n",
    "\n",
    "def get_gen_functor(ks, MI_estimator):\n",
    "    return (lambda X_bn: np.hstack(tuple(genXk(X_bn, k, MI_estimator) for k in ks)))\n",
    "\n",
    "def merge_functor(*args):\n",
    "    return (lambda X_bn: np.hstack(tuple(f(X_bn) for f in args)))"
   ]
  },
  {
   "cell_type": "code",
   "execution_count": 20,
   "id": "2b827dd8",
   "metadata": {},
   "outputs": [],
   "source": [
    "# X_transformers = [corrmat2vec,\n",
    "#                   get_gen_functor([2], mutual_information),\n",
    "#                   get_gen_functor([3], mutual_information),\n",
    "#                   get_gen_functor([4], mutual_information),\n",
    "#                   get_gen_functor([5], mutual_information),\n",
    "#                   get_gen_functor([6], mutual_information),\n",
    "#                   get_gen_functor([2, 3], mutual_information),\n",
    "#                   get_gen_functor([2, 3, 4, 5], mutual_information),\n",
    "#                   get_gen_functor([2, 3, 4, 5, 6], mutual_information)\n",
    "#                  ]\n",
    "# X_transformer_names = [\"correlation\",\n",
    "#                        \"gaussian MI, k = 2\",\n",
    "#                        \"gaussian MI, k = 3\",\n",
    "#                        \"gaussian MI, k = 4\",\n",
    "#                        \"gaussian MI, k = 5\",\n",
    "#                        \"gaussian MI, k = 6\",\n",
    "#                        \"gaussian MI, k = 2, 3\",\n",
    "#                        \"gaussian MI, k = 2, 3, 4, 5\",\n",
    "#                        \"gaussian MI, k = 2, 3, 4, 5, 6\",\n",
    "#                       ]\n",
    "# X_transformer_with_names = list(zip(X_transformers, X_transformer_names))\n",
    "X_transformer_with_names = [(corrmat2vec, \"correlation\"),\n",
    "                            (get_gen_functor([2], gaussI), \"gaussian MI, k = 2\"),\n",
    "                            (get_gen_functor([3], gaussI), \"gaussian MI, k = 3\"),\n",
    "                            (get_gen_functor([2, 3], gaussI), \"gaussian MI, k = 2, 3\"),\n",
    "                            (get_gen_functor([3], gaussU_dim3), \"gaussI + gaussU on 3 dim, k = 3\"),\n",
    "                            (get_gen_functor([2, 3], gaussU_dim3), \"gaussI + gaussU on 3 dim, k = 2, 3\"),\n",
    "                            (get_gen_functor([4], gaussI), \"gaussian MI, k = 4\"),\n",
    "                            (get_gen_functor([2, 3, 4], gaussI), \"gaussian MI, k = 2, 3, 4\"),\n",
    "                            (get_gen_functor([2, 3, 4], gaussU_dim3), \"gaussI + gaussU on 3 dim, k = 2, 3, 4\"),\n",
    "                           ]"
   ]
  },
  {
   "cell_type": "markdown",
   "id": "fd148db3",
   "metadata": {},
   "source": [
    "Scorers"
   ]
  },
  {
   "cell_type": "code",
   "execution_count": 7,
   "id": "92d2cee0",
   "metadata": {},
   "outputs": [],
   "source": [
    "def logistic_score(X, y, n_repeats=10, n_splits=5):\n",
    "#     X_train, X_test, y_train, y_test = train_test_split(X, y, test_size=0.2, random_state=31, shuffle=True)\n",
    "#     scaler = StandardScaler()\n",
    "#     model = LogisticRegression(C=5, max_iter=500, random_state=31)\n",
    "#     clf = Pipeline([(\"scaler\", scaler), (\"model\", model)]).fit(X_train, y_train)\n",
    "    accuracy = np.zeros((n_repeats, n_splits))\n",
    "    for i in tqdm(range(n_repeats)):\n",
    "        skf = StratifiedKFold(n_splits=n_splits, shuffle=True, random_state=i)\n",
    "        for j, (train_idx, test_idx) in enumerate(skf.split(X, y)):\n",
    "            X_train, X_test = X[train_idx], X[test_idx]\n",
    "            y_train, y_test = y[train_idx], y[test_idx]\n",
    "    \n",
    "            scaler = StandardScaler()\n",
    "            model = LogisticRegression(C=5, max_iter=1500, random_state=i*n_repeats+j)\n",
    "            clf = Pipeline([(\"scaler\", scaler), (\"model\", model)]).fit(X_train, y_train)\n",
    "\n",
    "            y_hat = clf.predict(X_test)\n",
    "\n",
    "            accuracy[i, j] = accuracy_score(y_test, y_hat)\n",
    "    # convenient in jupyter notebook: instantly print accuracy and do not print the last line return value (which could be an accuracy table)\n",
    "    return f\"{accuracy.mean():.5f} ± {accuracy.std():.5f}\""
   ]
  },
  {
   "cell_type": "code",
   "execution_count": 28,
   "id": "ee2006ff",
   "metadata": {},
   "outputs": [],
   "source": [
    "def mlp_score(X, y, n_repeats=10, n_splits=5):\n",
    "    accuracy = np.zeros((n_repeats, n_splits))\n",
    "    for i in tqdm(range(n_repeats)):\n",
    "        skf = StratifiedKFold(n_splits=n_splits, shuffle=True, random_state=i)\n",
    "        for j, (train_idx, test_idx) in enumerate(skf.split(X, y)):\n",
    "            X_train, X_test = X[train_idx], X[test_idx]\n",
    "            y_train, y_test = y[train_idx], y[test_idx]\n",
    "\n",
    "            scaler = StandardScaler()\n",
    "            model = MLPClassifier(random_state=i*n_repeats+j)\n",
    "            clf = Pipeline([(\"scaler\", scaler), (\"model\", model)]).fit(X_train, y_train)\n",
    "\n",
    "            y_hat = clf.predict(X_test)\n",
    "\n",
    "            accuracy[i, j] = accuracy_score(y_test, y_hat)\n",
    "    # convenient in jupyter notebook: instantly print accuracy and do not print the last line return value (which could be an accuracy table)\n",
    "    return f\"{accuracy.mean():.5f} ± {accuracy.std():.5f}\""
   ]
  },
  {
   "cell_type": "code",
   "execution_count": 45,
   "id": "50cebcdb",
   "metadata": {},
   "outputs": [],
   "source": [
    "def catboost_score(X, y, n_repeats=10, n_splits=5):\n",
    "    accuracy = np.zeros((n_repeats, n_splits))\n",
    "    for i in tqdm(range(n_repeats)):\n",
    "        skf = StratifiedKFold(n_splits=n_splits, shuffle=True, random_state=i)\n",
    "        for j, (train_idx, test_idx) in enumerate(skf.split(X, y)):\n",
    "            X_train, X_test = X[train_idx], X[test_idx]\n",
    "            y_train, y_test = y[train_idx], y[test_idx]\n",
    "\n",
    "            clf = CatBoostClassifier(random_seed=i*n_repeats+j, verbose=False).fit(X_train, y_train)\n",
    "\n",
    "            y_hat = clf.predict(X_test)\n",
    "\n",
    "            accuracy[i, j] = accuracy_score(y_test, y_hat)\n",
    "    # convenient in jupyter notebook: instantly print accuracy and do not print the last line return value (which could be an accuracy table)\n",
    "    return f\"{accuracy.mean():.5f} ± {accuracy.std():.5f}\""
   ]
  },
  {
   "cell_type": "code",
   "execution_count": 30,
   "id": "87b5cacf",
   "metadata": {},
   "outputs": [],
   "source": [
    "scorers = [logistic_score, mlp_score, catboost_score]\n",
    "scorer_names = [\"Logistic\", \"MLP\", \"CatBoost\"]\n",
    "scorers_with_names = list(zip(scorers, scorer_names))"
   ]
  },
  {
   "cell_type": "markdown",
   "id": "307ab912",
   "metadata": {},
   "source": [
    "Full test"
   ]
  },
  {
   "cell_type": "code",
   "execution_count": 8,
   "id": "b4161d18",
   "metadata": {},
   "outputs": [],
   "source": [
    "def cor_test_on_brain_networks(X_raw, y, brain_networks_with_names, X_transformer, scorer, n_repeats=10, ignore=tuple()):\n",
    "    \"\"\"\n",
    "    Test, how well feature generator X_transformer works on each brain network\n",
    "    TODO: X_transformer will get T_raw, now it get X_raw -- T_raw's correlation matrix\n",
    "    NOTE: scorer is simple crossvalidation with logistic regression;\n",
    "    for testing heavy simplicial models X_transformer(T_raw) = encoder(diagram(simplicial complex(T_raw))),\n",
    "    simplicial complex can be not full (particular dims, subsampling, <eps pruning),\n",
    "    scorer splits data in train/val (for hyperparameters)/test and uses decoder classifier\n",
    "    \"\"\"\n",
    "    scores = [None] * len(brain_networks_with_names)\n",
    "    for i, (brain_network, brain_network_name) in enumerate(brain_networks_with_names):\n",
    "        if i in ignore:\n",
    "            print(f\"{brain_network_name} ignored\")\n",
    "            scores[i] = \"Too long\"\n",
    "            continue\n",
    "        bn_idx = np.ix_(np.arange(0, X_raw.shape[0]), brain_network, brain_network)\n",
    "        X_bn = X_raw[bn_idx]\n",
    "        X = X_transformer(X_bn)\n",
    "        score = scorer(X, y, n_repeats=n_repeats)\n",
    "        # print(f\"Score {score} on {brain_network_name} network with {len(brain_network)} regions\")\n",
    "        scores[i] = score\n",
    "    return np.array(scores)"
   ]
  },
  {
   "cell_type": "code",
   "execution_count": 9,
   "id": "d84a2f78",
   "metadata": {},
   "outputs": [],
   "source": [
    "def ts_test_on_brain_networks(T_raw, y, brain_networks_with_names, T_transformer, scorer, n_repeats=10, ignore=tuple()):\n",
    "    \"\"\"\n",
    "    Test, how well feature generator X_transformer works on each brain network\n",
    "    TODO: X_transformer will get T_raw, now it get X_raw -- T_raw's correlation matrix\n",
    "    NOTE: scorer is simple crossvalidation with logistic regression;\n",
    "    for testing heavy simplicial models X_transformer(T_raw) = encoder(diagram(simplicial complex(T_raw))),\n",
    "    simplicial complex can be not full (particular dims, subsampling, <eps pruning),\n",
    "    scorer splits data in train/val (for hyperparameters)/test and uses decoder classifier\n",
    "    \"\"\"\n",
    "    scores = [None] * len(brain_networks_with_names)\n",
    "    for i, (brain_network, brain_network_name) in enumerate(brain_networks_with_names):\n",
    "        if i in ignore:\n",
    "            print(f\"{brain_network_name} ignored\")\n",
    "            scores[i] = \"Too long\"\n",
    "            continue\n",
    "        T_bn = T_raw[:, :, brain_network]\n",
    "        X = T_transformer(T_bn)\n",
    "        score = scorer(X, y, n_repeats=n_repeats)\n",
    "        # print(f\"Score {score} on {brain_network_name} network with {len(brain_network)} regions\")\n",
    "        scores[i] = score\n",
    "    return np.array(scores)"
   ]
  },
  {
   "cell_type": "code",
   "execution_count": 10,
   "id": "ff762cd0",
   "metadata": {},
   "outputs": [],
   "source": [
    "def full_test(T_raw, X_raw, y,\n",
    "              brain_networks_with_names,\n",
    "              X_transformer_with_names,\n",
    "              T_transformer_with_names,\n",
    "              scorers_with_names,\n",
    "              n_repeats=10):\n",
    "    _, brain_network_names = zip(*brain_networks_with_names)\n",
    "    X_transformer_names = []\n",
    "    T_transformer_names = []\n",
    "    if X_transformer_with_names is not None:\n",
    "        X_transformers, X_transformer_names = zip(*X_transformer_with_names)\n",
    "    if T_transformer_with_names is not None:\n",
    "        T_transformers, T_transformer_names = zip(*T_transformer_with_names)\n",
    "    ret = []\n",
    "    for scorer, scorer_name in scorers_with_names:\n",
    "        res = []\n",
    "        if X_transformer_with_names is not None:\n",
    "            for X_transformer, X_transformer_name in X_transformer_with_names:\n",
    "                cur = cor_test_on_brain_networks(X_raw, y, brain_networks_with_names, X_transformer, scorer, n_repeats=n_repeats)\n",
    "                res.append(cur)\n",
    "                print(f\"Scores {cur} by scorer {scorer_name} with {X_transformer_name} transformer\")\n",
    "        if T_transformer_with_names is not None:\n",
    "            for T_transformer, T_transformer_name in T_transformer_with_names:\n",
    "                cur = ts_test_on_brain_networks(T_raw, y, brain_networks_with_names, T_transformer, scorer, n_repeats=n_repeats)\n",
    "                res.append(cur)\n",
    "                print(f\"Scores {cur} by scorer {scorer_name} with {T_transformer_name} transformer\")\n",
    "        df = pd.DataFrame(data=res, columns=brain_network_names, index=X_transformer_names + T_transformer_names)\n",
    "        df.style.set_caption(f\"Scorer: {scorer_name}\")\n",
    "        ret.append(df)\n",
    "    return ret"
   ]
  },
  {
   "cell_type": "code",
   "execution_count": 26,
   "id": "02066f45",
   "metadata": {},
   "outputs": [
    {
     "data": {
      "application/vnd.jupyter.widget-view+json": {
       "model_id": "d471aa009ab54e74ab362638e45f3a7c",
       "version_major": 2,
       "version_minor": 0
      },
      "text/plain": [
       "  0%|          | 0/10 [00:00<?, ?it/s]"
      ]
     },
     "metadata": {},
     "output_type": "display_data"
    },
    {
     "data": {
      "application/vnd.jupyter.widget-view+json": {
       "model_id": "b3e6d8e88bed4d5396feb9237b8cd86b",
       "version_major": 2,
       "version_minor": 0
      },
      "text/plain": [
       "  0%|          | 0/10 [00:00<?, ?it/s]"
      ]
     },
     "metadata": {},
     "output_type": "display_data"
    },
    {
     "data": {
      "application/vnd.jupyter.widget-view+json": {
       "model_id": "59645cc322ca422bb000d26bf58febc7",
       "version_major": 2,
       "version_minor": 0
      },
      "text/plain": [
       "  0%|          | 0/10 [00:00<?, ?it/s]"
      ]
     },
     "metadata": {},
     "output_type": "display_data"
    },
    {
     "data": {
      "application/vnd.jupyter.widget-view+json": {
       "model_id": "6fc5e781b5f24e6396032d8dfc20c556",
       "version_major": 2,
       "version_minor": 0
      },
      "text/plain": [
       "  0%|          | 0/10 [00:00<?, ?it/s]"
      ]
     },
     "metadata": {},
     "output_type": "display_data"
    },
    {
     "data": {
      "application/vnd.jupyter.widget-view+json": {
       "model_id": "c799e081c9b34f5a8f7340417c22e0fc",
       "version_major": 2,
       "version_minor": 0
      },
      "text/plain": [
       "  0%|          | 0/10 [00:00<?, ?it/s]"
      ]
     },
     "metadata": {},
     "output_type": "display_data"
    },
    {
     "data": {
      "application/vnd.jupyter.widget-view+json": {
       "model_id": "6ae6b928c3b04f06998162f749892ece",
       "version_major": 2,
       "version_minor": 0
      },
      "text/plain": [
       "  0%|          | 0/10 [00:00<?, ?it/s]"
      ]
     },
     "metadata": {},
     "output_type": "display_data"
    },
    {
     "name": "stdout",
     "output_type": "stream",
     "text": [
      "Scores ['0.78515 ± 0.02589' '0.76831 ± 0.02676' '0.67606 ± 0.03043'\n",
      " '0.77134 ± 0.02904' '0.76340 ± 0.02740' '0.78139 ± 0.02631'] by scorer Logistic with correlation transformer\n"
     ]
    },
    {
     "data": {
      "application/vnd.jupyter.widget-view+json": {
       "model_id": "503aba49806a423bbf2529c372154160",
       "version_major": 2,
       "version_minor": 0
      },
      "text/plain": [
       "  0%|          | 0/10 [00:00<?, ?it/s]"
      ]
     },
     "metadata": {},
     "output_type": "display_data"
    },
    {
     "data": {
      "application/vnd.jupyter.widget-view+json": {
       "model_id": "b6d8a4f10de04a5392ab34156ad01251",
       "version_major": 2,
       "version_minor": 0
      },
      "text/plain": [
       "  0%|          | 0/10 [00:00<?, ?it/s]"
      ]
     },
     "metadata": {},
     "output_type": "display_data"
    },
    {
     "data": {
      "application/vnd.jupyter.widget-view+json": {
       "model_id": "83fc52d8757a402388ce272369e195cd",
       "version_major": 2,
       "version_minor": 0
      },
      "text/plain": [
       "  0%|          | 0/10 [00:00<?, ?it/s]"
      ]
     },
     "metadata": {},
     "output_type": "display_data"
    },
    {
     "data": {
      "application/vnd.jupyter.widget-view+json": {
       "model_id": "54a6d0ef6c0944e9af409964ba244b89",
       "version_major": 2,
       "version_minor": 0
      },
      "text/plain": [
       "  0%|          | 0/10 [00:00<?, ?it/s]"
      ]
     },
     "metadata": {},
     "output_type": "display_data"
    },
    {
     "data": {
      "application/vnd.jupyter.widget-view+json": {
       "model_id": "e81e0e062bf6403e88dc85cccafbba11",
       "version_major": 2,
       "version_minor": 0
      },
      "text/plain": [
       "  0%|          | 0/10 [00:00<?, ?it/s]"
      ]
     },
     "metadata": {},
     "output_type": "display_data"
    },
    {
     "data": {
      "application/vnd.jupyter.widget-view+json": {
       "model_id": "a89fca32709f4202b3b3ae3af5d067e6",
       "version_major": 2,
       "version_minor": 0
      },
      "text/plain": [
       "  0%|          | 0/10 [00:00<?, ?it/s]"
      ]
     },
     "metadata": {},
     "output_type": "display_data"
    },
    {
     "name": "stdout",
     "output_type": "stream",
     "text": [
      "Scores ['0.76342 ± 0.02634' '0.76234 ± 0.02594' '0.66495 ± 0.02922'\n",
      " '0.78514 ± 0.02513' '0.77124 ± 0.02648' '0.77877 ± 0.02603'] by scorer Logistic with gaussI, k = 2 transformer\n"
     ]
    },
    {
     "data": {
      "application/vnd.jupyter.widget-view+json": {
       "model_id": "d48ed7c96e6f4666926d6a22d1e31e8c",
       "version_major": 2,
       "version_minor": 0
      },
      "text/plain": [
       "  0%|          | 0/10 [00:00<?, ?it/s]"
      ]
     },
     "metadata": {},
     "output_type": "display_data"
    },
    {
     "data": {
      "application/vnd.jupyter.widget-view+json": {
       "model_id": "f4f21a20f04d4c1a94ad64daa9ab3b36",
       "version_major": 2,
       "version_minor": 0
      },
      "text/plain": [
       "  0%|          | 0/10 [00:00<?, ?it/s]"
      ]
     },
     "metadata": {},
     "output_type": "display_data"
    },
    {
     "data": {
      "application/vnd.jupyter.widget-view+json": {
       "model_id": "d8457a2204984cf1bbb82d7da698a9f7",
       "version_major": 2,
       "version_minor": 0
      },
      "text/plain": [
       "  0%|          | 0/10 [00:00<?, ?it/s]"
      ]
     },
     "metadata": {},
     "output_type": "display_data"
    },
    {
     "data": {
      "application/vnd.jupyter.widget-view+json": {
       "model_id": "98b05a73188d4bd29e89a6a136ec0bb4",
       "version_major": 2,
       "version_minor": 0
      },
      "text/plain": [
       "  0%|          | 0/10 [00:00<?, ?it/s]"
      ]
     },
     "metadata": {},
     "output_type": "display_data"
    },
    {
     "data": {
      "application/vnd.jupyter.widget-view+json": {
       "model_id": "600a06e1d42841749f18afc4fea9fd40",
       "version_major": 2,
       "version_minor": 0
      },
      "text/plain": [
       "  0%|          | 0/10 [00:00<?, ?it/s]"
      ]
     },
     "metadata": {},
     "output_type": "display_data"
    },
    {
     "data": {
      "application/vnd.jupyter.widget-view+json": {
       "model_id": "ace4a0438d324896b06dbc7057be3f01",
       "version_major": 2,
       "version_minor": 0
      },
      "text/plain": [
       "  0%|          | 0/10 [00:00<?, ?it/s]"
      ]
     },
     "metadata": {},
     "output_type": "display_data"
    },
    {
     "name": "stdout",
     "output_type": "stream",
     "text": [
      "Scores ['0.78737 ± 0.02701' '0.77238 ± 0.02184' '0.68911 ± 0.02680'\n",
      " '0.80387 ± 0.02596' '0.77187 ± 0.02646' '0.79048 ± 0.02947'] by scorer Logistic with gaussI, k = 3 transformer\n"
     ]
    },
    {
     "data": {
      "application/vnd.jupyter.widget-view+json": {
       "model_id": "9ddf832c82b7411eb28866d51a0d2770",
       "version_major": 2,
       "version_minor": 0
      },
      "text/plain": [
       "  0%|          | 0/10 [00:00<?, ?it/s]"
      ]
     },
     "metadata": {},
     "output_type": "display_data"
    },
    {
     "data": {
      "application/vnd.jupyter.widget-view+json": {
       "model_id": "c7d284caeed14d658bf5b65997dd0f48",
       "version_major": 2,
       "version_minor": 0
      },
      "text/plain": [
       "  0%|          | 0/10 [00:00<?, ?it/s]"
      ]
     },
     "metadata": {},
     "output_type": "display_data"
    },
    {
     "data": {
      "application/vnd.jupyter.widget-view+json": {
       "model_id": "645a7691e6a94ec9b0dfe74a4e121e99",
       "version_major": 2,
       "version_minor": 0
      },
      "text/plain": [
       "  0%|          | 0/10 [00:00<?, ?it/s]"
      ]
     },
     "metadata": {},
     "output_type": "display_data"
    },
    {
     "data": {
      "application/vnd.jupyter.widget-view+json": {
       "model_id": "affe38c0099e4b19948cc894d381acea",
       "version_major": 2,
       "version_minor": 0
      },
      "text/plain": [
       "  0%|          | 0/10 [00:00<?, ?it/s]"
      ]
     },
     "metadata": {},
     "output_type": "display_data"
    },
    {
     "data": {
      "application/vnd.jupyter.widget-view+json": {
       "model_id": "cdd9e725eaee46eabe10c95b948e506e",
       "version_major": 2,
       "version_minor": 0
      },
      "text/plain": [
       "  0%|          | 0/10 [00:00<?, ?it/s]"
      ]
     },
     "metadata": {},
     "output_type": "display_data"
    },
    {
     "data": {
      "application/vnd.jupyter.widget-view+json": {
       "model_id": "469ac8ca8fc1469f8ede41bfb9483856",
       "version_major": 2,
       "version_minor": 0
      },
      "text/plain": [
       "  0%|          | 0/10 [00:00<?, ?it/s]"
      ]
     },
     "metadata": {},
     "output_type": "display_data"
    },
    {
     "name": "stdout",
     "output_type": "stream",
     "text": [
      "Scores ['0.78214 ± 0.02561' '0.78421 ± 0.02253' '0.70240 ± 0.03299'\n",
      " '0.79508 ± 0.02557' '0.77009 ± 0.02804' '0.79645 ± 0.02933'] by scorer Logistic with gaussI, k = 2, 3 transformer\n"
     ]
    },
    {
     "data": {
      "application/vnd.jupyter.widget-view+json": {
       "model_id": "d0890f807d214f97beda8d179163d81e",
       "version_major": 2,
       "version_minor": 0
      },
      "text/plain": [
       "  0%|          | 0/10 [00:00<?, ?it/s]"
      ]
     },
     "metadata": {},
     "output_type": "display_data"
    },
    {
     "data": {
      "application/vnd.jupyter.widget-view+json": {
       "model_id": "82bd96f3d7574a0ba1d5b6a32fd433b9",
       "version_major": 2,
       "version_minor": 0
      },
      "text/plain": [
       "  0%|          | 0/10 [00:00<?, ?it/s]"
      ]
     },
     "metadata": {},
     "output_type": "display_data"
    },
    {
     "data": {
      "application/vnd.jupyter.widget-view+json": {
       "model_id": "3d48e61954ec4cd7a4c1b46174d8b87b",
       "version_major": 2,
       "version_minor": 0
      },
      "text/plain": [
       "  0%|          | 0/10 [00:00<?, ?it/s]"
      ]
     },
     "metadata": {},
     "output_type": "display_data"
    },
    {
     "data": {
      "application/vnd.jupyter.widget-view+json": {
       "model_id": "51e8e66e63ae4a75bdc1b3af05f328e9",
       "version_major": 2,
       "version_minor": 0
      },
      "text/plain": [
       "  0%|          | 0/10 [00:00<?, ?it/s]"
      ]
     },
     "metadata": {},
     "output_type": "display_data"
    },
    {
     "data": {
      "application/vnd.jupyter.widget-view+json": {
       "model_id": "a34d28aaea0345079042a15dd6a3a09d",
       "version_major": 2,
       "version_minor": 0
      },
      "text/plain": [
       "  0%|          | 0/10 [00:00<?, ?it/s]"
      ]
     },
     "metadata": {},
     "output_type": "display_data"
    },
    {
     "data": {
      "application/vnd.jupyter.widget-view+json": {
       "model_id": "ecfb1d97c6de4fe29a0e58c6efff2d9f",
       "version_major": 2,
       "version_minor": 0
      },
      "text/plain": [
       "  0%|          | 0/10 [00:00<?, ?it/s]"
      ]
     },
     "metadata": {},
     "output_type": "display_data"
    },
    {
     "name": "stdout",
     "output_type": "stream",
     "text": [
      "Scores ['0.77742 ± 0.02769' '0.73984 ± 0.02952' '0.63327 ± 0.02481'\n",
      " '0.75126 ± 0.02988' '0.76236 ± 0.03006' '0.74362 ± 0.02823'] by scorer Logistic with up gaussU, k = 3 transformer\n"
     ]
    },
    {
     "data": {
      "application/vnd.jupyter.widget-view+json": {
       "model_id": "677aa2ff24a3481cb22feea365bb0b68",
       "version_major": 2,
       "version_minor": 0
      },
      "text/plain": [
       "  0%|          | 0/10 [00:00<?, ?it/s]"
      ]
     },
     "metadata": {},
     "output_type": "display_data"
    },
    {
     "data": {
      "application/vnd.jupyter.widget-view+json": {
       "model_id": "a016dc1c308b4fed9deb8ac2b469fafa",
       "version_major": 2,
       "version_minor": 0
      },
      "text/plain": [
       "  0%|          | 0/10 [00:00<?, ?it/s]"
      ]
     },
     "metadata": {},
     "output_type": "display_data"
    },
    {
     "data": {
      "application/vnd.jupyter.widget-view+json": {
       "model_id": "4239683009ef45aea6f94692a84cb717",
       "version_major": 2,
       "version_minor": 0
      },
      "text/plain": [
       "  0%|          | 0/10 [00:00<?, ?it/s]"
      ]
     },
     "metadata": {},
     "output_type": "display_data"
    },
    {
     "data": {
      "application/vnd.jupyter.widget-view+json": {
       "model_id": "ca113e766c444776a98fde080e58fa0d",
       "version_major": 2,
       "version_minor": 0
      },
      "text/plain": [
       "  0%|          | 0/10 [00:00<?, ?it/s]"
      ]
     },
     "metadata": {},
     "output_type": "display_data"
    },
    {
     "data": {
      "application/vnd.jupyter.widget-view+json": {
       "model_id": "44159f0065664a11afe58333716acfcc",
       "version_major": 2,
       "version_minor": 0
      },
      "text/plain": [
       "  0%|          | 0/10 [00:00<?, ?it/s]"
      ]
     },
     "metadata": {},
     "output_type": "display_data"
    },
    {
     "data": {
      "application/vnd.jupyter.widget-view+json": {
       "model_id": "5128560ae1874d50a20cb2e059ff4caf",
       "version_major": 2,
       "version_minor": 0
      },
      "text/plain": [
       "  0%|          | 0/10 [00:00<?, ?it/s]"
      ]
     },
     "metadata": {},
     "output_type": "display_data"
    },
    {
     "name": "stdout",
     "output_type": "stream",
     "text": [
      "Scores ['0.74342 ± 0.02984' '0.71819 ± 0.03062' '0.60973 ± 0.03156'\n",
      " '0.71821 ± 0.02724' '0.74195 ± 0.03248' '0.73462 ± 0.03074'] by scorer Logistic with down gaussU, k = 3 transformer\n"
     ]
    },
    {
     "data": {
      "application/vnd.jupyter.widget-view+json": {
       "model_id": "6d9a340d0a5a44a5ae7a03de7402a9df",
       "version_major": 2,
       "version_minor": 0
      },
      "text/plain": [
       "  0%|          | 0/10 [00:00<?, ?it/s]"
      ]
     },
     "metadata": {},
     "output_type": "display_data"
    },
    {
     "data": {
      "application/vnd.jupyter.widget-view+json": {
       "model_id": "4a1b705020054b88ac5e63ee665a92ab",
       "version_major": 2,
       "version_minor": 0
      },
      "text/plain": [
       "  0%|          | 0/10 [00:00<?, ?it/s]"
      ]
     },
     "metadata": {},
     "output_type": "display_data"
    },
    {
     "data": {
      "application/vnd.jupyter.widget-view+json": {
       "model_id": "515354af4073405bb6d4b2ae34b584ca",
       "version_major": 2,
       "version_minor": 0
      },
      "text/plain": [
       "  0%|          | 0/10 [00:00<?, ?it/s]"
      ]
     },
     "metadata": {},
     "output_type": "display_data"
    },
    {
     "data": {
      "application/vnd.jupyter.widget-view+json": {
       "model_id": "ac780b73a0914d63b443077b8709652d",
       "version_major": 2,
       "version_minor": 0
      },
      "text/plain": [
       "  0%|          | 0/10 [00:00<?, ?it/s]"
      ]
     },
     "metadata": {},
     "output_type": "display_data"
    },
    {
     "data": {
      "application/vnd.jupyter.widget-view+json": {
       "model_id": "c31b9874233040efa5ffaf80758da6f2",
       "version_major": 2,
       "version_minor": 0
      },
      "text/plain": [
       "  0%|          | 0/10 [00:00<?, ?it/s]"
      ]
     },
     "metadata": {},
     "output_type": "display_data"
    },
    {
     "data": {
      "application/vnd.jupyter.widget-view+json": {
       "model_id": "9b9ca9b73fc6432e93a11f499e98b64a",
       "version_major": 2,
       "version_minor": 0
      },
      "text/plain": [
       "  0%|          | 0/10 [00:00<?, ?it/s]"
      ]
     },
     "metadata": {},
     "output_type": "display_data"
    },
    {
     "name": "stdout",
     "output_type": "stream",
     "text": [
      "Scores ['0.75734 ± 0.02968' '0.72384 ± 0.02765' '0.64341 ± 0.02683'\n",
      " '0.73577 ± 0.02614' '0.74970 ± 0.02810' '0.73315 ± 0.02655'] by scorer Logistic with both gaussU, k = 3 transformer\n"
     ]
    },
    {
     "data": {
      "application/vnd.jupyter.widget-view+json": {
       "model_id": "b5c2f01f2174420b9cb4f995374b79d2",
       "version_major": 2,
       "version_minor": 0
      },
      "text/plain": [
       "  0%|          | 0/10 [00:00<?, ?it/s]"
      ]
     },
     "metadata": {},
     "output_type": "display_data"
    },
    {
     "data": {
      "application/vnd.jupyter.widget-view+json": {
       "model_id": "2680d327746d410bad7f0fa6c537b69a",
       "version_major": 2,
       "version_minor": 0
      },
      "text/plain": [
       "  0%|          | 0/10 [00:00<?, ?it/s]"
      ]
     },
     "metadata": {},
     "output_type": "display_data"
    },
    {
     "data": {
      "application/vnd.jupyter.widget-view+json": {
       "model_id": "d85899279c0b41fab42e2299f01221ea",
       "version_major": 2,
       "version_minor": 0
      },
      "text/plain": [
       "  0%|          | 0/10 [00:00<?, ?it/s]"
      ]
     },
     "metadata": {},
     "output_type": "display_data"
    },
    {
     "data": {
      "application/vnd.jupyter.widget-view+json": {
       "model_id": "b8d5a87fd0914a55af93835113a5c196",
       "version_major": 2,
       "version_minor": 0
      },
      "text/plain": [
       "  0%|          | 0/10 [00:00<?, ?it/s]"
      ]
     },
     "metadata": {},
     "output_type": "display_data"
    },
    {
     "data": {
      "application/vnd.jupyter.widget-view+json": {
       "model_id": "75731b56360a403393ae83847990e91d",
       "version_major": 2,
       "version_minor": 0
      },
      "text/plain": [
       "  0%|          | 0/10 [00:00<?, ?it/s]"
      ]
     },
     "metadata": {},
     "output_type": "display_data"
    },
    {
     "data": {
      "application/vnd.jupyter.widget-view+json": {
       "model_id": "07a3de513ef9404dbccb5f758b1a7f31",
       "version_major": 2,
       "version_minor": 0
      },
      "text/plain": [
       "  0%|          | 0/10 [00:00<?, ?it/s]"
      ]
     },
     "metadata": {},
     "output_type": "display_data"
    },
    {
     "name": "stdout",
     "output_type": "stream",
     "text": [
      "Scores ['0.76256 ± 0.02757' '0.73545 ± 0.02607' '0.69529 ± 0.02607'\n",
      " '0.75103 ± 0.02854' '0.75304 ± 0.03558' '0.74791 ± 0.02686'] by scorer Logistic with gaussI + both gaussU, k = 3 transformer\n"
     ]
    },
    {
     "data": {
      "application/vnd.jupyter.widget-view+json": {
       "model_id": "72fadc47f60d42539eafdcfa98d9f7c1",
       "version_major": 2,
       "version_minor": 0
      },
      "text/plain": [
       "  0%|          | 0/10 [00:00<?, ?it/s]"
      ]
     },
     "metadata": {},
     "output_type": "display_data"
    },
    {
     "data": {
      "application/vnd.jupyter.widget-view+json": {
       "model_id": "c9affd15df6343aa9011bec0e206e1d0",
       "version_major": 2,
       "version_minor": 0
      },
      "text/plain": [
       "  0%|          | 0/10 [00:00<?, ?it/s]"
      ]
     },
     "metadata": {},
     "output_type": "display_data"
    },
    {
     "data": {
      "application/vnd.jupyter.widget-view+json": {
       "model_id": "12a72e447a344a84882d8c81d197bd88",
       "version_major": 2,
       "version_minor": 0
      },
      "text/plain": [
       "  0%|          | 0/10 [00:00<?, ?it/s]"
      ]
     },
     "metadata": {},
     "output_type": "display_data"
    },
    {
     "data": {
      "application/vnd.jupyter.widget-view+json": {
       "model_id": "67abf49e63da4507b5ef8df7441d7ff1",
       "version_major": 2,
       "version_minor": 0
      },
      "text/plain": [
       "  0%|          | 0/10 [00:00<?, ?it/s]"
      ]
     },
     "metadata": {},
     "output_type": "display_data"
    },
    {
     "data": {
      "application/vnd.jupyter.widget-view+json": {
       "model_id": "ea638d3dda7c4d04a4341b2ee3995af4",
       "version_major": 2,
       "version_minor": 0
      },
      "text/plain": [
       "  0%|          | 0/10 [00:00<?, ?it/s]"
      ]
     },
     "metadata": {},
     "output_type": "display_data"
    },
    {
     "data": {
      "application/vnd.jupyter.widget-view+json": {
       "model_id": "7e65ea58c94b43e38baaf053712ebf02",
       "version_major": 2,
       "version_minor": 0
      },
      "text/plain": [
       "  0%|          | 0/10 [00:00<?, ?it/s]"
      ]
     },
     "metadata": {},
     "output_type": "display_data"
    },
    {
     "name": "stdout",
     "output_type": "stream",
     "text": [
      "Scores ['0.76267 ± 0.02707' '0.73744 ± 0.02576' '0.70220 ± 0.02781'\n",
      " '0.75334 ± 0.02811' '0.75284 ± 0.03669' '0.74718 ± 0.02697'] by scorer Logistic with gaussI (2, 3) + both gaussU (3) transformer\n"
     ]
    }
   ],
   "source": [
    "brain_networks = [visual, smn, dan, van, fpn, dmn]\n",
    "brain_network_names = [\"visual cortex (12 regions)\",\n",
    "                       \"sensorimotor network (SMN) (12 regions)\",\n",
    "                       \"dorsal attention network (DAN) (6 regions)\",\n",
    "                       \"ventral attention network (VAN) (12 regions)\",\n",
    "                       \"frontoparietal network (FPN) (10 regions)\",\n",
    "                       \"default mode network (DMN) (12 regions)\"\n",
    "                      ]\n",
    "brain_networks_with_names = list(zip(brain_networks, brain_network_names))\n",
    "\n",
    "X_transformer_with_names = [(corrmat2vec, \"correlation\"),\n",
    "                            (get_gen_functor([2], gaussI), \"gaussI, k = 2\"),\n",
    "                            (get_gen_functor([3], gaussI), \"gaussI, k = 3\"),\n",
    "                            (get_gen_functor([2, 3], gaussI), \"gaussI, k = 2, 3\"),\n",
    "                            (get_gen_functor([3], gaussU_dim3), \"up gaussU, k = 3\"),\n",
    "                            (down_genX3_gaussU_dim3, \"down gaussU, k = 3\"),\n",
    "                            (merge_functor(get_gen_functor([3], gaussU_dim3), down_genX3_gaussU_dim3), \"both gaussU, k = 3\"),\n",
    "                            (merge_functor(get_gen_functor([3], gaussI),\n",
    "                                           get_gen_functor([3], gaussU_dim3),\n",
    "                                           down_genX3_gaussU_dim3), \"gaussI + both gaussU, k = 3\"),\n",
    "                            (merge_functor(get_gen_functor([2, 3], gaussI),\n",
    "                                           get_gen_functor([3], gaussU_dim3),\n",
    "                                           down_genX3_gaussU_dim3), \"gaussI (2, 3) + both gaussU (3)\")\n",
    "                           ]\n",
    "\n",
    "scorers = [logistic_score]\n",
    "scorer_names = [\"Logistic\"]\n",
    "scorers_with_names = list(zip(scorers, scorer_names))\n",
    "\n",
    "ret = full_test(X_raw, y, brain_networks_with_names, X_transformer_with_names, scorers_with_names, n_repeats=10)"
   ]
  },
  {
   "cell_type": "code",
   "execution_count": 27,
   "id": "598aed14",
   "metadata": {},
   "outputs": [
    {
     "data": {
      "text/html": [
       "<div>\n",
       "<style scoped>\n",
       "    .dataframe tbody tr th:only-of-type {\n",
       "        vertical-align: middle;\n",
       "    }\n",
       "\n",
       "    .dataframe tbody tr th {\n",
       "        vertical-align: top;\n",
       "    }\n",
       "\n",
       "    .dataframe thead th {\n",
       "        text-align: right;\n",
       "    }\n",
       "</style>\n",
       "<table border=\"1\" class=\"dataframe\">\n",
       "  <thead>\n",
       "    <tr style=\"text-align: right;\">\n",
       "      <th></th>\n",
       "      <th>visual cortex (12 regions)</th>\n",
       "      <th>sensorimotor network (SMN) (12 regions)</th>\n",
       "      <th>dorsal attention network (DAN) (6 regions)</th>\n",
       "      <th>ventral attention network (VAN) (12 regions)</th>\n",
       "      <th>frontoparietal network (FPN) (10 regions)</th>\n",
       "      <th>default mode network (DMN) (12 regions)</th>\n",
       "    </tr>\n",
       "  </thead>\n",
       "  <tbody>\n",
       "    <tr>\n",
       "      <th>correlation</th>\n",
       "      <td>0.78515 ± 0.02589</td>\n",
       "      <td>0.76831 ± 0.02676</td>\n",
       "      <td>0.67606 ± 0.03043</td>\n",
       "      <td>0.77134 ± 0.02904</td>\n",
       "      <td>0.76340 ± 0.02740</td>\n",
       "      <td>0.78139 ± 0.02631</td>\n",
       "    </tr>\n",
       "    <tr>\n",
       "      <th>gaussI, k = 2</th>\n",
       "      <td>0.76342 ± 0.02634</td>\n",
       "      <td>0.76234 ± 0.02594</td>\n",
       "      <td>0.66495 ± 0.02922</td>\n",
       "      <td>0.78514 ± 0.02513</td>\n",
       "      <td>0.77124 ± 0.02648</td>\n",
       "      <td>0.77877 ± 0.02603</td>\n",
       "    </tr>\n",
       "    <tr>\n",
       "      <th>gaussI, k = 3</th>\n",
       "      <td>0.78737 ± 0.02701</td>\n",
       "      <td>0.77238 ± 0.02184</td>\n",
       "      <td>0.68911 ± 0.02680</td>\n",
       "      <td>0.80387 ± 0.02596</td>\n",
       "      <td>0.77187 ± 0.02646</td>\n",
       "      <td>0.79048 ± 0.02947</td>\n",
       "    </tr>\n",
       "    <tr>\n",
       "      <th>gaussI, k = 2, 3</th>\n",
       "      <td>0.78214 ± 0.02561</td>\n",
       "      <td>0.78421 ± 0.02253</td>\n",
       "      <td>0.70240 ± 0.03299</td>\n",
       "      <td>0.79508 ± 0.02557</td>\n",
       "      <td>0.77009 ± 0.02804</td>\n",
       "      <td>0.79645 ± 0.02933</td>\n",
       "    </tr>\n",
       "    <tr>\n",
       "      <th>up gaussU, k = 3</th>\n",
       "      <td>0.77742 ± 0.02769</td>\n",
       "      <td>0.73984 ± 0.02952</td>\n",
       "      <td>0.63327 ± 0.02481</td>\n",
       "      <td>0.75126 ± 0.02988</td>\n",
       "      <td>0.76236 ± 0.03006</td>\n",
       "      <td>0.74362 ± 0.02823</td>\n",
       "    </tr>\n",
       "    <tr>\n",
       "      <th>down gaussU, k = 3</th>\n",
       "      <td>0.74342 ± 0.02984</td>\n",
       "      <td>0.71819 ± 0.03062</td>\n",
       "      <td>0.60973 ± 0.03156</td>\n",
       "      <td>0.71821 ± 0.02724</td>\n",
       "      <td>0.74195 ± 0.03248</td>\n",
       "      <td>0.73462 ± 0.03074</td>\n",
       "    </tr>\n",
       "    <tr>\n",
       "      <th>both gaussU, k = 3</th>\n",
       "      <td>0.75734 ± 0.02968</td>\n",
       "      <td>0.72384 ± 0.02765</td>\n",
       "      <td>0.64341 ± 0.02683</td>\n",
       "      <td>0.73577 ± 0.02614</td>\n",
       "      <td>0.74970 ± 0.02810</td>\n",
       "      <td>0.73315 ± 0.02655</td>\n",
       "    </tr>\n",
       "    <tr>\n",
       "      <th>gaussI + both gaussU, k = 3</th>\n",
       "      <td>0.76256 ± 0.02757</td>\n",
       "      <td>0.73545 ± 0.02607</td>\n",
       "      <td>0.69529 ± 0.02607</td>\n",
       "      <td>0.75103 ± 0.02854</td>\n",
       "      <td>0.75304 ± 0.03558</td>\n",
       "      <td>0.74791 ± 0.02686</td>\n",
       "    </tr>\n",
       "    <tr>\n",
       "      <th>gaussI (2, 3) + both gaussU (3)</th>\n",
       "      <td>0.76267 ± 0.02707</td>\n",
       "      <td>0.73744 ± 0.02576</td>\n",
       "      <td>0.70220 ± 0.02781</td>\n",
       "      <td>0.75334 ± 0.02811</td>\n",
       "      <td>0.75284 ± 0.03669</td>\n",
       "      <td>0.74718 ± 0.02697</td>\n",
       "    </tr>\n",
       "  </tbody>\n",
       "</table>\n",
       "</div>"
      ],
      "text/plain": [
       "                                visual cortex (12 regions)  \\\n",
       "correlation                              0.78515 ± 0.02589   \n",
       "gaussI, k = 2                            0.76342 ± 0.02634   \n",
       "gaussI, k = 3                            0.78737 ± 0.02701   \n",
       "gaussI, k = 2, 3                         0.78214 ± 0.02561   \n",
       "up gaussU, k = 3                         0.77742 ± 0.02769   \n",
       "down gaussU, k = 3                       0.74342 ± 0.02984   \n",
       "both gaussU, k = 3                       0.75734 ± 0.02968   \n",
       "gaussI + both gaussU, k = 3              0.76256 ± 0.02757   \n",
       "gaussI (2, 3) + both gaussU (3)          0.76267 ± 0.02707   \n",
       "\n",
       "                                sensorimotor network (SMN) (12 regions)  \\\n",
       "correlation                                           0.76831 ± 0.02676   \n",
       "gaussI, k = 2                                         0.76234 ± 0.02594   \n",
       "gaussI, k = 3                                         0.77238 ± 0.02184   \n",
       "gaussI, k = 2, 3                                      0.78421 ± 0.02253   \n",
       "up gaussU, k = 3                                      0.73984 ± 0.02952   \n",
       "down gaussU, k = 3                                    0.71819 ± 0.03062   \n",
       "both gaussU, k = 3                                    0.72384 ± 0.02765   \n",
       "gaussI + both gaussU, k = 3                           0.73545 ± 0.02607   \n",
       "gaussI (2, 3) + both gaussU (3)                       0.73744 ± 0.02576   \n",
       "\n",
       "                                dorsal attention network (DAN) (6 regions)  \\\n",
       "correlation                                              0.67606 ± 0.03043   \n",
       "gaussI, k = 2                                            0.66495 ± 0.02922   \n",
       "gaussI, k = 3                                            0.68911 ± 0.02680   \n",
       "gaussI, k = 2, 3                                         0.70240 ± 0.03299   \n",
       "up gaussU, k = 3                                         0.63327 ± 0.02481   \n",
       "down gaussU, k = 3                                       0.60973 ± 0.03156   \n",
       "both gaussU, k = 3                                       0.64341 ± 0.02683   \n",
       "gaussI + both gaussU, k = 3                              0.69529 ± 0.02607   \n",
       "gaussI (2, 3) + both gaussU (3)                          0.70220 ± 0.02781   \n",
       "\n",
       "                                ventral attention network (VAN) (12 regions)  \\\n",
       "correlation                                                0.77134 ± 0.02904   \n",
       "gaussI, k = 2                                              0.78514 ± 0.02513   \n",
       "gaussI, k = 3                                              0.80387 ± 0.02596   \n",
       "gaussI, k = 2, 3                                           0.79508 ± 0.02557   \n",
       "up gaussU, k = 3                                           0.75126 ± 0.02988   \n",
       "down gaussU, k = 3                                         0.71821 ± 0.02724   \n",
       "both gaussU, k = 3                                         0.73577 ± 0.02614   \n",
       "gaussI + both gaussU, k = 3                                0.75103 ± 0.02854   \n",
       "gaussI (2, 3) + both gaussU (3)                            0.75334 ± 0.02811   \n",
       "\n",
       "                                frontoparietal network (FPN) (10 regions)  \\\n",
       "correlation                                             0.76340 ± 0.02740   \n",
       "gaussI, k = 2                                           0.77124 ± 0.02648   \n",
       "gaussI, k = 3                                           0.77187 ± 0.02646   \n",
       "gaussI, k = 2, 3                                        0.77009 ± 0.02804   \n",
       "up gaussU, k = 3                                        0.76236 ± 0.03006   \n",
       "down gaussU, k = 3                                      0.74195 ± 0.03248   \n",
       "both gaussU, k = 3                                      0.74970 ± 0.02810   \n",
       "gaussI + both gaussU, k = 3                             0.75304 ± 0.03558   \n",
       "gaussI (2, 3) + both gaussU (3)                         0.75284 ± 0.03669   \n",
       "\n",
       "                                default mode network (DMN) (12 regions)  \n",
       "correlation                                           0.78139 ± 0.02631  \n",
       "gaussI, k = 2                                         0.77877 ± 0.02603  \n",
       "gaussI, k = 3                                         0.79048 ± 0.02947  \n",
       "gaussI, k = 2, 3                                      0.79645 ± 0.02933  \n",
       "up gaussU, k = 3                                      0.74362 ± 0.02823  \n",
       "down gaussU, k = 3                                    0.73462 ± 0.03074  \n",
       "both gaussU, k = 3                                    0.73315 ± 0.02655  \n",
       "gaussI + both gaussU, k = 3                           0.74791 ± 0.02686  \n",
       "gaussI (2, 3) + both gaussU (3)                       0.74718 ± 0.02697  "
      ]
     },
     "execution_count": 27,
     "metadata": {},
     "output_type": "execute_result"
    }
   ],
   "source": [
    "ret[0]"
   ]
  },
  {
   "cell_type": "code",
   "execution_count": 28,
   "id": "b0a5086f",
   "metadata": {},
   "outputs": [],
   "source": [
    "np.save('experiment_table_gaussU.npy', ret[0].to_numpy())"
   ]
  },
  {
   "cell_type": "code",
   "execution_count": 11,
   "id": "3da6b4b6",
   "metadata": {},
   "outputs": [],
   "source": [
    "def full_experiment(X_raw, y, scorer):\n",
    "    res = []\n",
    "    TOO_LONG = {brain_short_network_names.index(\"limbic\")}\n",
    "    for i, X_transformer in enumerate(X_transformers):\n",
    "        cur = test_on_brain_networks(X_raw, y, X_transformer, scorer,\n",
    "                                     ignore=TOO_LONG if X_transformer_names[i].count(\"6\") else set())\n",
    "        print(cur)\n",
    "        res.append(cur)\n",
    "    return pd.DataFrame(data=res, columns=brain_network_names, index=X_transformer_names)"
   ]
  },
  {
   "cell_type": "code",
   "execution_count": 24,
   "id": "37dffc79",
   "metadata": {},
   "outputs": [
    {
     "data": {
      "application/vnd.jupyter.widget-view+json": {
       "model_id": "da425a9db09447a391a40a270a77a6ef",
       "version_major": 2,
       "version_minor": 0
      },
      "text/plain": [
       "  0%|          | 0/10 [00:00<?, ?it/s]"
      ]
     },
     "metadata": {},
     "output_type": "display_data"
    },
    {
     "name": "stdout",
     "output_type": "stream",
     "text": [
      "Score 0.78515 ± 0.02589 on visual cortex network with 12 regions\n"
     ]
    },
    {
     "data": {
      "application/vnd.jupyter.widget-view+json": {
       "model_id": "5d47db65bdf94f7eb67973be17a9859c",
       "version_major": 2,
       "version_minor": 0
      },
      "text/plain": [
       "  0%|          | 0/10 [00:00<?, ?it/s]"
      ]
     },
     "metadata": {},
     "output_type": "display_data"
    },
    {
     "name": "stdout",
     "output_type": "stream",
     "text": [
      "Score 0.76831 ± 0.02676 on sensorimotor network (SMN) network with 12 regions\n"
     ]
    },
    {
     "data": {
      "application/vnd.jupyter.widget-view+json": {
       "model_id": "fc6b0024aac24621bca655af54ca0924",
       "version_major": 2,
       "version_minor": 0
      },
      "text/plain": [
       "  0%|          | 0/10 [00:00<?, ?it/s]"
      ]
     },
     "metadata": {},
     "output_type": "display_data"
    },
    {
     "name": "stdout",
     "output_type": "stream",
     "text": [
      "Score 0.67606 ± 0.03043 on dorsal attention network (DAN) network with 6 regions\n"
     ]
    },
    {
     "data": {
      "application/vnd.jupyter.widget-view+json": {
       "model_id": "165c7a6c1905402d9fb69c0699b4b4fa",
       "version_major": 2,
       "version_minor": 0
      },
      "text/plain": [
       "  0%|          | 0/10 [00:00<?, ?it/s]"
      ]
     },
     "metadata": {},
     "output_type": "display_data"
    },
    {
     "name": "stdout",
     "output_type": "stream",
     "text": [
      "Score 0.77134 ± 0.02904 on ventral attention network (VAN) network with 12 regions\n"
     ]
    },
    {
     "data": {
      "application/vnd.jupyter.widget-view+json": {
       "model_id": "6dc1c31f4da540e9aad2533ce75f9fa9",
       "version_major": 2,
       "version_minor": 0
      },
      "text/plain": [
       "  0%|          | 0/10 [00:00<?, ?it/s]"
      ]
     },
     "metadata": {},
     "output_type": "display_data"
    },
    {
     "name": "stdout",
     "output_type": "stream",
     "text": [
      "Score 0.76340 ± 0.02740 on frontoparietal network (FPN) network with 10 regions\n"
     ]
    },
    {
     "data": {
      "application/vnd.jupyter.widget-view+json": {
       "model_id": "4a2cf928c5a647d1b633fde556a7a298",
       "version_major": 2,
       "version_minor": 0
      },
      "text/plain": [
       "  0%|          | 0/10 [00:00<?, ?it/s]"
      ]
     },
     "metadata": {},
     "output_type": "display_data"
    },
    {
     "name": "stdout",
     "output_type": "stream",
     "text": [
      "Score 0.81234 ± 0.03431 on limbic system network with 18 regions\n"
     ]
    },
    {
     "data": {
      "application/vnd.jupyter.widget-view+json": {
       "model_id": "e3c91ecdf2214e02ae64f2cbf25394ff",
       "version_major": 2,
       "version_minor": 0
      },
      "text/plain": [
       "  0%|          | 0/10 [00:00<?, ?it/s]"
      ]
     },
     "metadata": {},
     "output_type": "display_data"
    },
    {
     "name": "stdout",
     "output_type": "stream",
     "text": [
      "Score 0.78139 ± 0.02631 on default mode network (DMN) network with 12 regions\n",
      "['0.78515 ± 0.02589' '0.76831 ± 0.02676' '0.67606 ± 0.03043'\n",
      " '0.77134 ± 0.02904' '0.76340 ± 0.02740' '0.81234 ± 0.03431'\n",
      " '0.78139 ± 0.02631']\n"
     ]
    },
    {
     "data": {
      "application/vnd.jupyter.widget-view+json": {
       "model_id": "eb6b7f35c43040bdb1fa0f9f3599b6b4",
       "version_major": 2,
       "version_minor": 0
      },
      "text/plain": [
       "  0%|          | 0/10 [00:00<?, ?it/s]"
      ]
     },
     "metadata": {},
     "output_type": "display_data"
    },
    {
     "name": "stdout",
     "output_type": "stream",
     "text": [
      "Score 0.76342 ± 0.02634 on visual cortex network with 12 regions\n"
     ]
    },
    {
     "data": {
      "application/vnd.jupyter.widget-view+json": {
       "model_id": "658c78a2a588403b89989ddcd2aa302e",
       "version_major": 2,
       "version_minor": 0
      },
      "text/plain": [
       "  0%|          | 0/10 [00:00<?, ?it/s]"
      ]
     },
     "metadata": {},
     "output_type": "display_data"
    },
    {
     "name": "stdout",
     "output_type": "stream",
     "text": [
      "Score 0.76234 ± 0.02594 on sensorimotor network (SMN) network with 12 regions\n"
     ]
    },
    {
     "data": {
      "application/vnd.jupyter.widget-view+json": {
       "model_id": "923203fc9981401480cf974f3158e5bf",
       "version_major": 2,
       "version_minor": 0
      },
      "text/plain": [
       "  0%|          | 0/10 [00:00<?, ?it/s]"
      ]
     },
     "metadata": {},
     "output_type": "display_data"
    },
    {
     "name": "stdout",
     "output_type": "stream",
     "text": [
      "Score 0.66495 ± 0.02922 on dorsal attention network (DAN) network with 6 regions\n"
     ]
    },
    {
     "data": {
      "application/vnd.jupyter.widget-view+json": {
       "model_id": "c17631da3c3740d688c62820b816416c",
       "version_major": 2,
       "version_minor": 0
      },
      "text/plain": [
       "  0%|          | 0/10 [00:00<?, ?it/s]"
      ]
     },
     "metadata": {},
     "output_type": "display_data"
    },
    {
     "name": "stdout",
     "output_type": "stream",
     "text": [
      "Score 0.78514 ± 0.02513 on ventral attention network (VAN) network with 12 regions\n"
     ]
    },
    {
     "data": {
      "application/vnd.jupyter.widget-view+json": {
       "model_id": "19361fbbbab64775aaf90a8fba83e120",
       "version_major": 2,
       "version_minor": 0
      },
      "text/plain": [
       "  0%|          | 0/10 [00:00<?, ?it/s]"
      ]
     },
     "metadata": {},
     "output_type": "display_data"
    },
    {
     "name": "stdout",
     "output_type": "stream",
     "text": [
      "Score 0.77124 ± 0.02648 on frontoparietal network (FPN) network with 10 regions\n"
     ]
    },
    {
     "data": {
      "application/vnd.jupyter.widget-view+json": {
       "model_id": "a894cb08da504ea8bbd4bfe35ea50c8c",
       "version_major": 2,
       "version_minor": 0
      },
      "text/plain": [
       "  0%|          | 0/10 [00:00<?, ?it/s]"
      ]
     },
     "metadata": {},
     "output_type": "display_data"
    },
    {
     "name": "stdout",
     "output_type": "stream",
     "text": [
      "Score 0.79372 ± 0.02850 on limbic system network with 18 regions\n"
     ]
    },
    {
     "data": {
      "application/vnd.jupyter.widget-view+json": {
       "model_id": "c2b4cdda9403441485487f1f58b35f50",
       "version_major": 2,
       "version_minor": 0
      },
      "text/plain": [
       "  0%|          | 0/10 [00:00<?, ?it/s]"
      ]
     },
     "metadata": {},
     "output_type": "display_data"
    },
    {
     "name": "stdout",
     "output_type": "stream",
     "text": [
      "Score 0.77877 ± 0.02603 on default mode network (DMN) network with 12 regions\n",
      "['0.76342 ± 0.02634' '0.76234 ± 0.02594' '0.66495 ± 0.02922'\n",
      " '0.78514 ± 0.02513' '0.77124 ± 0.02648' '0.79372 ± 0.02850'\n",
      " '0.77877 ± 0.02603']\n"
     ]
    },
    {
     "data": {
      "application/vnd.jupyter.widget-view+json": {
       "model_id": "1634a09ca26b4a19ad9c94e77486f383",
       "version_major": 2,
       "version_minor": 0
      },
      "text/plain": [
       "  0%|          | 0/10 [00:00<?, ?it/s]"
      ]
     },
     "metadata": {},
     "output_type": "display_data"
    },
    {
     "name": "stdout",
     "output_type": "stream",
     "text": [
      "Score 0.78737 ± 0.02701 on visual cortex network with 12 regions\n"
     ]
    },
    {
     "data": {
      "application/vnd.jupyter.widget-view+json": {
       "model_id": "5b4760b359af44c4bb1a461549d0183a",
       "version_major": 2,
       "version_minor": 0
      },
      "text/plain": [
       "  0%|          | 0/10 [00:00<?, ?it/s]"
      ]
     },
     "metadata": {},
     "output_type": "display_data"
    },
    {
     "name": "stdout",
     "output_type": "stream",
     "text": [
      "Score 0.77238 ± 0.02184 on sensorimotor network (SMN) network with 12 regions\n"
     ]
    },
    {
     "data": {
      "application/vnd.jupyter.widget-view+json": {
       "model_id": "8787bf7b4c9d47ad99ade1f06ea57469",
       "version_major": 2,
       "version_minor": 0
      },
      "text/plain": [
       "  0%|          | 0/10 [00:00<?, ?it/s]"
      ]
     },
     "metadata": {},
     "output_type": "display_data"
    },
    {
     "name": "stdout",
     "output_type": "stream",
     "text": [
      "Score 0.68911 ± 0.02680 on dorsal attention network (DAN) network with 6 regions\n"
     ]
    },
    {
     "data": {
      "application/vnd.jupyter.widget-view+json": {
       "model_id": "77fb18e84ed342aead1447c0d94ccd7f",
       "version_major": 2,
       "version_minor": 0
      },
      "text/plain": [
       "  0%|          | 0/10 [00:00<?, ?it/s]"
      ]
     },
     "metadata": {},
     "output_type": "display_data"
    },
    {
     "name": "stdout",
     "output_type": "stream",
     "text": [
      "Score 0.80387 ± 0.02596 on ventral attention network (VAN) network with 12 regions\n"
     ]
    },
    {
     "data": {
      "application/vnd.jupyter.widget-view+json": {
       "model_id": "e633d97ad5544eae9a6c01460fe1e2f5",
       "version_major": 2,
       "version_minor": 0
      },
      "text/plain": [
       "  0%|          | 0/10 [00:00<?, ?it/s]"
      ]
     },
     "metadata": {},
     "output_type": "display_data"
    },
    {
     "name": "stdout",
     "output_type": "stream",
     "text": [
      "Score 0.77187 ± 0.02646 on frontoparietal network (FPN) network with 10 regions\n"
     ]
    },
    {
     "data": {
      "application/vnd.jupyter.widget-view+json": {
       "model_id": "daa6625b24c74f8bb2f81b8bde24b646",
       "version_major": 2,
       "version_minor": 0
      },
      "text/plain": [
       "  0%|          | 0/10 [00:00<?, ?it/s]"
      ]
     },
     "metadata": {},
     "output_type": "display_data"
    },
    {
     "name": "stdout",
     "output_type": "stream",
     "text": [
      "Score 0.81150 ± 0.02835 on limbic system network with 18 regions\n"
     ]
    },
    {
     "data": {
      "application/vnd.jupyter.widget-view+json": {
       "model_id": "0adb2f79d32a4e0eaa7d58e7b8f3a1d6",
       "version_major": 2,
       "version_minor": 0
      },
      "text/plain": [
       "  0%|          | 0/10 [00:00<?, ?it/s]"
      ]
     },
     "metadata": {},
     "output_type": "display_data"
    },
    {
     "name": "stdout",
     "output_type": "stream",
     "text": [
      "Score 0.79048 ± 0.02947 on default mode network (DMN) network with 12 regions\n",
      "['0.78737 ± 0.02701' '0.77238 ± 0.02184' '0.68911 ± 0.02680'\n",
      " '0.80387 ± 0.02596' '0.77187 ± 0.02646' '0.81150 ± 0.02835'\n",
      " '0.79048 ± 0.02947']\n"
     ]
    },
    {
     "data": {
      "application/vnd.jupyter.widget-view+json": {
       "model_id": "332916a921e348d5beddd5029f2df8df",
       "version_major": 2,
       "version_minor": 0
      },
      "text/plain": [
       "  0%|          | 0/10 [00:00<?, ?it/s]"
      ]
     },
     "metadata": {},
     "output_type": "display_data"
    },
    {
     "name": "stdout",
     "output_type": "stream",
     "text": [
      "Score 0.79238 ± 0.02705 on visual cortex network with 12 regions\n"
     ]
    },
    {
     "data": {
      "application/vnd.jupyter.widget-view+json": {
       "model_id": "021ebdc3f4b84e90b31e3e3deffb139c",
       "version_major": 2,
       "version_minor": 0
      },
      "text/plain": [
       "  0%|          | 0/10 [00:00<?, ?it/s]"
      ]
     },
     "metadata": {},
     "output_type": "display_data"
    },
    {
     "name": "stdout",
     "output_type": "stream",
     "text": [
      "Score 0.79226 ± 0.02512 on sensorimotor network (SMN) network with 12 regions\n"
     ]
    },
    {
     "data": {
      "application/vnd.jupyter.widget-view+json": {
       "model_id": "07c2022a449441528895b010db98c9a3",
       "version_major": 2,
       "version_minor": 0
      },
      "text/plain": [
       "  0%|          | 0/10 [00:00<?, ?it/s]"
      ]
     },
     "metadata": {},
     "output_type": "display_data"
    },
    {
     "name": "stdout",
     "output_type": "stream",
     "text": [
      "Score 0.67353 ± 0.02824 on dorsal attention network (DAN) network with 6 regions\n"
     ]
    },
    {
     "data": {
      "application/vnd.jupyter.widget-view+json": {
       "model_id": "a551bf76287d48c1b5bac7de8cb25a4c",
       "version_major": 2,
       "version_minor": 0
      },
      "text/plain": [
       "  0%|          | 0/10 [00:00<?, ?it/s]"
      ]
     },
     "metadata": {},
     "output_type": "display_data"
    },
    {
     "name": "stdout",
     "output_type": "stream",
     "text": [
      "Score 0.79874 ± 0.02520 on ventral attention network (VAN) network with 12 regions\n"
     ]
    },
    {
     "data": {
      "application/vnd.jupyter.widget-view+json": {
       "model_id": "b5ded4ff6a044f0380cb77eb0df4e1da",
       "version_major": 2,
       "version_minor": 0
      },
      "text/plain": [
       "  0%|          | 0/10 [00:00<?, ?it/s]"
      ]
     },
     "metadata": {},
     "output_type": "display_data"
    },
    {
     "name": "stdout",
     "output_type": "stream",
     "text": [
      "Score 0.76874 ± 0.02678 on frontoparietal network (FPN) network with 10 regions\n"
     ]
    },
    {
     "data": {
      "application/vnd.jupyter.widget-view+json": {
       "model_id": "d7242e4e0a1c4be3b3a04db5d5b6b281",
       "version_major": 2,
       "version_minor": 0
      },
      "text/plain": [
       "  0%|          | 0/10 [00:00<?, ?it/s]"
      ]
     },
     "metadata": {},
     "output_type": "display_data"
    },
    {
     "name": "stdout",
     "output_type": "stream",
     "text": [
      "Score 0.81976 ± 0.02637 on limbic system network with 18 regions\n"
     ]
    },
    {
     "data": {
      "application/vnd.jupyter.widget-view+json": {
       "model_id": "89f2b40b0e9548149eb3a939ab3ed955",
       "version_major": 2,
       "version_minor": 0
      },
      "text/plain": [
       "  0%|          | 0/10 [00:00<?, ?it/s]"
      ]
     },
     "metadata": {},
     "output_type": "display_data"
    },
    {
     "name": "stdout",
     "output_type": "stream",
     "text": [
      "Score 0.79938 ± 0.03009 on default mode network (DMN) network with 12 regions\n",
      "['0.79238 ± 0.02705' '0.79226 ± 0.02512' '0.67353 ± 0.02824'\n",
      " '0.79874 ± 0.02520' '0.76874 ± 0.02678' '0.81976 ± 0.02637'\n",
      " '0.79938 ± 0.03009']\n"
     ]
    },
    {
     "data": {
      "application/vnd.jupyter.widget-view+json": {
       "model_id": "0fdb3576b098400f9640a1bf115fa669",
       "version_major": 2,
       "version_minor": 0
      },
      "text/plain": [
       "  0%|          | 0/10 [00:00<?, ?it/s]"
      ]
     },
     "metadata": {},
     "output_type": "display_data"
    },
    {
     "name": "stdout",
     "output_type": "stream",
     "text": [
      "Score 0.78882 ± 0.02387 on visual cortex network with 12 regions\n"
     ]
    },
    {
     "data": {
      "application/vnd.jupyter.widget-view+json": {
       "model_id": "254569b3b155490aa57479b6c3427f03",
       "version_major": 2,
       "version_minor": 0
      },
      "text/plain": [
       "  0%|          | 0/10 [00:00<?, ?it/s]"
      ]
     },
     "metadata": {},
     "output_type": "display_data"
    },
    {
     "name": "stdout",
     "output_type": "stream",
     "text": [
      "Score 0.79822 ± 0.02795 on sensorimotor network (SMN) network with 12 regions\n"
     ]
    },
    {
     "data": {
      "application/vnd.jupyter.widget-view+json": {
       "model_id": "d8f2227a29df4566b3cac68c12d4cf02",
       "version_major": 2,
       "version_minor": 0
      },
      "text/plain": [
       "  0%|          | 0/10 [00:00<?, ?it/s]"
      ]
     },
     "metadata": {},
     "output_type": "display_data"
    },
    {
     "name": "stdout",
     "output_type": "stream",
     "text": [
      "Score 0.59382 ± 0.03170 on dorsal attention network (DAN) network with 6 regions\n"
     ]
    },
    {
     "data": {
      "application/vnd.jupyter.widget-view+json": {
       "model_id": "0f44e932f6514d2099a509f134051da2",
       "version_major": 2,
       "version_minor": 0
      },
      "text/plain": [
       "  0%|          | 0/10 [00:00<?, ?it/s]"
      ]
     },
     "metadata": {},
     "output_type": "display_data"
    },
    {
     "name": "stdout",
     "output_type": "stream",
     "text": [
      "Score 0.79843 ± 0.02492 on ventral attention network (VAN) network with 12 regions\n"
     ]
    },
    {
     "data": {
      "application/vnd.jupyter.widget-view+json": {
       "model_id": "c7211644898e4190a51fa1ac17a84347",
       "version_major": 2,
       "version_minor": 0
      },
      "text/plain": [
       "  0%|          | 0/10 [00:00<?, ?it/s]"
      ]
     },
     "metadata": {},
     "output_type": "display_data"
    },
    {
     "name": "stdout",
     "output_type": "stream",
     "text": [
      "Score 0.76382 ± 0.02869 on frontoparietal network (FPN) network with 10 regions\n"
     ]
    },
    {
     "data": {
      "application/vnd.jupyter.widget-view+json": {
       "model_id": "9bd99f42d1db4ec797f487674b2f05fb",
       "version_major": 2,
       "version_minor": 0
      },
      "text/plain": [
       "  0%|          | 0/10 [00:00<?, ?it/s]"
      ]
     },
     "metadata": {},
     "output_type": "display_data"
    },
    {
     "name": "stdout",
     "output_type": "stream",
     "text": [
      "Score 0.82865 ± 0.02632 on limbic system network with 18 regions\n"
     ]
    },
    {
     "data": {
      "application/vnd.jupyter.widget-view+json": {
       "model_id": "0e7a329b29414639bcebe640a569b0e5",
       "version_major": 2,
       "version_minor": 0
      },
      "text/plain": [
       "  0%|          | 0/10 [00:00<?, ?it/s]"
      ]
     },
     "metadata": {},
     "output_type": "display_data"
    },
    {
     "name": "stdout",
     "output_type": "stream",
     "text": [
      "Score 0.80021 ± 0.03028 on default mode network (DMN) network with 12 regions\n",
      "['0.78882 ± 0.02387' '0.79822 ± 0.02795' '0.59382 ± 0.03170'\n",
      " '0.79843 ± 0.02492' '0.76382 ± 0.02869' '0.82865 ± 0.02632'\n",
      " '0.80021 ± 0.03028']\n"
     ]
    },
    {
     "data": {
      "application/vnd.jupyter.widget-view+json": {
       "model_id": "2bfd7300385b4bfc86ce5a667df4c6ef",
       "version_major": 2,
       "version_minor": 0
      },
      "text/plain": [
       "  0%|          | 0/10 [00:00<?, ?it/s]"
      ]
     },
     "metadata": {},
     "output_type": "display_data"
    },
    {
     "name": "stdout",
     "output_type": "stream",
     "text": [
      "Score 0.78569 ± 0.02312 on visual cortex network with 12 regions\n"
     ]
    },
    {
     "data": {
      "application/vnd.jupyter.widget-view+json": {
       "model_id": "28153796833d4de9a498841d0e17ca00",
       "version_major": 2,
       "version_minor": 0
      },
      "text/plain": [
       "  0%|          | 0/10 [00:00<?, ?it/s]"
      ]
     },
     "metadata": {},
     "output_type": "display_data"
    },
    {
     "name": "stdout",
     "output_type": "stream",
     "text": [
      "Score 0.79926 ± 0.02676 on sensorimotor network (SMN) network with 12 regions\n"
     ]
    },
    {
     "data": {
      "application/vnd.jupyter.widget-view+json": {
       "model_id": "3b110744af8345f7a56f56db166e12a3",
       "version_major": 2,
       "version_minor": 0
      },
      "text/plain": [
       "  0%|          | 0/10 [00:00<?, ?it/s]"
      ]
     },
     "metadata": {},
     "output_type": "display_data"
    },
    {
     "name": "stdout",
     "output_type": "stream",
     "text": [
      "Score 0.58462 ± 0.02989 on dorsal attention network (DAN) network with 6 regions\n"
     ]
    },
    {
     "data": {
      "application/vnd.jupyter.widget-view+json": {
       "model_id": "35cbbb9ffa2f4bb09e2991496c482201",
       "version_major": 2,
       "version_minor": 0
      },
      "text/plain": [
       "  0%|          | 0/10 [00:00<?, ?it/s]"
      ]
     },
     "metadata": {},
     "output_type": "display_data"
    },
    {
     "name": "stdout",
     "output_type": "stream",
     "text": [
      "Score 0.79530 ± 0.02474 on ventral attention network (VAN) network with 12 regions\n"
     ]
    },
    {
     "data": {
      "application/vnd.jupyter.widget-view+json": {
       "model_id": "7a18ac65397f4d519d553fd7ca050008",
       "version_major": 2,
       "version_minor": 0
      },
      "text/plain": [
       "  0%|          | 0/10 [00:00<?, ?it/s]"
      ]
     },
     "metadata": {},
     "output_type": "display_data"
    },
    {
     "name": "stdout",
     "output_type": "stream",
     "text": [
      "Score 0.76675 ± 0.02809 on frontoparietal network (FPN) network with 10 regions\n",
      "limbic system ignored\n"
     ]
    },
    {
     "data": {
      "application/vnd.jupyter.widget-view+json": {
       "model_id": "2929eb17faad48d299a2e0c0eb055804",
       "version_major": 2,
       "version_minor": 0
      },
      "text/plain": [
       "  0%|          | 0/10 [00:00<?, ?it/s]"
      ]
     },
     "metadata": {},
     "output_type": "display_data"
    },
    {
     "name": "stdout",
     "output_type": "stream",
     "text": [
      "Score 0.79707 ± 0.02925 on default mode network (DMN) network with 12 regions\n",
      "['0.78569 ± 0.02312' '0.79926 ± 0.02676' '0.58462 ± 0.02989'\n",
      " '0.79530 ± 0.02474' '0.76675 ± 0.02809' 'Too long' '0.79707 ± 0.02925']\n"
     ]
    },
    {
     "data": {
      "application/vnd.jupyter.widget-view+json": {
       "model_id": "135f684fc2334eeabdc219e787d05057",
       "version_major": 2,
       "version_minor": 0
      },
      "text/plain": [
       "  0%|          | 0/10 [00:00<?, ?it/s]"
      ]
     },
     "metadata": {},
     "output_type": "display_data"
    },
    {
     "name": "stdout",
     "output_type": "stream",
     "text": [
      "Score 0.78214 ± 0.02561 on visual cortex network with 12 regions\n"
     ]
    },
    {
     "data": {
      "application/vnd.jupyter.widget-view+json": {
       "model_id": "34104ce1a63b406298f33504a2955f4b",
       "version_major": 2,
       "version_minor": 0
      },
      "text/plain": [
       "  0%|          | 0/10 [00:00<?, ?it/s]"
      ]
     },
     "metadata": {},
     "output_type": "display_data"
    },
    {
     "name": "stdout",
     "output_type": "stream",
     "text": [
      "Score 0.78421 ± 0.02253 on sensorimotor network (SMN) network with 12 regions\n"
     ]
    },
    {
     "data": {
      "application/vnd.jupyter.widget-view+json": {
       "model_id": "628a53bcd89c49cdb68db369a27743a9",
       "version_major": 2,
       "version_minor": 0
      },
      "text/plain": [
       "  0%|          | 0/10 [00:00<?, ?it/s]"
      ]
     },
     "metadata": {},
     "output_type": "display_data"
    },
    {
     "name": "stdout",
     "output_type": "stream",
     "text": [
      "Score 0.70240 ± 0.03299 on dorsal attention network (DAN) network with 6 regions\n"
     ]
    },
    {
     "data": {
      "application/vnd.jupyter.widget-view+json": {
       "model_id": "537488e9f6854e26917bf71aa227cf04",
       "version_major": 2,
       "version_minor": 0
      },
      "text/plain": [
       "  0%|          | 0/10 [00:00<?, ?it/s]"
      ]
     },
     "metadata": {},
     "output_type": "display_data"
    },
    {
     "name": "stdout",
     "output_type": "stream",
     "text": [
      "Score 0.79508 ± 0.02557 on ventral attention network (VAN) network with 12 regions\n"
     ]
    },
    {
     "data": {
      "application/vnd.jupyter.widget-view+json": {
       "model_id": "cc92031ab73b4678b88a57ecac8332e9",
       "version_major": 2,
       "version_minor": 0
      },
      "text/plain": [
       "  0%|          | 0/10 [00:00<?, ?it/s]"
      ]
     },
     "metadata": {},
     "output_type": "display_data"
    },
    {
     "name": "stdout",
     "output_type": "stream",
     "text": [
      "Score 0.77009 ± 0.02804 on frontoparietal network (FPN) network with 10 regions\n"
     ]
    },
    {
     "data": {
      "application/vnd.jupyter.widget-view+json": {
       "model_id": "a2bf9fa11deb40b3bdfcd42943d26f86",
       "version_major": 2,
       "version_minor": 0
      },
      "text/plain": [
       "  0%|          | 0/10 [00:00<?, ?it/s]"
      ]
     },
     "metadata": {},
     "output_type": "display_data"
    },
    {
     "name": "stdout",
     "output_type": "stream",
     "text": [
      "Score 0.80973 ± 0.03131 on limbic system network with 18 regions\n"
     ]
    },
    {
     "data": {
      "application/vnd.jupyter.widget-view+json": {
       "model_id": "2fdc4bae5e6740cc962fd53c77816d24",
       "version_major": 2,
       "version_minor": 0
      },
      "text/plain": [
       "  0%|          | 0/10 [00:00<?, ?it/s]"
      ]
     },
     "metadata": {},
     "output_type": "display_data"
    },
    {
     "name": "stdout",
     "output_type": "stream",
     "text": [
      "Score 0.79645 ± 0.02933 on default mode network (DMN) network with 12 regions\n",
      "['0.78214 ± 0.02561' '0.78421 ± 0.02253' '0.70240 ± 0.03299'\n",
      " '0.79508 ± 0.02557' '0.77009 ± 0.02804' '0.80973 ± 0.03131'\n",
      " '0.79645 ± 0.02933']\n"
     ]
    },
    {
     "data": {
      "application/vnd.jupyter.widget-view+json": {
       "model_id": "d3a9c9692837442aab23448768fa2057",
       "version_major": 2,
       "version_minor": 0
      },
      "text/plain": [
       "  0%|          | 0/10 [00:00<?, ?it/s]"
      ]
     },
     "metadata": {},
     "output_type": "display_data"
    },
    {
     "name": "stdout",
     "output_type": "stream",
     "text": [
      "Score 0.79175 ± 0.02669 on visual cortex network with 12 regions\n"
     ]
    },
    {
     "data": {
      "application/vnd.jupyter.widget-view+json": {
       "model_id": "eaa99bbf99cb4eadad8e75fbcd9bf9df",
       "version_major": 2,
       "version_minor": 0
      },
      "text/plain": [
       "  0%|          | 0/10 [00:00<?, ?it/s]"
      ]
     },
     "metadata": {},
     "output_type": "display_data"
    },
    {
     "name": "stdout",
     "output_type": "stream",
     "text": [
      "Score 0.79770 ± 0.02432 on sensorimotor network (SMN) network with 12 regions\n"
     ]
    },
    {
     "data": {
      "application/vnd.jupyter.widget-view+json": {
       "model_id": "339173e16e604f0a83016c8deceeb6d0",
       "version_major": 2,
       "version_minor": 0
      },
      "text/plain": [
       "  0%|          | 0/10 [00:00<?, ?it/s]"
      ]
     },
     "metadata": {},
     "output_type": "display_data"
    },
    {
     "name": "stdout",
     "output_type": "stream",
     "text": [
      "Score 0.71078 ± 0.03205 on dorsal attention network (DAN) network with 6 regions\n"
     ]
    },
    {
     "data": {
      "application/vnd.jupyter.widget-view+json": {
       "model_id": "7632d7bc44b440448e72749a9defdf66",
       "version_major": 2,
       "version_minor": 0
      },
      "text/plain": [
       "  0%|          | 0/10 [00:00<?, ?it/s]"
      ]
     },
     "metadata": {},
     "output_type": "display_data"
    },
    {
     "name": "stdout",
     "output_type": "stream",
     "text": [
      "Score 0.78806 ± 0.02731 on ventral attention network (VAN) network with 12 regions\n"
     ]
    },
    {
     "data": {
      "application/vnd.jupyter.widget-view+json": {
       "model_id": "9179a427f3c441c7b18433c623464aeb",
       "version_major": 2,
       "version_minor": 0
      },
      "text/plain": [
       "  0%|          | 0/10 [00:00<?, ?it/s]"
      ]
     },
     "metadata": {},
     "output_type": "display_data"
    },
    {
     "name": "stdout",
     "output_type": "stream",
     "text": [
      "Score 0.77669 ± 0.02942 on frontoparietal network (FPN) network with 10 regions\n"
     ]
    },
    {
     "data": {
      "application/vnd.jupyter.widget-view+json": {
       "model_id": "c6601855678c40aaaca0ceb87cb31c3b",
       "version_major": 2,
       "version_minor": 0
      },
      "text/plain": [
       "  0%|          | 0/10 [00:00<?, ?it/s]"
      ]
     },
     "metadata": {},
     "output_type": "display_data"
    },
    {
     "name": "stdout",
     "output_type": "stream",
     "text": [
      "Score 0.81893 ± 0.02575 on limbic system network with 18 regions\n"
     ]
    },
    {
     "data": {
      "application/vnd.jupyter.widget-view+json": {
       "model_id": "91ce318ffd40453ba1a67fa68497e378",
       "version_major": 2,
       "version_minor": 0
      },
      "text/plain": [
       "  0%|          | 0/10 [00:00<?, ?it/s]"
      ]
     },
     "metadata": {},
     "output_type": "display_data"
    },
    {
     "name": "stdout",
     "output_type": "stream",
     "text": [
      "Score 0.79686 ± 0.02352 on default mode network (DMN) network with 12 regions\n",
      "['0.79175 ± 0.02669' '0.79770 ± 0.02432' '0.71078 ± 0.03205'\n",
      " '0.78806 ± 0.02731' '0.77669 ± 0.02942' '0.81893 ± 0.02575'\n",
      " '0.79686 ± 0.02352']\n"
     ]
    },
    {
     "data": {
      "application/vnd.jupyter.widget-view+json": {
       "model_id": "57da95b4ba3841349b3e551ce2916d07",
       "version_major": 2,
       "version_minor": 0
      },
      "text/plain": [
       "  0%|          | 0/10 [00:00<?, ?it/s]"
      ]
     },
     "metadata": {},
     "output_type": "display_data"
    },
    {
     "name": "stdout",
     "output_type": "stream",
     "text": [
      "Score 0.79029 ± 0.02631 on visual cortex network with 12 regions\n"
     ]
    },
    {
     "data": {
      "application/vnd.jupyter.widget-view+json": {
       "model_id": "fef6a6d9c4834b778c75c27bdf72f75f",
       "version_major": 2,
       "version_minor": 0
      },
      "text/plain": [
       "  0%|          | 0/10 [00:00<?, ?it/s]"
      ]
     },
     "metadata": {},
     "output_type": "display_data"
    },
    {
     "name": "stdout",
     "output_type": "stream",
     "text": [
      "Score 0.79267 ± 0.02654 on sensorimotor network (SMN) network with 12 regions\n"
     ]
    },
    {
     "data": {
      "application/vnd.jupyter.widget-view+json": {
       "model_id": "6906a0d7547944518ef82e87a8fa5d80",
       "version_major": 2,
       "version_minor": 0
      },
      "text/plain": [
       "  0%|          | 0/10 [00:00<?, ?it/s]"
      ]
     },
     "metadata": {},
     "output_type": "display_data"
    },
    {
     "name": "stdout",
     "output_type": "stream",
     "text": [
      "Score 0.71067 ± 0.03199 on dorsal attention network (DAN) network with 6 regions\n"
     ]
    },
    {
     "data": {
      "application/vnd.jupyter.widget-view+json": {
       "model_id": "2a36571e5ff24af8b5ba68035f582c60",
       "version_major": 2,
       "version_minor": 0
      },
      "text/plain": [
       "  0%|          | 0/10 [00:00<?, ?it/s]"
      ]
     },
     "metadata": {},
     "output_type": "display_data"
    },
    {
     "name": "stdout",
     "output_type": "stream",
     "text": [
      "Score 0.78450 ± 0.02787 on ventral attention network (VAN) network with 12 regions\n"
     ]
    },
    {
     "data": {
      "application/vnd.jupyter.widget-view+json": {
       "model_id": "41399fc2971a4694838043766ea24b1f",
       "version_major": 2,
       "version_minor": 0
      },
      "text/plain": [
       "  0%|          | 0/10 [00:00<?, ?it/s]"
      ]
     },
     "metadata": {},
     "output_type": "display_data"
    },
    {
     "name": "stdout",
     "output_type": "stream",
     "text": [
      "Score 0.77815 ± 0.02902 on frontoparietal network (FPN) network with 10 regions\n",
      "limbic system ignored\n"
     ]
    },
    {
     "data": {
      "application/vnd.jupyter.widget-view+json": {
       "model_id": "1e715201fa4b4b8791d6b02d1db016e8",
       "version_major": 2,
       "version_minor": 0
      },
      "text/plain": [
       "  0%|          | 0/10 [00:00<?, ?it/s]"
      ]
     },
     "metadata": {},
     "output_type": "display_data"
    },
    {
     "name": "stdout",
     "output_type": "stream",
     "text": [
      "Score 0.79267 ± 0.02504 on default mode network (DMN) network with 12 regions\n",
      "['0.79029 ± 0.02631' '0.79267 ± 0.02654' '0.71067 ± 0.03199'\n",
      " '0.78450 ± 0.02787' '0.77815 ± 0.02902' 'Too long' '0.79267 ± 0.02504']\n"
     ]
    }
   ],
   "source": [
    "experiment_table = full_experiment(X_raw, y, logistic_score)"
   ]
  },
  {
   "cell_type": "code",
   "execution_count": 25,
   "id": "2fdae6f2",
   "metadata": {},
   "outputs": [
    {
     "data": {
      "text/html": [
       "<div>\n",
       "<style scoped>\n",
       "    .dataframe tbody tr th:only-of-type {\n",
       "        vertical-align: middle;\n",
       "    }\n",
       "\n",
       "    .dataframe tbody tr th {\n",
       "        vertical-align: top;\n",
       "    }\n",
       "\n",
       "    .dataframe thead th {\n",
       "        text-align: right;\n",
       "    }\n",
       "</style>\n",
       "<table border=\"1\" class=\"dataframe\">\n",
       "  <thead>\n",
       "    <tr style=\"text-align: right;\">\n",
       "      <th></th>\n",
       "      <th>visual cortex</th>\n",
       "      <th>sensorimotor network (SMN)</th>\n",
       "      <th>dorsal attention network (DAN)</th>\n",
       "      <th>ventral attention network (VAN)</th>\n",
       "      <th>frontoparietal network (FPN)</th>\n",
       "      <th>limbic system</th>\n",
       "      <th>default mode network (DMN)</th>\n",
       "    </tr>\n",
       "  </thead>\n",
       "  <tbody>\n",
       "    <tr>\n",
       "      <th>correlation</th>\n",
       "      <td>0.78515 ± 0.02589</td>\n",
       "      <td>0.76831 ± 0.02676</td>\n",
       "      <td>0.67606 ± 0.03043</td>\n",
       "      <td>0.77134 ± 0.02904</td>\n",
       "      <td>0.76340 ± 0.02740</td>\n",
       "      <td>0.81234 ± 0.03431</td>\n",
       "      <td>0.78139 ± 0.02631</td>\n",
       "    </tr>\n",
       "    <tr>\n",
       "      <th>gaussian MI, k = 2</th>\n",
       "      <td>0.76342 ± 0.02634</td>\n",
       "      <td>0.76234 ± 0.02594</td>\n",
       "      <td>0.66495 ± 0.02922</td>\n",
       "      <td>0.78514 ± 0.02513</td>\n",
       "      <td>0.77124 ± 0.02648</td>\n",
       "      <td>0.79372 ± 0.02850</td>\n",
       "      <td>0.77877 ± 0.02603</td>\n",
       "    </tr>\n",
       "    <tr>\n",
       "      <th>gaussian MI, k = 3</th>\n",
       "      <td>0.78737 ± 0.02701</td>\n",
       "      <td>0.77238 ± 0.02184</td>\n",
       "      <td>0.68911 ± 0.02680</td>\n",
       "      <td>0.80387 ± 0.02596</td>\n",
       "      <td>0.77187 ± 0.02646</td>\n",
       "      <td>0.81150 ± 0.02835</td>\n",
       "      <td>0.79048 ± 0.02947</td>\n",
       "    </tr>\n",
       "    <tr>\n",
       "      <th>gaussian MI, k = 4</th>\n",
       "      <td>0.79238 ± 0.02705</td>\n",
       "      <td>0.79226 ± 0.02512</td>\n",
       "      <td>0.67353 ± 0.02824</td>\n",
       "      <td>0.79874 ± 0.02520</td>\n",
       "      <td>0.76874 ± 0.02678</td>\n",
       "      <td>0.81976 ± 0.02637</td>\n",
       "      <td>0.79938 ± 0.03009</td>\n",
       "    </tr>\n",
       "    <tr>\n",
       "      <th>gaussian MI, k = 5</th>\n",
       "      <td>0.78882 ± 0.02387</td>\n",
       "      <td>0.79822 ± 0.02795</td>\n",
       "      <td>0.59382 ± 0.03170</td>\n",
       "      <td>0.79843 ± 0.02492</td>\n",
       "      <td>0.76382 ± 0.02869</td>\n",
       "      <td>0.82865 ± 0.02632</td>\n",
       "      <td>0.80021 ± 0.03028</td>\n",
       "    </tr>\n",
       "    <tr>\n",
       "      <th>gaussian MI, k = 6</th>\n",
       "      <td>0.78569 ± 0.02312</td>\n",
       "      <td>0.79926 ± 0.02676</td>\n",
       "      <td>0.58462 ± 0.02989</td>\n",
       "      <td>0.79530 ± 0.02474</td>\n",
       "      <td>0.76675 ± 0.02809</td>\n",
       "      <td>Too long</td>\n",
       "      <td>0.79707 ± 0.02925</td>\n",
       "    </tr>\n",
       "    <tr>\n",
       "      <th>gaussian MI, k = 2, 3</th>\n",
       "      <td>0.78214 ± 0.02561</td>\n",
       "      <td>0.78421 ± 0.02253</td>\n",
       "      <td>0.70240 ± 0.03299</td>\n",
       "      <td>0.79508 ± 0.02557</td>\n",
       "      <td>0.77009 ± 0.02804</td>\n",
       "      <td>0.80973 ± 0.03131</td>\n",
       "      <td>0.79645 ± 0.02933</td>\n",
       "    </tr>\n",
       "    <tr>\n",
       "      <th>gaussian MI, k = 2, 3, 4, 5</th>\n",
       "      <td>0.79175 ± 0.02669</td>\n",
       "      <td>0.79770 ± 0.02432</td>\n",
       "      <td>0.71078 ± 0.03205</td>\n",
       "      <td>0.78806 ± 0.02731</td>\n",
       "      <td>0.77669 ± 0.02942</td>\n",
       "      <td>0.81893 ± 0.02575</td>\n",
       "      <td>0.79686 ± 0.02352</td>\n",
       "    </tr>\n",
       "    <tr>\n",
       "      <th>gaussian MI, k = 2, 3, 4, 5, 6</th>\n",
       "      <td>0.79029 ± 0.02631</td>\n",
       "      <td>0.79267 ± 0.02654</td>\n",
       "      <td>0.71067 ± 0.03199</td>\n",
       "      <td>0.78450 ± 0.02787</td>\n",
       "      <td>0.77815 ± 0.02902</td>\n",
       "      <td>Too long</td>\n",
       "      <td>0.79267 ± 0.02504</td>\n",
       "    </tr>\n",
       "  </tbody>\n",
       "</table>\n",
       "</div>"
      ],
      "text/plain": [
       "                                    visual cortex sensorimotor network (SMN)  \\\n",
       "correlation                     0.78515 ± 0.02589          0.76831 ± 0.02676   \n",
       "gaussian MI, k = 2              0.76342 ± 0.02634          0.76234 ± 0.02594   \n",
       "gaussian MI, k = 3              0.78737 ± 0.02701          0.77238 ± 0.02184   \n",
       "gaussian MI, k = 4              0.79238 ± 0.02705          0.79226 ± 0.02512   \n",
       "gaussian MI, k = 5              0.78882 ± 0.02387          0.79822 ± 0.02795   \n",
       "gaussian MI, k = 6              0.78569 ± 0.02312          0.79926 ± 0.02676   \n",
       "gaussian MI, k = 2, 3           0.78214 ± 0.02561          0.78421 ± 0.02253   \n",
       "gaussian MI, k = 2, 3, 4, 5     0.79175 ± 0.02669          0.79770 ± 0.02432   \n",
       "gaussian MI, k = 2, 3, 4, 5, 6  0.79029 ± 0.02631          0.79267 ± 0.02654   \n",
       "\n",
       "                               dorsal attention network (DAN)  \\\n",
       "correlation                                 0.67606 ± 0.03043   \n",
       "gaussian MI, k = 2                          0.66495 ± 0.02922   \n",
       "gaussian MI, k = 3                          0.68911 ± 0.02680   \n",
       "gaussian MI, k = 4                          0.67353 ± 0.02824   \n",
       "gaussian MI, k = 5                          0.59382 ± 0.03170   \n",
       "gaussian MI, k = 6                          0.58462 ± 0.02989   \n",
       "gaussian MI, k = 2, 3                       0.70240 ± 0.03299   \n",
       "gaussian MI, k = 2, 3, 4, 5                 0.71078 ± 0.03205   \n",
       "gaussian MI, k = 2, 3, 4, 5, 6              0.71067 ± 0.03199   \n",
       "\n",
       "                               ventral attention network (VAN)  \\\n",
       "correlation                                  0.77134 ± 0.02904   \n",
       "gaussian MI, k = 2                           0.78514 ± 0.02513   \n",
       "gaussian MI, k = 3                           0.80387 ± 0.02596   \n",
       "gaussian MI, k = 4                           0.79874 ± 0.02520   \n",
       "gaussian MI, k = 5                           0.79843 ± 0.02492   \n",
       "gaussian MI, k = 6                           0.79530 ± 0.02474   \n",
       "gaussian MI, k = 2, 3                        0.79508 ± 0.02557   \n",
       "gaussian MI, k = 2, 3, 4, 5                  0.78806 ± 0.02731   \n",
       "gaussian MI, k = 2, 3, 4, 5, 6               0.78450 ± 0.02787   \n",
       "\n",
       "                               frontoparietal network (FPN)  \\\n",
       "correlation                               0.76340 ± 0.02740   \n",
       "gaussian MI, k = 2                        0.77124 ± 0.02648   \n",
       "gaussian MI, k = 3                        0.77187 ± 0.02646   \n",
       "gaussian MI, k = 4                        0.76874 ± 0.02678   \n",
       "gaussian MI, k = 5                        0.76382 ± 0.02869   \n",
       "gaussian MI, k = 6                        0.76675 ± 0.02809   \n",
       "gaussian MI, k = 2, 3                     0.77009 ± 0.02804   \n",
       "gaussian MI, k = 2, 3, 4, 5               0.77669 ± 0.02942   \n",
       "gaussian MI, k = 2, 3, 4, 5, 6            0.77815 ± 0.02902   \n",
       "\n",
       "                                    limbic system default mode network (DMN)  \n",
       "correlation                     0.81234 ± 0.03431          0.78139 ± 0.02631  \n",
       "gaussian MI, k = 2              0.79372 ± 0.02850          0.77877 ± 0.02603  \n",
       "gaussian MI, k = 3              0.81150 ± 0.02835          0.79048 ± 0.02947  \n",
       "gaussian MI, k = 4              0.81976 ± 0.02637          0.79938 ± 0.03009  \n",
       "gaussian MI, k = 5              0.82865 ± 0.02632          0.80021 ± 0.03028  \n",
       "gaussian MI, k = 6                       Too long          0.79707 ± 0.02925  \n",
       "gaussian MI, k = 2, 3           0.80973 ± 0.03131          0.79645 ± 0.02933  \n",
       "gaussian MI, k = 2, 3, 4, 5     0.81893 ± 0.02575          0.79686 ± 0.02352  \n",
       "gaussian MI, k = 2, 3, 4, 5, 6           Too long          0.79267 ± 0.02504  "
      ]
     },
     "execution_count": 25,
     "metadata": {},
     "output_type": "execute_result"
    }
   ],
   "source": [
    "experiment_table"
   ]
  },
  {
   "cell_type": "code",
   "execution_count": 48,
   "id": "bc52d2a7",
   "metadata": {},
   "outputs": [
    {
     "ename": "NameError",
     "evalue": "name 'experiment_table' is not defined",
     "output_type": "error",
     "traceback": [
      "\u001b[0;31m---------------------------------------------------------------------------\u001b[0m",
      "\u001b[0;31mNameError\u001b[0m                                 Traceback (most recent call last)",
      "Cell \u001b[0;32mIn [48], line 1\u001b[0m\n\u001b[0;32m----> 1\u001b[0m \u001b[43mexperiment_table\u001b[49m\n",
      "\u001b[0;31mNameError\u001b[0m: name 'experiment_table' is not defined"
     ]
    }
   ],
   "source": [
    "experiment_table"
   ]
  },
  {
   "cell_type": "code",
   "execution_count": 43,
   "id": "58dec00e",
   "metadata": {},
   "outputs": [],
   "source": [
    "np.save('experiment_table_data.npy', experiment_table.to_numpy())"
   ]
  },
  {
   "cell_type": "code",
   "execution_count": 45,
   "id": "b16063be",
   "metadata": {},
   "outputs": [
    {
     "data": {
      "text/html": [
       "<div>\n",
       "<style scoped>\n",
       "    .dataframe tbody tr th:only-of-type {\n",
       "        vertical-align: middle;\n",
       "    }\n",
       "\n",
       "    .dataframe tbody tr th {\n",
       "        vertical-align: top;\n",
       "    }\n",
       "\n",
       "    .dataframe thead th {\n",
       "        text-align: right;\n",
       "    }\n",
       "</style>\n",
       "<table border=\"1\" class=\"dataframe\">\n",
       "  <thead>\n",
       "    <tr style=\"text-align: right;\">\n",
       "      <th></th>\n",
       "      <th>visual cortex</th>\n",
       "      <th>sensorimotor network (SMN)</th>\n",
       "      <th>dorsal attention network (DAN)</th>\n",
       "      <th>ventral attention network (VAN)</th>\n",
       "      <th>frontoparietal network (FPN)</th>\n",
       "      <th>limbic system</th>\n",
       "      <th>default mode network (DMN)</th>\n",
       "    </tr>\n",
       "  </thead>\n",
       "  <tbody>\n",
       "    <tr>\n",
       "      <th>correlation</th>\n",
       "      <td>0.78515 ± 0.02589</td>\n",
       "      <td>0.76831 ± 0.02676</td>\n",
       "      <td>0.67606 ± 0.03043</td>\n",
       "      <td>0.77134 ± 0.02904</td>\n",
       "      <td>0.76340 ± 0.02740</td>\n",
       "      <td>0.81234 ± 0.03431</td>\n",
       "      <td>0.78139 ± 0.02631</td>\n",
       "    </tr>\n",
       "    <tr>\n",
       "      <th>gaussian MI, k = 2</th>\n",
       "      <td>0.76342 ± 0.02634</td>\n",
       "      <td>0.76234 ± 0.02594</td>\n",
       "      <td>0.66495 ± 0.02922</td>\n",
       "      <td>0.78514 ± 0.02513</td>\n",
       "      <td>0.77124 ± 0.02648</td>\n",
       "      <td>0.79372 ± 0.02850</td>\n",
       "      <td>0.77877 ± 0.02603</td>\n",
       "    </tr>\n",
       "    <tr>\n",
       "      <th>gaussian MI, k = 3</th>\n",
       "      <td>0.78737 ± 0.02701</td>\n",
       "      <td>0.77238 ± 0.02184</td>\n",
       "      <td>0.68911 ± 0.02680</td>\n",
       "      <td>0.80387 ± 0.02596</td>\n",
       "      <td>0.77187 ± 0.02646</td>\n",
       "      <td>0.81150 ± 0.02835</td>\n",
       "      <td>0.79048 ± 0.02947</td>\n",
       "    </tr>\n",
       "    <tr>\n",
       "      <th>gaussian MI, k = 4</th>\n",
       "      <td>0.79238 ± 0.02705</td>\n",
       "      <td>0.79226 ± 0.02512</td>\n",
       "      <td>0.67353 ± 0.02824</td>\n",
       "      <td>0.79874 ± 0.02520</td>\n",
       "      <td>0.76874 ± 0.02678</td>\n",
       "      <td>0.81976 ± 0.02637</td>\n",
       "      <td>0.79938 ± 0.03009</td>\n",
       "    </tr>\n",
       "    <tr>\n",
       "      <th>gaussian MI, k = 5</th>\n",
       "      <td>0.78882 ± 0.02387</td>\n",
       "      <td>0.79822 ± 0.02795</td>\n",
       "      <td>0.59382 ± 0.03170</td>\n",
       "      <td>0.79843 ± 0.02492</td>\n",
       "      <td>0.76382 ± 0.02869</td>\n",
       "      <td>0.82865 ± 0.02632</td>\n",
       "      <td>0.80021 ± 0.03028</td>\n",
       "    </tr>\n",
       "    <tr>\n",
       "      <th>gaussian MI, k = 6</th>\n",
       "      <td>0.78569 ± 0.02312</td>\n",
       "      <td>0.79926 ± 0.02676</td>\n",
       "      <td>0.58462 ± 0.02989</td>\n",
       "      <td>0.79530 ± 0.02474</td>\n",
       "      <td>0.76675 ± 0.02809</td>\n",
       "      <td>Too long</td>\n",
       "      <td>0.79707 ± 0.02925</td>\n",
       "    </tr>\n",
       "    <tr>\n",
       "      <th>gaussian MI, k = 2, 3</th>\n",
       "      <td>0.78214 ± 0.02561</td>\n",
       "      <td>0.78421 ± 0.02253</td>\n",
       "      <td>0.70240 ± 0.03299</td>\n",
       "      <td>0.79508 ± 0.02557</td>\n",
       "      <td>0.77009 ± 0.02804</td>\n",
       "      <td>0.80973 ± 0.03131</td>\n",
       "      <td>0.79645 ± 0.02933</td>\n",
       "    </tr>\n",
       "    <tr>\n",
       "      <th>gaussian MI, k = 2, 3, 4, 5</th>\n",
       "      <td>0.79175 ± 0.02669</td>\n",
       "      <td>0.79770 ± 0.02432</td>\n",
       "      <td>0.71078 ± 0.03205</td>\n",
       "      <td>0.78806 ± 0.02731</td>\n",
       "      <td>0.77669 ± 0.02942</td>\n",
       "      <td>0.81893 ± 0.02575</td>\n",
       "      <td>0.79686 ± 0.02352</td>\n",
       "    </tr>\n",
       "    <tr>\n",
       "      <th>gaussian MI, k = 2, 3, 4, 5, 6</th>\n",
       "      <td>0.79029 ± 0.02631</td>\n",
       "      <td>0.79267 ± 0.02654</td>\n",
       "      <td>0.71067 ± 0.03199</td>\n",
       "      <td>0.78450 ± 0.02787</td>\n",
       "      <td>0.77815 ± 0.02902</td>\n",
       "      <td>Too long</td>\n",
       "      <td>0.79267 ± 0.02504</td>\n",
       "    </tr>\n",
       "  </tbody>\n",
       "</table>\n",
       "</div>"
      ],
      "text/plain": [
       "                                    visual cortex sensorimotor network (SMN)  \\\n",
       "correlation                     0.78515 ± 0.02589          0.76831 ± 0.02676   \n",
       "gaussian MI, k = 2              0.76342 ± 0.02634          0.76234 ± 0.02594   \n",
       "gaussian MI, k = 3              0.78737 ± 0.02701          0.77238 ± 0.02184   \n",
       "gaussian MI, k = 4              0.79238 ± 0.02705          0.79226 ± 0.02512   \n",
       "gaussian MI, k = 5              0.78882 ± 0.02387          0.79822 ± 0.02795   \n",
       "gaussian MI, k = 6              0.78569 ± 0.02312          0.79926 ± 0.02676   \n",
       "gaussian MI, k = 2, 3           0.78214 ± 0.02561          0.78421 ± 0.02253   \n",
       "gaussian MI, k = 2, 3, 4, 5     0.79175 ± 0.02669          0.79770 ± 0.02432   \n",
       "gaussian MI, k = 2, 3, 4, 5, 6  0.79029 ± 0.02631          0.79267 ± 0.02654   \n",
       "\n",
       "                               dorsal attention network (DAN)  \\\n",
       "correlation                                 0.67606 ± 0.03043   \n",
       "gaussian MI, k = 2                          0.66495 ± 0.02922   \n",
       "gaussian MI, k = 3                          0.68911 ± 0.02680   \n",
       "gaussian MI, k = 4                          0.67353 ± 0.02824   \n",
       "gaussian MI, k = 5                          0.59382 ± 0.03170   \n",
       "gaussian MI, k = 6                          0.58462 ± 0.02989   \n",
       "gaussian MI, k = 2, 3                       0.70240 ± 0.03299   \n",
       "gaussian MI, k = 2, 3, 4, 5                 0.71078 ± 0.03205   \n",
       "gaussian MI, k = 2, 3, 4, 5, 6              0.71067 ± 0.03199   \n",
       "\n",
       "                               ventral attention network (VAN)  \\\n",
       "correlation                                  0.77134 ± 0.02904   \n",
       "gaussian MI, k = 2                           0.78514 ± 0.02513   \n",
       "gaussian MI, k = 3                           0.80387 ± 0.02596   \n",
       "gaussian MI, k = 4                           0.79874 ± 0.02520   \n",
       "gaussian MI, k = 5                           0.79843 ± 0.02492   \n",
       "gaussian MI, k = 6                           0.79530 ± 0.02474   \n",
       "gaussian MI, k = 2, 3                        0.79508 ± 0.02557   \n",
       "gaussian MI, k = 2, 3, 4, 5                  0.78806 ± 0.02731   \n",
       "gaussian MI, k = 2, 3, 4, 5, 6               0.78450 ± 0.02787   \n",
       "\n",
       "                               frontoparietal network (FPN)  \\\n",
       "correlation                               0.76340 ± 0.02740   \n",
       "gaussian MI, k = 2                        0.77124 ± 0.02648   \n",
       "gaussian MI, k = 3                        0.77187 ± 0.02646   \n",
       "gaussian MI, k = 4                        0.76874 ± 0.02678   \n",
       "gaussian MI, k = 5                        0.76382 ± 0.02869   \n",
       "gaussian MI, k = 6                        0.76675 ± 0.02809   \n",
       "gaussian MI, k = 2, 3                     0.77009 ± 0.02804   \n",
       "gaussian MI, k = 2, 3, 4, 5               0.77669 ± 0.02942   \n",
       "gaussian MI, k = 2, 3, 4, 5, 6            0.77815 ± 0.02902   \n",
       "\n",
       "                                    limbic system default mode network (DMN)  \n",
       "correlation                     0.81234 ± 0.03431          0.78139 ± 0.02631  \n",
       "gaussian MI, k = 2              0.79372 ± 0.02850          0.77877 ± 0.02603  \n",
       "gaussian MI, k = 3              0.81150 ± 0.02835          0.79048 ± 0.02947  \n",
       "gaussian MI, k = 4              0.81976 ± 0.02637          0.79938 ± 0.03009  \n",
       "gaussian MI, k = 5              0.82865 ± 0.02632          0.80021 ± 0.03028  \n",
       "gaussian MI, k = 6                       Too long          0.79707 ± 0.02925  \n",
       "gaussian MI, k = 2, 3           0.80973 ± 0.03131          0.79645 ± 0.02933  \n",
       "gaussian MI, k = 2, 3, 4, 5     0.81893 ± 0.02575          0.79686 ± 0.02352  \n",
       "gaussian MI, k = 2, 3, 4, 5, 6           Too long          0.79267 ± 0.02504  "
      ]
     },
     "execution_count": 45,
     "metadata": {},
     "output_type": "execute_result"
    }
   ],
   "source": [
    "pd.DataFrame(data=np.load('experiment_table_data.npy', allow_pickle=True),\n",
    "             columns=brain_network_names, index=X_transformer_names)"
   ]
  },
  {
   "cell_type": "code",
   "execution_count": 65,
   "id": "1c6ba3d2",
   "metadata": {},
   "outputs": [],
   "source": [
    "experiment_table = pd.DataFrame(data=np.load('experiment_table_data.npy', allow_pickle=True),\n",
    "                                 columns=[\"visual cortex (12 regions)\",\n",
    "                       \"sensorimotor network (SMN) (12 regions)\",\n",
    "                       \"dorsal attention network (DAN) (6 regions)\",\n",
    "                       \"ventral attention network (VAN) (12 regions)\",\n",
    "                       \"frontoparietal network (FPN) (10 regions)\",\n",
    "                       \"limbic system (18 regions)\",\n",
    "                       \"default mode network (DMN) (12 regions)\"\n",
    "                      ], index=tmp.iloc[:, 0].to_numpy())"
   ]
  },
  {
   "cell_type": "code",
   "execution_count": 66,
   "id": "b4d9861d",
   "metadata": {},
   "outputs": [
    {
     "data": {
      "text/html": [
       "<div>\n",
       "<style scoped>\n",
       "    .dataframe tbody tr th:only-of-type {\n",
       "        vertical-align: middle;\n",
       "    }\n",
       "\n",
       "    .dataframe tbody tr th {\n",
       "        vertical-align: top;\n",
       "    }\n",
       "\n",
       "    .dataframe thead th {\n",
       "        text-align: right;\n",
       "    }\n",
       "</style>\n",
       "<table border=\"1\" class=\"dataframe\">\n",
       "  <thead>\n",
       "    <tr style=\"text-align: right;\">\n",
       "      <th></th>\n",
       "      <th>visual cortex (12 regions)</th>\n",
       "      <th>sensorimotor network (SMN) (12 regions)</th>\n",
       "      <th>dorsal attention network (DAN) (6 regions)</th>\n",
       "      <th>ventral attention network (VAN) (12 regions)</th>\n",
       "      <th>frontoparietal network (FPN) (10 regions)</th>\n",
       "      <th>limbic system (18 regions)</th>\n",
       "      <th>default mode network (DMN) (12 regions)</th>\n",
       "    </tr>\n",
       "  </thead>\n",
       "  <tbody>\n",
       "    <tr>\n",
       "      <th>correlation</th>\n",
       "      <td>0.78515 ± 0.02589</td>\n",
       "      <td>0.76831 ± 0.02676</td>\n",
       "      <td>0.67606 ± 0.03043</td>\n",
       "      <td>0.77134 ± 0.02904</td>\n",
       "      <td>0.76340 ± 0.02740</td>\n",
       "      <td>0.81234 ± 0.03431</td>\n",
       "      <td>0.78139 ± 0.02631</td>\n",
       "    </tr>\n",
       "    <tr>\n",
       "      <th>gaussian MI, k = 2</th>\n",
       "      <td>0.76342 ± 0.02634</td>\n",
       "      <td>0.76234 ± 0.02594</td>\n",
       "      <td>0.66495 ± 0.02922</td>\n",
       "      <td>0.78514 ± 0.02513</td>\n",
       "      <td>0.77124 ± 0.02648</td>\n",
       "      <td>0.79372 ± 0.02850</td>\n",
       "      <td>0.77877 ± 0.02603</td>\n",
       "    </tr>\n",
       "    <tr>\n",
       "      <th>gaussian MI, k = 3</th>\n",
       "      <td>0.78737 ± 0.02701</td>\n",
       "      <td>0.77238 ± 0.02184</td>\n",
       "      <td>0.68911 ± 0.02680</td>\n",
       "      <td>0.80387 ± 0.02596</td>\n",
       "      <td>0.77187 ± 0.02646</td>\n",
       "      <td>0.81150 ± 0.02835</td>\n",
       "      <td>0.79048 ± 0.02947</td>\n",
       "    </tr>\n",
       "    <tr>\n",
       "      <th>gaussian MI, k = 4</th>\n",
       "      <td>0.79238 ± 0.02705</td>\n",
       "      <td>0.79226 ± 0.02512</td>\n",
       "      <td>0.67353 ± 0.02824</td>\n",
       "      <td>0.79874 ± 0.02520</td>\n",
       "      <td>0.76874 ± 0.02678</td>\n",
       "      <td>0.81976 ± 0.02637</td>\n",
       "      <td>0.79938 ± 0.03009</td>\n",
       "    </tr>\n",
       "    <tr>\n",
       "      <th>gaussian MI, k = 5</th>\n",
       "      <td>0.78882 ± 0.02387</td>\n",
       "      <td>0.79822 ± 0.02795</td>\n",
       "      <td>0.59382 ± 0.03170</td>\n",
       "      <td>0.79843 ± 0.02492</td>\n",
       "      <td>0.76382 ± 0.02869</td>\n",
       "      <td>0.82865 ± 0.02632</td>\n",
       "      <td>0.80021 ± 0.03028</td>\n",
       "    </tr>\n",
       "    <tr>\n",
       "      <th>gaussian MI, k = 6</th>\n",
       "      <td>0.78569 ± 0.02312</td>\n",
       "      <td>0.79926 ± 0.02676</td>\n",
       "      <td>0.58462 ± 0.02989</td>\n",
       "      <td>0.79530 ± 0.02474</td>\n",
       "      <td>0.76675 ± 0.02809</td>\n",
       "      <td>Too long</td>\n",
       "      <td>0.79707 ± 0.02925</td>\n",
       "    </tr>\n",
       "    <tr>\n",
       "      <th>gaussian MI, k = 2, 3</th>\n",
       "      <td>0.78214 ± 0.02561</td>\n",
       "      <td>0.78421 ± 0.02253</td>\n",
       "      <td>0.70240 ± 0.03299</td>\n",
       "      <td>0.79508 ± 0.02557</td>\n",
       "      <td>0.77009 ± 0.02804</td>\n",
       "      <td>0.80973 ± 0.03131</td>\n",
       "      <td>0.79645 ± 0.02933</td>\n",
       "    </tr>\n",
       "    <tr>\n",
       "      <th>gaussian MI, k = 2, 3, 4, 5</th>\n",
       "      <td>0.79175 ± 0.02669</td>\n",
       "      <td>0.79770 ± 0.02432</td>\n",
       "      <td>0.71078 ± 0.03205</td>\n",
       "      <td>0.78806 ± 0.02731</td>\n",
       "      <td>0.77669 ± 0.02942</td>\n",
       "      <td>0.81893 ± 0.02575</td>\n",
       "      <td>0.79686 ± 0.02352</td>\n",
       "    </tr>\n",
       "    <tr>\n",
       "      <th>gaussian MI, k = 2, 3, 4, 5, 6</th>\n",
       "      <td>0.79029 ± 0.02631</td>\n",
       "      <td>0.79267 ± 0.02654</td>\n",
       "      <td>0.71067 ± 0.03199</td>\n",
       "      <td>0.78450 ± 0.02787</td>\n",
       "      <td>0.77815 ± 0.02902</td>\n",
       "      <td>Too long</td>\n",
       "      <td>0.79267 ± 0.02504</td>\n",
       "    </tr>\n",
       "  </tbody>\n",
       "</table>\n",
       "</div>"
      ],
      "text/plain": [
       "                               visual cortex (12 regions)  \\\n",
       "correlation                             0.78515 ± 0.02589   \n",
       "gaussian MI, k = 2                      0.76342 ± 0.02634   \n",
       "gaussian MI, k = 3                      0.78737 ± 0.02701   \n",
       "gaussian MI, k = 4                      0.79238 ± 0.02705   \n",
       "gaussian MI, k = 5                      0.78882 ± 0.02387   \n",
       "gaussian MI, k = 6                      0.78569 ± 0.02312   \n",
       "gaussian MI, k = 2, 3                   0.78214 ± 0.02561   \n",
       "gaussian MI, k = 2, 3, 4, 5             0.79175 ± 0.02669   \n",
       "gaussian MI, k = 2, 3, 4, 5, 6          0.79029 ± 0.02631   \n",
       "\n",
       "                               sensorimotor network (SMN) (12 regions)  \\\n",
       "correlation                                          0.76831 ± 0.02676   \n",
       "gaussian MI, k = 2                                   0.76234 ± 0.02594   \n",
       "gaussian MI, k = 3                                   0.77238 ± 0.02184   \n",
       "gaussian MI, k = 4                                   0.79226 ± 0.02512   \n",
       "gaussian MI, k = 5                                   0.79822 ± 0.02795   \n",
       "gaussian MI, k = 6                                   0.79926 ± 0.02676   \n",
       "gaussian MI, k = 2, 3                                0.78421 ± 0.02253   \n",
       "gaussian MI, k = 2, 3, 4, 5                          0.79770 ± 0.02432   \n",
       "gaussian MI, k = 2, 3, 4, 5, 6                       0.79267 ± 0.02654   \n",
       "\n",
       "                               dorsal attention network (DAN) (6 regions)  \\\n",
       "correlation                                             0.67606 ± 0.03043   \n",
       "gaussian MI, k = 2                                      0.66495 ± 0.02922   \n",
       "gaussian MI, k = 3                                      0.68911 ± 0.02680   \n",
       "gaussian MI, k = 4                                      0.67353 ± 0.02824   \n",
       "gaussian MI, k = 5                                      0.59382 ± 0.03170   \n",
       "gaussian MI, k = 6                                      0.58462 ± 0.02989   \n",
       "gaussian MI, k = 2, 3                                   0.70240 ± 0.03299   \n",
       "gaussian MI, k = 2, 3, 4, 5                             0.71078 ± 0.03205   \n",
       "gaussian MI, k = 2, 3, 4, 5, 6                          0.71067 ± 0.03199   \n",
       "\n",
       "                               ventral attention network (VAN) (12 regions)  \\\n",
       "correlation                                               0.77134 ± 0.02904   \n",
       "gaussian MI, k = 2                                        0.78514 ± 0.02513   \n",
       "gaussian MI, k = 3                                        0.80387 ± 0.02596   \n",
       "gaussian MI, k = 4                                        0.79874 ± 0.02520   \n",
       "gaussian MI, k = 5                                        0.79843 ± 0.02492   \n",
       "gaussian MI, k = 6                                        0.79530 ± 0.02474   \n",
       "gaussian MI, k = 2, 3                                     0.79508 ± 0.02557   \n",
       "gaussian MI, k = 2, 3, 4, 5                               0.78806 ± 0.02731   \n",
       "gaussian MI, k = 2, 3, 4, 5, 6                            0.78450 ± 0.02787   \n",
       "\n",
       "                               frontoparietal network (FPN) (10 regions)  \\\n",
       "correlation                                            0.76340 ± 0.02740   \n",
       "gaussian MI, k = 2                                     0.77124 ± 0.02648   \n",
       "gaussian MI, k = 3                                     0.77187 ± 0.02646   \n",
       "gaussian MI, k = 4                                     0.76874 ± 0.02678   \n",
       "gaussian MI, k = 5                                     0.76382 ± 0.02869   \n",
       "gaussian MI, k = 6                                     0.76675 ± 0.02809   \n",
       "gaussian MI, k = 2, 3                                  0.77009 ± 0.02804   \n",
       "gaussian MI, k = 2, 3, 4, 5                            0.77669 ± 0.02942   \n",
       "gaussian MI, k = 2, 3, 4, 5, 6                         0.77815 ± 0.02902   \n",
       "\n",
       "                               limbic system (18 regions)  \\\n",
       "correlation                             0.81234 ± 0.03431   \n",
       "gaussian MI, k = 2                      0.79372 ± 0.02850   \n",
       "gaussian MI, k = 3                      0.81150 ± 0.02835   \n",
       "gaussian MI, k = 4                      0.81976 ± 0.02637   \n",
       "gaussian MI, k = 5                      0.82865 ± 0.02632   \n",
       "gaussian MI, k = 6                               Too long   \n",
       "gaussian MI, k = 2, 3                   0.80973 ± 0.03131   \n",
       "gaussian MI, k = 2, 3, 4, 5             0.81893 ± 0.02575   \n",
       "gaussian MI, k = 2, 3, 4, 5, 6                   Too long   \n",
       "\n",
       "                               default mode network (DMN) (12 regions)  \n",
       "correlation                                          0.78139 ± 0.02631  \n",
       "gaussian MI, k = 2                                   0.77877 ± 0.02603  \n",
       "gaussian MI, k = 3                                   0.79048 ± 0.02947  \n",
       "gaussian MI, k = 4                                   0.79938 ± 0.03009  \n",
       "gaussian MI, k = 5                                   0.80021 ± 0.03028  \n",
       "gaussian MI, k = 6                                   0.79707 ± 0.02925  \n",
       "gaussian MI, k = 2, 3                                0.79645 ± 0.02933  \n",
       "gaussian MI, k = 2, 3, 4, 5                          0.79686 ± 0.02352  \n",
       "gaussian MI, k = 2, 3, 4, 5, 6                       0.79267 ± 0.02504  "
      ]
     },
     "execution_count": 66,
     "metadata": {},
     "output_type": "execute_result"
    }
   ],
   "source": [
    "experiment_table"
   ]
  },
  {
   "cell_type": "code",
   "execution_count": 82,
   "id": "5245cce9",
   "metadata": {},
   "outputs": [],
   "source": [
    "experiment_table.to_csv('experiment_table.csv', sep=';')"
   ]
  },
  {
   "cell_type": "code",
   "execution_count": 63,
   "id": "9a6dface",
   "metadata": {},
   "outputs": [],
   "source": [
    "tmp = pd.read_csv('experiment_table.csv', delimiter=',')"
   ]
  },
  {
   "cell_type": "code",
   "execution_count": 64,
   "id": "7b333975",
   "metadata": {},
   "outputs": [
    {
     "data": {
      "text/html": [
       "<div>\n",
       "<style scoped>\n",
       "    .dataframe tbody tr th:only-of-type {\n",
       "        vertical-align: middle;\n",
       "    }\n",
       "\n",
       "    .dataframe tbody tr th {\n",
       "        vertical-align: top;\n",
       "    }\n",
       "\n",
       "    .dataframe thead th {\n",
       "        text-align: right;\n",
       "    }\n",
       "</style>\n",
       "<table border=\"1\" class=\"dataframe\">\n",
       "  <thead>\n",
       "    <tr style=\"text-align: right;\">\n",
       "      <th></th>\n",
       "      <th>Unnamed: 0</th>\n",
       "      <th>visual cortex</th>\n",
       "      <th>sensorimotor network (SMN)</th>\n",
       "      <th>dorsal attention network (DAN)</th>\n",
       "      <th>ventral attention network (VAN)</th>\n",
       "      <th>frontoparietal network (FPN)</th>\n",
       "      <th>limbic system</th>\n",
       "      <th>default mode network (DMN)</th>\n",
       "    </tr>\n",
       "  </thead>\n",
       "  <tbody>\n",
       "    <tr>\n",
       "      <th>0</th>\n",
       "      <td>correlation</td>\n",
       "      <td>0.78515 ± 0.02589</td>\n",
       "      <td>0.76831 ± 0.02676</td>\n",
       "      <td>0.67606 ± 0.03043</td>\n",
       "      <td>0.77134 ± 0.02904</td>\n",
       "      <td>0.76340 ± 0.02740</td>\n",
       "      <td>0.81234 ± 0.03431</td>\n",
       "      <td>0.78139 ± 0.02631</td>\n",
       "    </tr>\n",
       "    <tr>\n",
       "      <th>1</th>\n",
       "      <td>gaussian MI, k = 2</td>\n",
       "      <td>0.76342 ± 0.02634</td>\n",
       "      <td>0.76234 ± 0.02594</td>\n",
       "      <td>0.66495 ± 0.02922</td>\n",
       "      <td>0.78514 ± 0.02513</td>\n",
       "      <td>0.77124 ± 0.02648</td>\n",
       "      <td>0.79372 ± 0.02850</td>\n",
       "      <td>0.77877 ± 0.02603</td>\n",
       "    </tr>\n",
       "    <tr>\n",
       "      <th>2</th>\n",
       "      <td>gaussian MI, k = 3</td>\n",
       "      <td>0.78737 ± 0.02701</td>\n",
       "      <td>0.77238 ± 0.02184</td>\n",
       "      <td>0.68911 ± 0.02680</td>\n",
       "      <td>0.80387 ± 0.02596</td>\n",
       "      <td>0.77187 ± 0.02646</td>\n",
       "      <td>0.81150 ± 0.02835</td>\n",
       "      <td>0.79048 ± 0.02947</td>\n",
       "    </tr>\n",
       "    <tr>\n",
       "      <th>3</th>\n",
       "      <td>gaussian MI, k = 4</td>\n",
       "      <td>0.79238 ± 0.02705</td>\n",
       "      <td>0.79226 ± 0.02512</td>\n",
       "      <td>0.67353 ± 0.02824</td>\n",
       "      <td>0.79874 ± 0.02520</td>\n",
       "      <td>0.76874 ± 0.02678</td>\n",
       "      <td>0.81976 ± 0.02637</td>\n",
       "      <td>0.79938 ± 0.03009</td>\n",
       "    </tr>\n",
       "    <tr>\n",
       "      <th>4</th>\n",
       "      <td>gaussian MI, k = 5</td>\n",
       "      <td>0.78882 ± 0.02387</td>\n",
       "      <td>0.79822 ± 0.02795</td>\n",
       "      <td>0.59382 ± 0.03170</td>\n",
       "      <td>0.79843 ± 0.02492</td>\n",
       "      <td>0.76382 ± 0.02869</td>\n",
       "      <td>0.82865 ± 0.02632</td>\n",
       "      <td>0.80021 ± 0.03028</td>\n",
       "    </tr>\n",
       "    <tr>\n",
       "      <th>5</th>\n",
       "      <td>gaussian MI, k = 6</td>\n",
       "      <td>0.78569 ± 0.02312</td>\n",
       "      <td>0.79926 ± 0.02676</td>\n",
       "      <td>0.58462 ± 0.02989</td>\n",
       "      <td>0.79530 ± 0.02474</td>\n",
       "      <td>0.76675 ± 0.02809</td>\n",
       "      <td>Too long</td>\n",
       "      <td>0.79707 ± 0.02925</td>\n",
       "    </tr>\n",
       "    <tr>\n",
       "      <th>6</th>\n",
       "      <td>gaussian MI, k = 2, 3</td>\n",
       "      <td>0.78214 ± 0.02561</td>\n",
       "      <td>0.78421 ± 0.02253</td>\n",
       "      <td>0.70240 ± 0.03299</td>\n",
       "      <td>0.79508 ± 0.02557</td>\n",
       "      <td>0.77009 ± 0.02804</td>\n",
       "      <td>0.80973 ± 0.03131</td>\n",
       "      <td>0.79645 ± 0.02933</td>\n",
       "    </tr>\n",
       "    <tr>\n",
       "      <th>7</th>\n",
       "      <td>gaussian MI, k = 2, 3, 4, 5</td>\n",
       "      <td>0.79175 ± 0.02669</td>\n",
       "      <td>0.79770 ± 0.02432</td>\n",
       "      <td>0.71078 ± 0.03205</td>\n",
       "      <td>0.78806 ± 0.02731</td>\n",
       "      <td>0.77669 ± 0.02942</td>\n",
       "      <td>0.81893 ± 0.02575</td>\n",
       "      <td>0.79686 ± 0.02352</td>\n",
       "    </tr>\n",
       "    <tr>\n",
       "      <th>8</th>\n",
       "      <td>gaussian MI, k = 2, 3, 4, 5, 6</td>\n",
       "      <td>0.79029 ± 0.02631</td>\n",
       "      <td>0.79267 ± 0.02654</td>\n",
       "      <td>0.71067 ± 0.03199</td>\n",
       "      <td>0.78450 ± 0.02787</td>\n",
       "      <td>0.77815 ± 0.02902</td>\n",
       "      <td>Too long</td>\n",
       "      <td>0.79267 ± 0.02504</td>\n",
       "    </tr>\n",
       "  </tbody>\n",
       "</table>\n",
       "</div>"
      ],
      "text/plain": [
       "                       Unnamed: 0      visual cortex  \\\n",
       "0                     correlation  0.78515 ± 0.02589   \n",
       "1              gaussian MI, k = 2  0.76342 ± 0.02634   \n",
       "2              gaussian MI, k = 3  0.78737 ± 0.02701   \n",
       "3              gaussian MI, k = 4  0.79238 ± 0.02705   \n",
       "4              gaussian MI, k = 5  0.78882 ± 0.02387   \n",
       "5              gaussian MI, k = 6  0.78569 ± 0.02312   \n",
       "6           gaussian MI, k = 2, 3  0.78214 ± 0.02561   \n",
       "7     gaussian MI, k = 2, 3, 4, 5  0.79175 ± 0.02669   \n",
       "8  gaussian MI, k = 2, 3, 4, 5, 6  0.79029 ± 0.02631   \n",
       "\n",
       "  sensorimotor network (SMN) dorsal attention network (DAN)  \\\n",
       "0          0.76831 ± 0.02676              0.67606 ± 0.03043   \n",
       "1          0.76234 ± 0.02594              0.66495 ± 0.02922   \n",
       "2          0.77238 ± 0.02184              0.68911 ± 0.02680   \n",
       "3          0.79226 ± 0.02512              0.67353 ± 0.02824   \n",
       "4          0.79822 ± 0.02795              0.59382 ± 0.03170   \n",
       "5          0.79926 ± 0.02676              0.58462 ± 0.02989   \n",
       "6          0.78421 ± 0.02253              0.70240 ± 0.03299   \n",
       "7          0.79770 ± 0.02432              0.71078 ± 0.03205   \n",
       "8          0.79267 ± 0.02654              0.71067 ± 0.03199   \n",
       "\n",
       "  ventral attention network (VAN) frontoparietal network (FPN)  \\\n",
       "0               0.77134 ± 0.02904            0.76340 ± 0.02740   \n",
       "1               0.78514 ± 0.02513            0.77124 ± 0.02648   \n",
       "2               0.80387 ± 0.02596            0.77187 ± 0.02646   \n",
       "3               0.79874 ± 0.02520            0.76874 ± 0.02678   \n",
       "4               0.79843 ± 0.02492            0.76382 ± 0.02869   \n",
       "5               0.79530 ± 0.02474            0.76675 ± 0.02809   \n",
       "6               0.79508 ± 0.02557            0.77009 ± 0.02804   \n",
       "7               0.78806 ± 0.02731            0.77669 ± 0.02942   \n",
       "8               0.78450 ± 0.02787            0.77815 ± 0.02902   \n",
       "\n",
       "       limbic system default mode network (DMN)  \n",
       "0  0.81234 ± 0.03431          0.78139 ± 0.02631  \n",
       "1  0.79372 ± 0.02850          0.77877 ± 0.02603  \n",
       "2  0.81150 ± 0.02835          0.79048 ± 0.02947  \n",
       "3  0.81976 ± 0.02637          0.79938 ± 0.03009  \n",
       "4  0.82865 ± 0.02632          0.80021 ± 0.03028  \n",
       "5           Too long          0.79707 ± 0.02925  \n",
       "6  0.80973 ± 0.03131          0.79645 ± 0.02933  \n",
       "7  0.81893 ± 0.02575          0.79686 ± 0.02352  \n",
       "8           Too long          0.79267 ± 0.02504  "
      ]
     },
     "execution_count": 64,
     "metadata": {},
     "output_type": "execute_result"
    }
   ],
   "source": [
    "tmp"
   ]
  },
  {
   "cell_type": "code",
   "execution_count": 55,
   "id": "d5816a88",
   "metadata": {},
   "outputs": [
    {
     "data": {
      "text/plain": [
       "array(['correlation', 'gaussian MI, k = 2', 'gaussian MI, k = 3',\n",
       "       'gaussian MI, k = 4', 'gaussian MI, k = 5', 'gaussian MI, k = 6',\n",
       "       'gaussian MI, k = 2, 3', 'gaussian MI, k = 2, 3, 4, 5',\n",
       "       'gaussian MI, k = 2, 3, 4, 5, 6'], dtype=object)"
      ]
     },
     "execution_count": 55,
     "metadata": {},
     "output_type": "execute_result"
    }
   ],
   "source": [
    "tmp.iloc[:, 0].to_numpy()"
   ]
  },
  {
   "cell_type": "code",
   "execution_count": 59,
   "id": "57e4e930",
   "metadata": {},
   "outputs": [
    {
     "data": {
      "text/plain": [
       "array(['Unnamed: 0', 'visual cortex', 'sensorimotor network (SMN)',\n",
       "       'dorsal attention network (DAN)',\n",
       "       'ventral attention network (VAN)', 'frontoparietal network (FPN)',\n",
       "       'limbic system', 'default mode network (DMN)'], dtype=object)"
      ]
     },
     "execution_count": 59,
     "metadata": {},
     "output_type": "execute_result"
    }
   ],
   "source": [
    "tmp.columns.to_numpy()"
   ]
  },
  {
   "cell_type": "markdown",
   "id": "6ed1975b",
   "metadata": {},
   "source": [
    "**T_transformer**"
   ]
  },
  {
   "cell_type": "code",
   "execution_count": 12,
   "id": "384beb6e",
   "metadata": {},
   "outputs": [],
   "source": [
    "from scipy.special import gamma, digamma\n",
    "from sklearn.neighbors import NearestNeighbors\n",
    "\n",
    "def log_safe(vec):\n",
    "    vec[vec<=0] = 1\n",
    "    return np.log(vec)\n",
    "\n",
    "def vol(d):\n",
    "    numerator = np.pi ** (d/2)\n",
    "    denominator = gamma((d/2) + 1)\n",
    "    return numerator / denominator\n",
    "\n",
    "def H_kl_delattre(X, n_neighbors=1):\n",
    "    n, d = X.shape\n",
    "    distances, _ = NearestNeighbors(n_neighbors=n_neighbors+1).fit(X).kneighbors(X)\n",
    "    distances_k = distances[:,-1]\n",
    "    Y = n * distances_k ** d\n",
    "    \n",
    "    return np.mean(log_safe(Y)) - digamma(n_neighbors) + np.log(vol(d))\n",
    "\n",
    "def I(P, n_neighbors=1):\n",
    "    n, d = P.shape\n",
    "    \n",
    "    H_P = H_kl_delattre(P, n_neighbors)\n",
    "    \n",
    "    H_marginal = np.zeros(d)\n",
    "    for i, idx in enumerate(combinations(range(d), 1)):\n",
    "        P_marginal_i = P[:,idx]\n",
    "        H_marginal[i] = H_kl_delattre(P_marginal_i, n_neighbors)\n",
    "        \n",
    "    return np.sum(H_marginal) - H_P"
   ]
  },
  {
   "cell_type": "code",
   "execution_count": 13,
   "id": "dabb4e75",
   "metadata": {},
   "outputs": [],
   "source": [
    "def genTk(T_bn, k, MI_estimator):\n",
    "    r = range(T_bn.shape[2])\n",
    "    n = T_bn.shape[0]\n",
    "    n_combs = len(list(combinations(r, k)))\n",
    "\n",
    "    Tk = np.zeros((n, n_combs))\n",
    "\n",
    "    for i, ts in enumerate(T_bn):\n",
    "        for j, simplex in enumerate(combinations(r, k)):\n",
    "            Tk[i, j] = MI_estimator(ts[:, simplex])\n",
    "    return Tk\n",
    "\n",
    "def Tget_gen_functor(ks, MI_estimator):\n",
    "    return (lambda T_bn: np.hstack(tuple(genTk(T_bn, k, MI_estimator) for k in ks)))"
   ]
  },
  {
   "cell_type": "code",
   "execution_count": 14,
   "id": "af216553",
   "metadata": {},
   "outputs": [
    {
     "data": {
      "application/vnd.jupyter.widget-view+json": {
       "model_id": "60b0edfb87674df782600c9c9f27a63d",
       "version_major": 2,
       "version_minor": 0
      },
      "text/plain": [
       "  0%|          | 0/10 [00:00<?, ?it/s]"
      ]
     },
     "metadata": {},
     "output_type": "display_data"
    },
    {
     "data": {
      "application/vnd.jupyter.widget-view+json": {
       "model_id": "0935a32f8fa34b88b04e35528052b485",
       "version_major": 2,
       "version_minor": 0
      },
      "text/plain": [
       "  0%|          | 0/10 [00:00<?, ?it/s]"
      ]
     },
     "metadata": {},
     "output_type": "display_data"
    },
    {
     "data": {
      "application/vnd.jupyter.widget-view+json": {
       "model_id": "30df334293ba4cec9d4cb62ae9329c1c",
       "version_major": 2,
       "version_minor": 0
      },
      "text/plain": [
       "  0%|          | 0/10 [00:00<?, ?it/s]"
      ]
     },
     "metadata": {},
     "output_type": "display_data"
    },
    {
     "data": {
      "application/vnd.jupyter.widget-view+json": {
       "model_id": "7b23c440035e4930971a4d9232162c5f",
       "version_major": 2,
       "version_minor": 0
      },
      "text/plain": [
       "  0%|          | 0/10 [00:00<?, ?it/s]"
      ]
     },
     "metadata": {},
     "output_type": "display_data"
    },
    {
     "data": {
      "application/vnd.jupyter.widget-view+json": {
       "model_id": "db26cbb18e72479ea764a3046f89a797",
       "version_major": 2,
       "version_minor": 0
      },
      "text/plain": [
       "  0%|          | 0/10 [00:00<?, ?it/s]"
      ]
     },
     "metadata": {},
     "output_type": "display_data"
    },
    {
     "data": {
      "application/vnd.jupyter.widget-view+json": {
       "model_id": "5072153d07e74a57b1ff42f46febd6f7",
       "version_major": 2,
       "version_minor": 0
      },
      "text/plain": [
       "  0%|          | 0/10 [00:00<?, ?it/s]"
      ]
     },
     "metadata": {},
     "output_type": "display_data"
    },
    {
     "name": "stdout",
     "output_type": "stream",
     "text": [
      "Scores ['0.66297 ± 0.03182' '0.65020 ± 0.03249' '0.58890 ± 0.03377'\n",
      " '0.68680 ± 0.03204' '0.66172 ± 0.02950' '0.68661 ± 0.03229'] by scorer Logistic with T2 transformer\n"
     ]
    },
    {
     "ename": "KeyboardInterrupt",
     "evalue": "",
     "output_type": "error",
     "traceback": [
      "\u001b[0;31m---------------------------------------------------------------------------\u001b[0m",
      "\u001b[0;31mKeyboardInterrupt\u001b[0m                         Traceback (most recent call last)",
      "Cell \u001b[0;32mIn [14], line 20\u001b[0m\n\u001b[1;32m     17\u001b[0m scorer_names \u001b[38;5;241m=\u001b[39m [\u001b[38;5;124m\"\u001b[39m\u001b[38;5;124mLogistic\u001b[39m\u001b[38;5;124m\"\u001b[39m]\n\u001b[1;32m     18\u001b[0m scorers_with_names \u001b[38;5;241m=\u001b[39m \u001b[38;5;28mlist\u001b[39m(\u001b[38;5;28mzip\u001b[39m(scorers, scorer_names))\n\u001b[0;32m---> 20\u001b[0m ret \u001b[38;5;241m=\u001b[39m \u001b[43mfull_test\u001b[49m\u001b[43m(\u001b[49m\u001b[43mT_raw\u001b[49m\u001b[43m,\u001b[49m\u001b[43m \u001b[49m\u001b[38;5;28;43;01mNone\u001b[39;49;00m\u001b[43m,\u001b[49m\u001b[43m \u001b[49m\u001b[43my\u001b[49m\u001b[43m,\u001b[49m\n\u001b[1;32m     21\u001b[0m \u001b[43m                \u001b[49m\u001b[43mbrain_networks_with_names\u001b[49m\u001b[43m,\u001b[49m\n\u001b[1;32m     22\u001b[0m \u001b[43m                \u001b[49m\u001b[38;5;28;43;01mNone\u001b[39;49;00m\u001b[43m,\u001b[49m\n\u001b[1;32m     23\u001b[0m \u001b[43m                \u001b[49m\u001b[43mT_transformer_with_names\u001b[49m\u001b[43m,\u001b[49m\n\u001b[1;32m     24\u001b[0m \u001b[43m                \u001b[49m\u001b[43mscorers_with_names\u001b[49m\u001b[43m,\u001b[49m\u001b[43m \u001b[49m\u001b[43mn_repeats\u001b[49m\u001b[38;5;241;43m=\u001b[39;49m\u001b[38;5;241;43m10\u001b[39;49m\u001b[43m)\u001b[49m\n",
      "Cell \u001b[0;32mIn [10], line 24\u001b[0m, in \u001b[0;36mfull_test\u001b[0;34m(T_raw, X_raw, y, brain_networks_with_names, X_transformer_with_names, T_transformer_with_names, scorers_with_names, n_repeats)\u001b[0m\n\u001b[1;32m     22\u001b[0m \u001b[38;5;28;01mif\u001b[39;00m T_transformer_with_names \u001b[38;5;129;01mis\u001b[39;00m \u001b[38;5;129;01mnot\u001b[39;00m \u001b[38;5;28;01mNone\u001b[39;00m:\n\u001b[1;32m     23\u001b[0m     \u001b[38;5;28;01mfor\u001b[39;00m T_transformer, T_transformer_name \u001b[38;5;129;01min\u001b[39;00m T_transformer_with_names:\n\u001b[0;32m---> 24\u001b[0m         cur \u001b[38;5;241m=\u001b[39m \u001b[43mts_test_on_brain_networks\u001b[49m\u001b[43m(\u001b[49m\u001b[43mT_raw\u001b[49m\u001b[43m,\u001b[49m\u001b[43m \u001b[49m\u001b[43my\u001b[49m\u001b[43m,\u001b[49m\u001b[43m \u001b[49m\u001b[43mbrain_networks_with_names\u001b[49m\u001b[43m,\u001b[49m\u001b[43m \u001b[49m\u001b[43mT_transformer\u001b[49m\u001b[43m,\u001b[49m\u001b[43m \u001b[49m\u001b[43mscorer\u001b[49m\u001b[43m,\u001b[49m\u001b[43m \u001b[49m\u001b[43mn_repeats\u001b[49m\u001b[38;5;241;43m=\u001b[39;49m\u001b[43mn_repeats\u001b[49m\u001b[43m)\u001b[49m\n\u001b[1;32m     25\u001b[0m         res\u001b[38;5;241m.\u001b[39mappend(cur)\n\u001b[1;32m     26\u001b[0m         \u001b[38;5;28mprint\u001b[39m(f\u001b[38;5;124m\"\u001b[39m\u001b[38;5;124mScores \u001b[39m\u001b[38;5;132;01m{cur}\u001b[39;00m\u001b[38;5;124m by scorer \u001b[39m\u001b[38;5;132;01m{scorer_name}\u001b[39;00m\u001b[38;5;124m with \u001b[39m\u001b[38;5;132;01m{T_transformer_name}\u001b[39;00m\u001b[38;5;124m transformer\u001b[39m\u001b[38;5;124m\"\u001b[39m)\n",
      "Cell \u001b[0;32mIn [9], line 17\u001b[0m, in \u001b[0;36mts_test_on_brain_networks\u001b[0;34m(T_raw, y, brain_networks_with_names, T_transformer, scorer, n_repeats, ignore)\u001b[0m\n\u001b[1;32m     15\u001b[0m     \u001b[38;5;28;01mcontinue\u001b[39;00m\n\u001b[1;32m     16\u001b[0m T_bn \u001b[38;5;241m=\u001b[39m T_raw[:, :, brain_network]\n\u001b[0;32m---> 17\u001b[0m X \u001b[38;5;241m=\u001b[39m \u001b[43mT_transformer\u001b[49m\u001b[43m(\u001b[49m\u001b[43mT_bn\u001b[49m\u001b[43m)\u001b[49m\n\u001b[1;32m     18\u001b[0m score \u001b[38;5;241m=\u001b[39m scorer(X, y, n_repeats\u001b[38;5;241m=\u001b[39mn_repeats)\n\u001b[1;32m     19\u001b[0m \u001b[38;5;66m# print(f\"Score {score} on {brain_network_name} network with {len(brain_network)} regions\")\u001b[39m\n",
      "Cell \u001b[0;32mIn [13], line 14\u001b[0m, in \u001b[0;36mTget_gen_functor.<locals>.<lambda>\u001b[0;34m(T_bn)\u001b[0m\n\u001b[1;32m     13\u001b[0m \u001b[38;5;28;01mdef\u001b[39;00m \u001b[38;5;21mTget_gen_functor\u001b[39m(ks, MI_estimator):\n\u001b[0;32m---> 14\u001b[0m     \u001b[38;5;28;01mreturn\u001b[39;00m (\u001b[38;5;28;01mlambda\u001b[39;00m T_bn: np\u001b[38;5;241m.\u001b[39mhstack(\u001b[38;5;28;43mtuple\u001b[39;49m\u001b[43m(\u001b[49m\u001b[43mgenTk\u001b[49m\u001b[43m(\u001b[49m\u001b[43mT_bn\u001b[49m\u001b[43m,\u001b[49m\u001b[43m \u001b[49m\u001b[43mk\u001b[49m\u001b[43m,\u001b[49m\u001b[43m \u001b[49m\u001b[43mMI_estimator\u001b[49m\u001b[43m)\u001b[49m\u001b[43m \u001b[49m\u001b[38;5;28;43;01mfor\u001b[39;49;00m\u001b[43m \u001b[49m\u001b[43mk\u001b[49m\u001b[43m \u001b[49m\u001b[38;5;129;43;01min\u001b[39;49;00m\u001b[43m \u001b[49m\u001b[43mks\u001b[49m\u001b[43m)\u001b[49m))\n",
      "Cell \u001b[0;32mIn [13], line 14\u001b[0m, in \u001b[0;36m<genexpr>\u001b[0;34m(.0)\u001b[0m\n\u001b[1;32m     13\u001b[0m \u001b[38;5;28;01mdef\u001b[39;00m \u001b[38;5;21mTget_gen_functor\u001b[39m(ks, MI_estimator):\n\u001b[0;32m---> 14\u001b[0m     \u001b[38;5;28;01mreturn\u001b[39;00m (\u001b[38;5;28;01mlambda\u001b[39;00m T_bn: np\u001b[38;5;241m.\u001b[39mhstack(\u001b[38;5;28mtuple\u001b[39m(\u001b[43mgenTk\u001b[49m\u001b[43m(\u001b[49m\u001b[43mT_bn\u001b[49m\u001b[43m,\u001b[49m\u001b[43m \u001b[49m\u001b[43mk\u001b[49m\u001b[43m,\u001b[49m\u001b[43m \u001b[49m\u001b[43mMI_estimator\u001b[49m\u001b[43m)\u001b[49m \u001b[38;5;28;01mfor\u001b[39;00m k \u001b[38;5;129;01min\u001b[39;00m ks)))\n",
      "Cell \u001b[0;32mIn [13], line 10\u001b[0m, in \u001b[0;36mgenTk\u001b[0;34m(T_bn, k, MI_estimator)\u001b[0m\n\u001b[1;32m      8\u001b[0m \u001b[38;5;28;01mfor\u001b[39;00m i, ts \u001b[38;5;129;01min\u001b[39;00m \u001b[38;5;28menumerate\u001b[39m(T_bn):\n\u001b[1;32m      9\u001b[0m     \u001b[38;5;28;01mfor\u001b[39;00m j, simplex \u001b[38;5;129;01min\u001b[39;00m \u001b[38;5;28menumerate\u001b[39m(combinations(r, k)):\n\u001b[0;32m---> 10\u001b[0m         Tk[i, j] \u001b[38;5;241m=\u001b[39m \u001b[43mMI_estimator\u001b[49m\u001b[43m(\u001b[49m\u001b[43mts\u001b[49m\u001b[43m[\u001b[49m\u001b[43m:\u001b[49m\u001b[43m,\u001b[49m\u001b[43m \u001b[49m\u001b[43msimplex\u001b[49m\u001b[43m]\u001b[49m\u001b[43m)\u001b[49m\n\u001b[1;32m     11\u001b[0m \u001b[38;5;28;01mreturn\u001b[39;00m Tk\n",
      "Cell \u001b[0;32mIn [12], line 29\u001b[0m, in \u001b[0;36mI\u001b[0;34m(P, n_neighbors)\u001b[0m\n\u001b[1;32m     27\u001b[0m \u001b[38;5;28;01mfor\u001b[39;00m i, idx \u001b[38;5;129;01min\u001b[39;00m \u001b[38;5;28menumerate\u001b[39m(combinations(\u001b[38;5;28mrange\u001b[39m(d), \u001b[38;5;241m1\u001b[39m)):\n\u001b[1;32m     28\u001b[0m     P_marginal_i \u001b[38;5;241m=\u001b[39m P[:,idx]\n\u001b[0;32m---> 29\u001b[0m     H_marginal[i] \u001b[38;5;241m=\u001b[39m \u001b[43mH_kl_delattre\u001b[49m\u001b[43m(\u001b[49m\u001b[43mP_marginal_i\u001b[49m\u001b[43m,\u001b[49m\u001b[43m \u001b[49m\u001b[43mn_neighbors\u001b[49m\u001b[43m)\u001b[49m\n\u001b[1;32m     31\u001b[0m \u001b[38;5;28;01mreturn\u001b[39;00m np\u001b[38;5;241m.\u001b[39msum(H_marginal) \u001b[38;5;241m-\u001b[39m H_P\n",
      "Cell \u001b[0;32mIn [12], line 15\u001b[0m, in \u001b[0;36mH_kl_delattre\u001b[0;34m(X, n_neighbors)\u001b[0m\n\u001b[1;32m     13\u001b[0m \u001b[38;5;28;01mdef\u001b[39;00m \u001b[38;5;21mH_kl_delattre\u001b[39m(X, n_neighbors\u001b[38;5;241m=\u001b[39m\u001b[38;5;241m1\u001b[39m):\n\u001b[1;32m     14\u001b[0m     n, d \u001b[38;5;241m=\u001b[39m X\u001b[38;5;241m.\u001b[39mshape\n\u001b[0;32m---> 15\u001b[0m     distances, _ \u001b[38;5;241m=\u001b[39m \u001b[43mNearestNeighbors\u001b[49m\u001b[43m(\u001b[49m\u001b[43mn_neighbors\u001b[49m\u001b[38;5;241;43m=\u001b[39;49m\u001b[43mn_neighbors\u001b[49m\u001b[38;5;241;43m+\u001b[39;49m\u001b[38;5;241;43m1\u001b[39;49m\u001b[43m)\u001b[49m\u001b[38;5;241;43m.\u001b[39;49m\u001b[43mfit\u001b[49m\u001b[43m(\u001b[49m\u001b[43mX\u001b[49m\u001b[43m)\u001b[49m\u001b[38;5;241m.\u001b[39mkneighbors(X)\n\u001b[1;32m     16\u001b[0m     distances_k \u001b[38;5;241m=\u001b[39m distances[:,\u001b[38;5;241m-\u001b[39m\u001b[38;5;241m1\u001b[39m]\n\u001b[1;32m     17\u001b[0m     Y \u001b[38;5;241m=\u001b[39m n \u001b[38;5;241m*\u001b[39m distances_k \u001b[38;5;241m*\u001b[39m\u001b[38;5;241m*\u001b[39m d\n",
      "File \u001b[0;32m/usr/local/lib/python3.8/dist-packages/sklearn/neighbors/_unsupervised.py:175\u001b[0m, in \u001b[0;36mNearestNeighbors.fit\u001b[0;34m(self, X, y)\u001b[0m\n\u001b[1;32m    158\u001b[0m \u001b[38;5;28;01mdef\u001b[39;00m \u001b[38;5;21mfit\u001b[39m(\u001b[38;5;28mself\u001b[39m, X, y\u001b[38;5;241m=\u001b[39m\u001b[38;5;28;01mNone\u001b[39;00m):\n\u001b[1;32m    159\u001b[0m     \u001b[38;5;124m\"\"\"Fit the nearest neighbors estimator from the training dataset.\u001b[39m\n\u001b[1;32m    160\u001b[0m \n\u001b[1;32m    161\u001b[0m \u001b[38;5;124m    Parameters\u001b[39m\n\u001b[0;32m   (...)\u001b[0m\n\u001b[1;32m    173\u001b[0m \u001b[38;5;124m        The fitted nearest neighbors estimator.\u001b[39m\n\u001b[1;32m    174\u001b[0m \u001b[38;5;124m    \"\"\"\u001b[39m\n\u001b[0;32m--> 175\u001b[0m     \u001b[38;5;28;01mreturn\u001b[39;00m \u001b[38;5;28;43mself\u001b[39;49m\u001b[38;5;241;43m.\u001b[39;49m\u001b[43m_fit\u001b[49m\u001b[43m(\u001b[49m\u001b[43mX\u001b[49m\u001b[43m)\u001b[49m\n",
      "File \u001b[0;32m/usr/local/lib/python3.8/dist-packages/sklearn/neighbors/_base.py:590\u001b[0m, in \u001b[0;36mNeighborsBase._fit\u001b[0;34m(self, X, y)\u001b[0m\n\u001b[1;32m    580\u001b[0m     \u001b[38;5;28;01mif\u001b[39;00m (\n\u001b[1;32m    581\u001b[0m         \u001b[38;5;28mself\u001b[39m\u001b[38;5;241m.\u001b[39meffective_metric_ \u001b[38;5;241m==\u001b[39m \u001b[38;5;124m\"\u001b[39m\u001b[38;5;124mminkowski\u001b[39m\u001b[38;5;124m\"\u001b[39m\n\u001b[1;32m    582\u001b[0m         \u001b[38;5;129;01mand\u001b[39;00m \u001b[38;5;28mself\u001b[39m\u001b[38;5;241m.\u001b[39meffective_metric_params_\u001b[38;5;241m.\u001b[39mget(\u001b[38;5;124m\"\u001b[39m\u001b[38;5;124mw\u001b[39m\u001b[38;5;124m\"\u001b[39m) \u001b[38;5;129;01mis\u001b[39;00m \u001b[38;5;129;01mnot\u001b[39;00m \u001b[38;5;28;01mNone\u001b[39;00m\n\u001b[1;32m    583\u001b[0m     ):\n\u001b[1;32m    584\u001b[0m         \u001b[38;5;28;01mraise\u001b[39;00m \u001b[38;5;167;01mValueError\u001b[39;00m(\n\u001b[1;32m    585\u001b[0m             \u001b[38;5;124m\"\u001b[39m\u001b[38;5;124malgorithm=\u001b[39m\u001b[38;5;124m'\u001b[39m\u001b[38;5;124mkd_tree\u001b[39m\u001b[38;5;124m'\u001b[39m\u001b[38;5;124m is not valid for \u001b[39m\u001b[38;5;124m\"\u001b[39m\n\u001b[1;32m    586\u001b[0m             \u001b[38;5;124m\"\u001b[39m\u001b[38;5;124mmetric=\u001b[39m\u001b[38;5;124m'\u001b[39m\u001b[38;5;124mminkowski\u001b[39m\u001b[38;5;124m'\u001b[39m\u001b[38;5;124m with a weight parameter \u001b[39m\u001b[38;5;124m'\u001b[39m\u001b[38;5;124mw\u001b[39m\u001b[38;5;124m'\u001b[39m\u001b[38;5;124m: \u001b[39m\u001b[38;5;124m\"\u001b[39m\n\u001b[1;32m    587\u001b[0m             \u001b[38;5;124m\"\u001b[39m\u001b[38;5;124mtry algorithm=\u001b[39m\u001b[38;5;124m'\u001b[39m\u001b[38;5;124mball_tree\u001b[39m\u001b[38;5;124m'\u001b[39m\u001b[38;5;124m \u001b[39m\u001b[38;5;124m\"\u001b[39m\n\u001b[1;32m    588\u001b[0m             \u001b[38;5;124m\"\u001b[39m\u001b[38;5;124mor algorithm=\u001b[39m\u001b[38;5;124m'\u001b[39m\u001b[38;5;124mbrute\u001b[39m\u001b[38;5;124m'\u001b[39m\u001b[38;5;124m instead.\u001b[39m\u001b[38;5;124m\"\u001b[39m\n\u001b[1;32m    589\u001b[0m         )\n\u001b[0;32m--> 590\u001b[0m     \u001b[38;5;28mself\u001b[39m\u001b[38;5;241m.\u001b[39m_tree \u001b[38;5;241m=\u001b[39m \u001b[43mKDTree\u001b[49m\u001b[43m(\u001b[49m\n\u001b[1;32m    591\u001b[0m \u001b[43m        \u001b[49m\u001b[43mX\u001b[49m\u001b[43m,\u001b[49m\n\u001b[1;32m    592\u001b[0m \u001b[43m        \u001b[49m\u001b[38;5;28;43mself\u001b[39;49m\u001b[38;5;241;43m.\u001b[39;49m\u001b[43mleaf_size\u001b[49m\u001b[43m,\u001b[49m\n\u001b[1;32m    593\u001b[0m \u001b[43m        \u001b[49m\u001b[43mmetric\u001b[49m\u001b[38;5;241;43m=\u001b[39;49m\u001b[38;5;28;43mself\u001b[39;49m\u001b[38;5;241;43m.\u001b[39;49m\u001b[43meffective_metric_\u001b[49m\u001b[43m,\u001b[49m\n\u001b[1;32m    594\u001b[0m \u001b[43m        \u001b[49m\u001b[38;5;241;43m*\u001b[39;49m\u001b[38;5;241;43m*\u001b[39;49m\u001b[38;5;28;43mself\u001b[39;49m\u001b[38;5;241;43m.\u001b[39;49m\u001b[43meffective_metric_params_\u001b[49m\u001b[43m,\u001b[49m\n\u001b[1;32m    595\u001b[0m \u001b[43m    \u001b[49m\u001b[43m)\u001b[49m\n\u001b[1;32m    596\u001b[0m \u001b[38;5;28;01melif\u001b[39;00m \u001b[38;5;28mself\u001b[39m\u001b[38;5;241m.\u001b[39m_fit_method \u001b[38;5;241m==\u001b[39m \u001b[38;5;124m\"\u001b[39m\u001b[38;5;124mbrute\u001b[39m\u001b[38;5;124m\"\u001b[39m:\n\u001b[1;32m    597\u001b[0m     \u001b[38;5;28mself\u001b[39m\u001b[38;5;241m.\u001b[39m_tree \u001b[38;5;241m=\u001b[39m \u001b[38;5;28;01mNone\u001b[39;00m\n",
      "\u001b[0;31mKeyboardInterrupt\u001b[0m: "
     ]
    }
   ],
   "source": [
    "brain_networks = [visual, smn, dan, van, fpn, dmn]\n",
    "brain_network_names = [\"visual cortex (12 regions)\",\n",
    "                       \"sensorimotor network (SMN) (12 regions)\",\n",
    "                       \"dorsal attention network (DAN) (6 regions)\",\n",
    "                       \"ventral attention network (VAN) (12 regions)\",\n",
    "                       \"frontoparietal network (FPN) (10 regions)\",\n",
    "                       \"default mode network (DMN) (12 regions)\"\n",
    "                      ]\n",
    "brain_networks_with_names = list(zip(brain_networks, brain_network_names))\n",
    "\n",
    "T_transformer_with_names = [(Tget_gen_functor([2], I), \"T2\"),\n",
    "                            (Tget_gen_functor([3], I), \"T3\"),\n",
    "                            (Tget_gen_functor([2, 3], I), \"T2, 3\")\n",
    "                           ]\n",
    "\n",
    "scorers = [logistic_score]\n",
    "scorer_names = [\"Logistic\"]\n",
    "scorers_with_names = list(zip(scorers, scorer_names))\n",
    "\n",
    "ret = full_test(T_raw, None, y,\n",
    "                brain_networks_with_names,\n",
    "                None,\n",
    "                T_transformer_with_names,\n",
    "                scorers_with_names, n_repeats=10)"
   ]
  },
  {
   "cell_type": "code",
   "execution_count": 59,
   "id": "d0bf0b3c",
   "metadata": {},
   "outputs": [],
   "source": [
    "from scipy.stats import spearmanr, entropy\n",
    "\n",
    "from numba import int32, double    # import the types\n",
    "from numba.experimental import jitclass\n",
    "\n",
    "spec = [\n",
    "    ('n', int32),\n",
    "    ('d', int32),\n",
    "    ('C', double[:, :]),\n",
    "    ('P', double[:, :])\n",
    "]\n",
    "\n",
    "@jitclass(spec)\n",
    "class Copula:    \n",
    "    def __init__(self, XY, XY_order):\n",
    "        \n",
    "        self.n, self.d = XY.shape\n",
    "#         if self.d<2:\n",
    "#             raise ValueError(f\"Data should be at least two-dimensional, but d={self.d}.\")\n",
    "            \n",
    "        # order statistics\n",
    "        ## XY_order = np.sort(XY, axis=0)\n",
    "        \n",
    "        # set C\n",
    "        self.C = np.zeros((self.n,self.n))\n",
    "\n",
    "        for i in range(self.n):\n",
    "            for j in range(self.n):\n",
    "                num = np.sum(np.logical_and(XY[:,0] <= XY_order[i,0], XY[:,1] <= XY_order[j,1])) / self.n\n",
    "                self.C[i,j] = num\n",
    "\n",
    "        # set P\n",
    "        i_n = np.arange(1, self.n+1) / self.n\n",
    "        j_n = np.arange(1, self.n+1) / self.n\n",
    "        self.P = np.outer(i_n, j_n)\n",
    "        \n",
    "    def spearman(self):\n",
    "\n",
    "#         if self.d!=2:\n",
    "#             raise ValueError(f\"Spearman's rho is the bivariate measure, but d={self.d}.\")\n",
    "\n",
    "        h_rho = 12/(self.n**2-1)\n",
    "        return h_rho * np.sum(self.C - self.P) # TODO: general d\n",
    "\n",
    "    def schweizer_wolff(self, norm=\"inf\"):\n",
    "\n",
    "#         if norm not in [1, 2, \"inf\"]:\n",
    "#             raise ValueError(\"Norm should be '1', '2', or 'inf'.\")\n",
    "\n",
    "        # normalizing factors\n",
    "        h_1 = ((1/(self.d+1)) - (1/(2**self.d))) ** -1\n",
    "        h_2 = 90 # TODO\n",
    "        h_inf = ((1/self.d)**(1/(self.d-1)) * (1 - (1/self.d)))**-1\n",
    "\n",
    "        if norm==1:\n",
    "            delta = h_1 / (self.n**self.d-1) * np.sum(np.abs(self.C - self.P))\n",
    "        elif norm==2:\n",
    "            delta_sq = h_2 / (self.n**self.d-1) * np.sum((self.C - self.P)**2)\n",
    "            delta = np.sqrt(delta_sq)\n",
    "        elif norm==\"inf\":\n",
    "            delta = h_inf * np.max(np.abs(self.C - self.P))\n",
    "\n",
    "        return delta"
   ]
  },
  {
   "cell_type": "code",
   "execution_count": 41,
   "id": "f0dd500d",
   "metadata": {},
   "outputs": [],
   "source": [
    "def ts_test_on_brain_networks(T_raw, y, brain_networks_with_names, T_transformer, scorer, n_repeats=10, ignore=tuple()):\n",
    "    \"\"\"\n",
    "    Test, how well feature generator X_transformer works on each brain network\n",
    "    TODO: X_transformer will get T_raw, now it get X_raw -- T_raw's correlation matrix\n",
    "    NOTE: scorer is simple crossvalidation with logistic regression;\n",
    "    for testing heavy simplicial models X_transformer(T_raw) = encoder(diagram(simplicial complex(T_raw))),\n",
    "    simplicial complex can be not full (particular dims, subsampling, <eps pruning),\n",
    "    scorer splits data in train/val (for hyperparameters)/test and uses decoder classifier\n",
    "    \"\"\"\n",
    "    scores = [None] * len(brain_networks_with_names)\n",
    "    for i, (brain_network, brain_network_name) in enumerate(brain_networks_with_names):\n",
    "        if i in ignore:\n",
    "            print(f\"{brain_network_name} ignored\")\n",
    "            scores[i] = \"Too long\"\n",
    "            continue\n",
    "        T_bn = T_raw[:, :, brain_network]\n",
    "        X = T_transformer(T_bn)\n",
    "        score = scorer(X, y, n_repeats=n_repeats)\n",
    "        # print(f\"Score {score} on {brain_network_name} network with {len(brain_network)} regions\")\n",
    "        scores[i] = score\n",
    "    return np.array(scores)"
   ]
  },
  {
   "cell_type": "code",
   "execution_count": 45,
   "id": "37a7746a",
   "metadata": {},
   "outputs": [
    {
     "data": {
      "application/vnd.jupyter.widget-view+json": {
       "model_id": "76ae8bcf085543d9bab8ab3df2182b1d",
       "version_major": 2,
       "version_minor": 0
      },
      "text/plain": [
       "  0%|          | 0/10 [00:00<?, ?it/s]"
      ]
     },
     "metadata": {},
     "output_type": "display_data"
    },
    {
     "data": {
      "application/vnd.jupyter.widget-view+json": {
       "model_id": "6943a5c667d643c3a12f0eb3b0aa458e",
       "version_major": 2,
       "version_minor": 0
      },
      "text/plain": [
       "  0%|          | 0/10 [00:00<?, ?it/s]"
      ]
     },
     "metadata": {},
     "output_type": "display_data"
    },
    {
     "data": {
      "application/vnd.jupyter.widget-view+json": {
       "model_id": "2e9b7902120e42f893eb957f64b6e12a",
       "version_major": 2,
       "version_minor": 0
      },
      "text/plain": [
       "  0%|          | 0/10 [00:00<?, ?it/s]"
      ]
     },
     "metadata": {},
     "output_type": "display_data"
    },
    {
     "data": {
      "application/vnd.jupyter.widget-view+json": {
       "model_id": "0673cd3545984a5fbcc850284711adb0",
       "version_major": 2,
       "version_minor": 0
      },
      "text/plain": [
       "  0%|          | 0/10 [00:00<?, ?it/s]"
      ]
     },
     "metadata": {},
     "output_type": "display_data"
    },
    {
     "data": {
      "application/vnd.jupyter.widget-view+json": {
       "model_id": "167fef56115141c5a975e40e128ce06a",
       "version_major": 2,
       "version_minor": 0
      },
      "text/plain": [
       "  0%|          | 0/10 [00:00<?, ?it/s]"
      ]
     },
     "metadata": {},
     "output_type": "display_data"
    },
    {
     "data": {
      "application/vnd.jupyter.widget-view+json": {
       "model_id": "6c03c872c1614af4924041ac493f48c2",
       "version_major": 2,
       "version_minor": 0
      },
      "text/plain": [
       "  0%|          | 0/10 [00:00<?, ?it/s]"
      ]
     },
     "metadata": {},
     "output_type": "display_data"
    },
    {
     "name": "stdout",
     "output_type": "stream",
     "text": [
      "['0.77460 ± 0.02941', '0.76163 ± 0.02914', '0.77334 ± 0.03067', '0.74415 ± 0.02743', '0.73934 ± 0.02596', '0.74321 ± 0.02738'] visual cortex (12 regions)\n"
     ]
    },
    {
     "data": {
      "application/vnd.jupyter.widget-view+json": {
       "model_id": "4b1b010d814d4a64b174d086008ce356",
       "version_major": 2,
       "version_minor": 0
      },
      "text/plain": [
       "  0%|          | 0/10 [00:00<?, ?it/s]"
      ]
     },
     "metadata": {},
     "output_type": "display_data"
    },
    {
     "data": {
      "application/vnd.jupyter.widget-view+json": {
       "model_id": "1370658efee041fcbaec07fe31c95bd4",
       "version_major": 2,
       "version_minor": 0
      },
      "text/plain": [
       "  0%|          | 0/10 [00:00<?, ?it/s]"
      ]
     },
     "metadata": {},
     "output_type": "display_data"
    },
    {
     "data": {
      "application/vnd.jupyter.widget-view+json": {
       "model_id": "235f7f27282d47c9b9de9bb66ffa7566",
       "version_major": 2,
       "version_minor": 0
      },
      "text/plain": [
       "  0%|          | 0/10 [00:00<?, ?it/s]"
      ]
     },
     "metadata": {},
     "output_type": "display_data"
    },
    {
     "data": {
      "application/vnd.jupyter.widget-view+json": {
       "model_id": "20629329583440f08e1d44b5823c34bd",
       "version_major": 2,
       "version_minor": 0
      },
      "text/plain": [
       "  0%|          | 0/10 [00:00<?, ?it/s]"
      ]
     },
     "metadata": {},
     "output_type": "display_data"
    },
    {
     "data": {
      "application/vnd.jupyter.widget-view+json": {
       "model_id": "58ebb961f1d74c438f5e9315ec8a540b",
       "version_major": 2,
       "version_minor": 0
      },
      "text/plain": [
       "  0%|          | 0/10 [00:00<?, ?it/s]"
      ]
     },
     "metadata": {},
     "output_type": "display_data"
    },
    {
     "data": {
      "application/vnd.jupyter.widget-view+json": {
       "model_id": "b6098a4cbcfd4e6b99a9c66fa30d8c4f",
       "version_major": 2,
       "version_minor": 0
      },
      "text/plain": [
       "  0%|          | 0/10 [00:00<?, ?it/s]"
      ]
     },
     "metadata": {},
     "output_type": "display_data"
    },
    {
     "name": "stdout",
     "output_type": "stream",
     "text": [
      "['0.77460 ± 0.02941', '0.76163 ± 0.02914', '0.77334 ± 0.03067', '0.74415 ± 0.02743', '0.73934 ± 0.02596', '0.74321 ± 0.02738'] sensorimotor network (SMN) (12 regions)\n"
     ]
    },
    {
     "data": {
      "application/vnd.jupyter.widget-view+json": {
       "model_id": "34085932cf394397b6e2437ac16477d3",
       "version_major": 2,
       "version_minor": 0
      },
      "text/plain": [
       "  0%|          | 0/10 [00:00<?, ?it/s]"
      ]
     },
     "metadata": {},
     "output_type": "display_data"
    },
    {
     "data": {
      "application/vnd.jupyter.widget-view+json": {
       "model_id": "c9c4df53f6ee4a56bedd9fc1d0d6f351",
       "version_major": 2,
       "version_minor": 0
      },
      "text/plain": [
       "  0%|          | 0/10 [00:00<?, ?it/s]"
      ]
     },
     "metadata": {},
     "output_type": "display_data"
    },
    {
     "ename": "KeyboardInterrupt",
     "evalue": "",
     "output_type": "error",
     "traceback": [
      "\u001b[0;31m---------------------------------------------------------------------------\u001b[0m",
      "\u001b[0;31mKeyboardInterrupt\u001b[0m                         Traceback (most recent call last)",
      "Cell \u001b[0;32mIn [45], line 40\u001b[0m\n\u001b[1;32m     10\u001b[0m copulas_res \u001b[38;5;241m=\u001b[39m []\n\u001b[1;32m     11\u001b[0m \u001b[38;5;28;01mfor\u001b[39;00m brain_network, brain_network_name \u001b[38;5;129;01min\u001b[39;00m brain_networks_with_names:\n\u001b[1;32m     12\u001b[0m \u001b[38;5;66m#     T_bn = T_raw[:, :, brain_network]\u001b[39m\n\u001b[1;32m     13\u001b[0m \n\u001b[0;32m   (...)\u001b[0m\n\u001b[1;32m     37\u001b[0m \u001b[38;5;66m#             Tk_spearman3[i, j] = cur.spearman()\u001b[39m\n\u001b[1;32m     38\u001b[0m \u001b[38;5;66m#             Tk_schweizer_wolff3[i, j] = cur.schweizer_wolff()\u001b[39m\n\u001b[0;32m---> 40\u001b[0m     copulas_res\u001b[38;5;241m.\u001b[39mappend([logistic_score(Tk_spearman2, y), \u001b[43mlogistic_score\u001b[49m\u001b[43m(\u001b[49m\u001b[43mTk_spearman3\u001b[49m\u001b[43m,\u001b[49m\u001b[43m \u001b[49m\u001b[43my\u001b[49m\u001b[43m)\u001b[49m,\n\u001b[1;32m     41\u001b[0m                         logistic_score(np\u001b[38;5;241m.\u001b[39mhstack((Tk_spearman2, Tk_spearman3)), y),\n\u001b[1;32m     42\u001b[0m                         logistic_score(Tk_schweizer_wolff2, y), logistic_score(Tk_schweizer_wolff3, y),\n\u001b[1;32m     43\u001b[0m                         logistic_score(np\u001b[38;5;241m.\u001b[39mhstack((Tk_schweizer_wolff2, Tk_schweizer_wolff3)), y)\n\u001b[1;32m     44\u001b[0m                        ])\n\u001b[1;32m     45\u001b[0m     \u001b[38;5;28mprint\u001b[39m(copulas_res[\u001b[38;5;241m-\u001b[39m\u001b[38;5;241m1\u001b[39m], brain_network_name)\n",
      "Cell \u001b[0;32mIn [43], line 15\u001b[0m, in \u001b[0;36mlogistic_score\u001b[0;34m(X, y, n_repeats, n_splits)\u001b[0m\n\u001b[1;32m     13\u001b[0m scaler \u001b[38;5;241m=\u001b[39m StandardScaler()\n\u001b[1;32m     14\u001b[0m model \u001b[38;5;241m=\u001b[39m LogisticRegression(C\u001b[38;5;241m=\u001b[39m\u001b[38;5;241m5\u001b[39m, max_iter\u001b[38;5;241m=\u001b[39m\u001b[38;5;241m1500\u001b[39m, random_state\u001b[38;5;241m=\u001b[39mi\u001b[38;5;241m*\u001b[39mn_repeats\u001b[38;5;241m+\u001b[39mj)\n\u001b[0;32m---> 15\u001b[0m clf \u001b[38;5;241m=\u001b[39m \u001b[43mPipeline\u001b[49m\u001b[43m(\u001b[49m\u001b[43m[\u001b[49m\u001b[43m(\u001b[49m\u001b[38;5;124;43m\"\u001b[39;49m\u001b[38;5;124;43mscaler\u001b[39;49m\u001b[38;5;124;43m\"\u001b[39;49m\u001b[43m,\u001b[49m\u001b[43m \u001b[49m\u001b[43mscaler\u001b[49m\u001b[43m)\u001b[49m\u001b[43m,\u001b[49m\u001b[43m \u001b[49m\u001b[43m(\u001b[49m\u001b[38;5;124;43m\"\u001b[39;49m\u001b[38;5;124;43mmodel\u001b[39;49m\u001b[38;5;124;43m\"\u001b[39;49m\u001b[43m,\u001b[49m\u001b[43m \u001b[49m\u001b[43mmodel\u001b[49m\u001b[43m)\u001b[49m\u001b[43m]\u001b[49m\u001b[43m)\u001b[49m\u001b[38;5;241;43m.\u001b[39;49m\u001b[43mfit\u001b[49m\u001b[43m(\u001b[49m\u001b[43mX_train\u001b[49m\u001b[43m,\u001b[49m\u001b[43m \u001b[49m\u001b[43my_train\u001b[49m\u001b[43m)\u001b[49m\n\u001b[1;32m     17\u001b[0m y_hat \u001b[38;5;241m=\u001b[39m clf\u001b[38;5;241m.\u001b[39mpredict(X_test)\n\u001b[1;32m     19\u001b[0m accuracy[i, j] \u001b[38;5;241m=\u001b[39m accuracy_score(y_test, y_hat)\n",
      "File \u001b[0;32m/usr/local/lib/python3.8/dist-packages/sklearn/pipeline.py:382\u001b[0m, in \u001b[0;36mPipeline.fit\u001b[0;34m(self, X, y, **fit_params)\u001b[0m\n\u001b[1;32m    380\u001b[0m     \u001b[38;5;28;01mif\u001b[39;00m \u001b[38;5;28mself\u001b[39m\u001b[38;5;241m.\u001b[39m_final_estimator \u001b[38;5;241m!=\u001b[39m \u001b[38;5;124m\"\u001b[39m\u001b[38;5;124mpassthrough\u001b[39m\u001b[38;5;124m\"\u001b[39m:\n\u001b[1;32m    381\u001b[0m         fit_params_last_step \u001b[38;5;241m=\u001b[39m fit_params_steps[\u001b[38;5;28mself\u001b[39m\u001b[38;5;241m.\u001b[39msteps[\u001b[38;5;241m-\u001b[39m\u001b[38;5;241m1\u001b[39m][\u001b[38;5;241m0\u001b[39m]]\n\u001b[0;32m--> 382\u001b[0m         \u001b[38;5;28;43mself\u001b[39;49m\u001b[38;5;241;43m.\u001b[39;49m\u001b[43m_final_estimator\u001b[49m\u001b[38;5;241;43m.\u001b[39;49m\u001b[43mfit\u001b[49m\u001b[43m(\u001b[49m\u001b[43mXt\u001b[49m\u001b[43m,\u001b[49m\u001b[43m \u001b[49m\u001b[43my\u001b[49m\u001b[43m,\u001b[49m\u001b[43m \u001b[49m\u001b[38;5;241;43m*\u001b[39;49m\u001b[38;5;241;43m*\u001b[39;49m\u001b[43mfit_params_last_step\u001b[49m\u001b[43m)\u001b[49m\n\u001b[1;32m    384\u001b[0m \u001b[38;5;28;01mreturn\u001b[39;00m \u001b[38;5;28mself\u001b[39m\n",
      "File \u001b[0;32m/usr/local/lib/python3.8/dist-packages/sklearn/linear_model/_logistic.py:1233\u001b[0m, in \u001b[0;36mLogisticRegression.fit\u001b[0;34m(self, X, y, sample_weight)\u001b[0m\n\u001b[1;32m   1230\u001b[0m \u001b[38;5;28;01melse\u001b[39;00m:\n\u001b[1;32m   1231\u001b[0m     n_threads \u001b[38;5;241m=\u001b[39m \u001b[38;5;241m1\u001b[39m\n\u001b[0;32m-> 1233\u001b[0m fold_coefs_ \u001b[38;5;241m=\u001b[39m \u001b[43mParallel\u001b[49m\u001b[43m(\u001b[49m\u001b[43mn_jobs\u001b[49m\u001b[38;5;241;43m=\u001b[39;49m\u001b[38;5;28;43mself\u001b[39;49m\u001b[38;5;241;43m.\u001b[39;49m\u001b[43mn_jobs\u001b[49m\u001b[43m,\u001b[49m\u001b[43m \u001b[49m\u001b[43mverbose\u001b[49m\u001b[38;5;241;43m=\u001b[39;49m\u001b[38;5;28;43mself\u001b[39;49m\u001b[38;5;241;43m.\u001b[39;49m\u001b[43mverbose\u001b[49m\u001b[43m,\u001b[49m\u001b[43m \u001b[49m\u001b[43mprefer\u001b[49m\u001b[38;5;241;43m=\u001b[39;49m\u001b[43mprefer\u001b[49m\u001b[43m)\u001b[49m\u001b[43m(\u001b[49m\n\u001b[1;32m   1234\u001b[0m \u001b[43m    \u001b[49m\u001b[43mpath_func\u001b[49m\u001b[43m(\u001b[49m\n\u001b[1;32m   1235\u001b[0m \u001b[43m        \u001b[49m\u001b[43mX\u001b[49m\u001b[43m,\u001b[49m\n\u001b[1;32m   1236\u001b[0m \u001b[43m        \u001b[49m\u001b[43my\u001b[49m\u001b[43m,\u001b[49m\n\u001b[1;32m   1237\u001b[0m \u001b[43m        \u001b[49m\u001b[43mpos_class\u001b[49m\u001b[38;5;241;43m=\u001b[39;49m\u001b[43mclass_\u001b[49m\u001b[43m,\u001b[49m\n\u001b[1;32m   1238\u001b[0m \u001b[43m        \u001b[49m\u001b[43mCs\u001b[49m\u001b[38;5;241;43m=\u001b[39;49m\u001b[43m[\u001b[49m\u001b[43mC_\u001b[49m\u001b[43m]\u001b[49m\u001b[43m,\u001b[49m\n\u001b[1;32m   1239\u001b[0m \u001b[43m        \u001b[49m\u001b[43ml1_ratio\u001b[49m\u001b[38;5;241;43m=\u001b[39;49m\u001b[38;5;28;43mself\u001b[39;49m\u001b[38;5;241;43m.\u001b[39;49m\u001b[43ml1_ratio\u001b[49m\u001b[43m,\u001b[49m\n\u001b[1;32m   1240\u001b[0m \u001b[43m        \u001b[49m\u001b[43mfit_intercept\u001b[49m\u001b[38;5;241;43m=\u001b[39;49m\u001b[38;5;28;43mself\u001b[39;49m\u001b[38;5;241;43m.\u001b[39;49m\u001b[43mfit_intercept\u001b[49m\u001b[43m,\u001b[49m\n\u001b[1;32m   1241\u001b[0m \u001b[43m        \u001b[49m\u001b[43mtol\u001b[49m\u001b[38;5;241;43m=\u001b[39;49m\u001b[38;5;28;43mself\u001b[39;49m\u001b[38;5;241;43m.\u001b[39;49m\u001b[43mtol\u001b[49m\u001b[43m,\u001b[49m\n\u001b[1;32m   1242\u001b[0m \u001b[43m        \u001b[49m\u001b[43mverbose\u001b[49m\u001b[38;5;241;43m=\u001b[39;49m\u001b[38;5;28;43mself\u001b[39;49m\u001b[38;5;241;43m.\u001b[39;49m\u001b[43mverbose\u001b[49m\u001b[43m,\u001b[49m\n\u001b[1;32m   1243\u001b[0m \u001b[43m        \u001b[49m\u001b[43msolver\u001b[49m\u001b[38;5;241;43m=\u001b[39;49m\u001b[43msolver\u001b[49m\u001b[43m,\u001b[49m\n\u001b[1;32m   1244\u001b[0m \u001b[43m        \u001b[49m\u001b[43mmulti_class\u001b[49m\u001b[38;5;241;43m=\u001b[39;49m\u001b[43mmulti_class\u001b[49m\u001b[43m,\u001b[49m\n\u001b[1;32m   1245\u001b[0m \u001b[43m        \u001b[49m\u001b[43mmax_iter\u001b[49m\u001b[38;5;241;43m=\u001b[39;49m\u001b[38;5;28;43mself\u001b[39;49m\u001b[38;5;241;43m.\u001b[39;49m\u001b[43mmax_iter\u001b[49m\u001b[43m,\u001b[49m\n\u001b[1;32m   1246\u001b[0m \u001b[43m        \u001b[49m\u001b[43mclass_weight\u001b[49m\u001b[38;5;241;43m=\u001b[39;49m\u001b[38;5;28;43mself\u001b[39;49m\u001b[38;5;241;43m.\u001b[39;49m\u001b[43mclass_weight\u001b[49m\u001b[43m,\u001b[49m\n\u001b[1;32m   1247\u001b[0m \u001b[43m        \u001b[49m\u001b[43mcheck_input\u001b[49m\u001b[38;5;241;43m=\u001b[39;49m\u001b[38;5;28;43;01mFalse\u001b[39;49;00m\u001b[43m,\u001b[49m\n\u001b[1;32m   1248\u001b[0m \u001b[43m        \u001b[49m\u001b[43mrandom_state\u001b[49m\u001b[38;5;241;43m=\u001b[39;49m\u001b[38;5;28;43mself\u001b[39;49m\u001b[38;5;241;43m.\u001b[39;49m\u001b[43mrandom_state\u001b[49m\u001b[43m,\u001b[49m\n\u001b[1;32m   1249\u001b[0m \u001b[43m        \u001b[49m\u001b[43mcoef\u001b[49m\u001b[38;5;241;43m=\u001b[39;49m\u001b[43mwarm_start_coef_\u001b[49m\u001b[43m,\u001b[49m\n\u001b[1;32m   1250\u001b[0m \u001b[43m        \u001b[49m\u001b[43mpenalty\u001b[49m\u001b[38;5;241;43m=\u001b[39;49m\u001b[43mpenalty\u001b[49m\u001b[43m,\u001b[49m\n\u001b[1;32m   1251\u001b[0m \u001b[43m        \u001b[49m\u001b[43mmax_squared_sum\u001b[49m\u001b[38;5;241;43m=\u001b[39;49m\u001b[43mmax_squared_sum\u001b[49m\u001b[43m,\u001b[49m\n\u001b[1;32m   1252\u001b[0m \u001b[43m        \u001b[49m\u001b[43msample_weight\u001b[49m\u001b[38;5;241;43m=\u001b[39;49m\u001b[43msample_weight\u001b[49m\u001b[43m,\u001b[49m\n\u001b[1;32m   1253\u001b[0m \u001b[43m        \u001b[49m\u001b[43mn_threads\u001b[49m\u001b[38;5;241;43m=\u001b[39;49m\u001b[43mn_threads\u001b[49m\u001b[43m,\u001b[49m\n\u001b[1;32m   1254\u001b[0m \u001b[43m    \u001b[49m\u001b[43m)\u001b[49m\n\u001b[1;32m   1255\u001b[0m \u001b[43m    \u001b[49m\u001b[38;5;28;43;01mfor\u001b[39;49;00m\u001b[43m \u001b[49m\u001b[43mclass_\u001b[49m\u001b[43m,\u001b[49m\u001b[43m \u001b[49m\u001b[43mwarm_start_coef_\u001b[49m\u001b[43m \u001b[49m\u001b[38;5;129;43;01min\u001b[39;49;00m\u001b[43m \u001b[49m\u001b[38;5;28;43mzip\u001b[39;49m\u001b[43m(\u001b[49m\u001b[43mclasses_\u001b[49m\u001b[43m,\u001b[49m\u001b[43m \u001b[49m\u001b[43mwarm_start_coef\u001b[49m\u001b[43m)\u001b[49m\n\u001b[1;32m   1256\u001b[0m \u001b[43m\u001b[49m\u001b[43m)\u001b[49m\n\u001b[1;32m   1258\u001b[0m fold_coefs_, _, n_iter_ \u001b[38;5;241m=\u001b[39m \u001b[38;5;28mzip\u001b[39m(\u001b[38;5;241m*\u001b[39mfold_coefs_)\n\u001b[1;32m   1259\u001b[0m \u001b[38;5;28mself\u001b[39m\u001b[38;5;241m.\u001b[39mn_iter_ \u001b[38;5;241m=\u001b[39m np\u001b[38;5;241m.\u001b[39masarray(n_iter_, dtype\u001b[38;5;241m=\u001b[39mnp\u001b[38;5;241m.\u001b[39mint32)[:, \u001b[38;5;241m0\u001b[39m]\n",
      "File \u001b[0;32m/usr/local/lib/python3.8/dist-packages/joblib/parallel.py:1085\u001b[0m, in \u001b[0;36mParallel.__call__\u001b[0;34m(self, iterable)\u001b[0m\n\u001b[1;32m   1076\u001b[0m \u001b[38;5;28;01mtry\u001b[39;00m:\n\u001b[1;32m   1077\u001b[0m     \u001b[38;5;66m# Only set self._iterating to True if at least a batch\u001b[39m\n\u001b[1;32m   1078\u001b[0m     \u001b[38;5;66m# was dispatched. In particular this covers the edge\u001b[39m\n\u001b[0;32m   (...)\u001b[0m\n\u001b[1;32m   1082\u001b[0m     \u001b[38;5;66m# was very quick and its callback already dispatched all the\u001b[39m\n\u001b[1;32m   1083\u001b[0m     \u001b[38;5;66m# remaining jobs.\u001b[39m\n\u001b[1;32m   1084\u001b[0m     \u001b[38;5;28mself\u001b[39m\u001b[38;5;241m.\u001b[39m_iterating \u001b[38;5;241m=\u001b[39m \u001b[38;5;28;01mFalse\u001b[39;00m\n\u001b[0;32m-> 1085\u001b[0m     \u001b[38;5;28;01mif\u001b[39;00m \u001b[38;5;28;43mself\u001b[39;49m\u001b[38;5;241;43m.\u001b[39;49m\u001b[43mdispatch_one_batch\u001b[49m\u001b[43m(\u001b[49m\u001b[43miterator\u001b[49m\u001b[43m)\u001b[49m:\n\u001b[1;32m   1086\u001b[0m         \u001b[38;5;28mself\u001b[39m\u001b[38;5;241m.\u001b[39m_iterating \u001b[38;5;241m=\u001b[39m \u001b[38;5;28mself\u001b[39m\u001b[38;5;241m.\u001b[39m_original_iterator \u001b[38;5;129;01mis\u001b[39;00m \u001b[38;5;129;01mnot\u001b[39;00m \u001b[38;5;28;01mNone\u001b[39;00m\n\u001b[1;32m   1088\u001b[0m     \u001b[38;5;28;01mwhile\u001b[39;00m \u001b[38;5;28mself\u001b[39m\u001b[38;5;241m.\u001b[39mdispatch_one_batch(iterator):\n",
      "File \u001b[0;32m/usr/local/lib/python3.8/dist-packages/joblib/parallel.py:901\u001b[0m, in \u001b[0;36mParallel.dispatch_one_batch\u001b[0;34m(self, iterator)\u001b[0m\n\u001b[1;32m    899\u001b[0m     \u001b[38;5;28;01mreturn\u001b[39;00m \u001b[38;5;28;01mFalse\u001b[39;00m\n\u001b[1;32m    900\u001b[0m \u001b[38;5;28;01melse\u001b[39;00m:\n\u001b[0;32m--> 901\u001b[0m     \u001b[38;5;28;43mself\u001b[39;49m\u001b[38;5;241;43m.\u001b[39;49m\u001b[43m_dispatch\u001b[49m\u001b[43m(\u001b[49m\u001b[43mtasks\u001b[49m\u001b[43m)\u001b[49m\n\u001b[1;32m    902\u001b[0m     \u001b[38;5;28;01mreturn\u001b[39;00m \u001b[38;5;28;01mTrue\u001b[39;00m\n",
      "File \u001b[0;32m/usr/local/lib/python3.8/dist-packages/joblib/parallel.py:819\u001b[0m, in \u001b[0;36mParallel._dispatch\u001b[0;34m(self, batch)\u001b[0m\n\u001b[1;32m    817\u001b[0m \u001b[38;5;28;01mwith\u001b[39;00m \u001b[38;5;28mself\u001b[39m\u001b[38;5;241m.\u001b[39m_lock:\n\u001b[1;32m    818\u001b[0m     job_idx \u001b[38;5;241m=\u001b[39m \u001b[38;5;28mlen\u001b[39m(\u001b[38;5;28mself\u001b[39m\u001b[38;5;241m.\u001b[39m_jobs)\n\u001b[0;32m--> 819\u001b[0m     job \u001b[38;5;241m=\u001b[39m \u001b[38;5;28;43mself\u001b[39;49m\u001b[38;5;241;43m.\u001b[39;49m\u001b[43m_backend\u001b[49m\u001b[38;5;241;43m.\u001b[39;49m\u001b[43mapply_async\u001b[49m\u001b[43m(\u001b[49m\u001b[43mbatch\u001b[49m\u001b[43m,\u001b[49m\u001b[43m \u001b[49m\u001b[43mcallback\u001b[49m\u001b[38;5;241;43m=\u001b[39;49m\u001b[43mcb\u001b[49m\u001b[43m)\u001b[49m\n\u001b[1;32m    820\u001b[0m     \u001b[38;5;66m# A job can complete so quickly than its callback is\u001b[39m\n\u001b[1;32m    821\u001b[0m     \u001b[38;5;66m# called before we get here, causing self._jobs to\u001b[39m\n\u001b[1;32m    822\u001b[0m     \u001b[38;5;66m# grow. To ensure correct results ordering, .insert is\u001b[39m\n\u001b[1;32m    823\u001b[0m     \u001b[38;5;66m# used (rather than .append) in the following line\u001b[39m\n\u001b[1;32m    824\u001b[0m     \u001b[38;5;28mself\u001b[39m\u001b[38;5;241m.\u001b[39m_jobs\u001b[38;5;241m.\u001b[39minsert(job_idx, job)\n",
      "File \u001b[0;32m/usr/local/lib/python3.8/dist-packages/joblib/_parallel_backends.py:208\u001b[0m, in \u001b[0;36mSequentialBackend.apply_async\u001b[0;34m(self, func, callback)\u001b[0m\n\u001b[1;32m    206\u001b[0m \u001b[38;5;28;01mdef\u001b[39;00m \u001b[38;5;21mapply_async\u001b[39m(\u001b[38;5;28mself\u001b[39m, func, callback\u001b[38;5;241m=\u001b[39m\u001b[38;5;28;01mNone\u001b[39;00m):\n\u001b[1;32m    207\u001b[0m     \u001b[38;5;124m\"\"\"Schedule a func to be run\"\"\"\u001b[39m\n\u001b[0;32m--> 208\u001b[0m     result \u001b[38;5;241m=\u001b[39m \u001b[43mImmediateResult\u001b[49m\u001b[43m(\u001b[49m\u001b[43mfunc\u001b[49m\u001b[43m)\u001b[49m\n\u001b[1;32m    209\u001b[0m     \u001b[38;5;28;01mif\u001b[39;00m callback:\n\u001b[1;32m    210\u001b[0m         callback(result)\n",
      "File \u001b[0;32m/usr/local/lib/python3.8/dist-packages/joblib/_parallel_backends.py:597\u001b[0m, in \u001b[0;36mImmediateResult.__init__\u001b[0;34m(self, batch)\u001b[0m\n\u001b[1;32m    594\u001b[0m \u001b[38;5;28;01mdef\u001b[39;00m \u001b[38;5;21m__init__\u001b[39m(\u001b[38;5;28mself\u001b[39m, batch):\n\u001b[1;32m    595\u001b[0m     \u001b[38;5;66m# Don't delay the application, to avoid keeping the input\u001b[39m\n\u001b[1;32m    596\u001b[0m     \u001b[38;5;66m# arguments in memory\u001b[39m\n\u001b[0;32m--> 597\u001b[0m     \u001b[38;5;28mself\u001b[39m\u001b[38;5;241m.\u001b[39mresults \u001b[38;5;241m=\u001b[39m \u001b[43mbatch\u001b[49m\u001b[43m(\u001b[49m\u001b[43m)\u001b[49m\n",
      "File \u001b[0;32m/usr/local/lib/python3.8/dist-packages/joblib/parallel.py:288\u001b[0m, in \u001b[0;36mBatchedCalls.__call__\u001b[0;34m(self)\u001b[0m\n\u001b[1;32m    284\u001b[0m \u001b[38;5;28;01mdef\u001b[39;00m \u001b[38;5;21m__call__\u001b[39m(\u001b[38;5;28mself\u001b[39m):\n\u001b[1;32m    285\u001b[0m     \u001b[38;5;66m# Set the default nested backend to self._backend but do not set the\u001b[39m\n\u001b[1;32m    286\u001b[0m     \u001b[38;5;66m# change the default number of processes to -1\u001b[39m\n\u001b[1;32m    287\u001b[0m     \u001b[38;5;28;01mwith\u001b[39;00m parallel_backend(\u001b[38;5;28mself\u001b[39m\u001b[38;5;241m.\u001b[39m_backend, n_jobs\u001b[38;5;241m=\u001b[39m\u001b[38;5;28mself\u001b[39m\u001b[38;5;241m.\u001b[39m_n_jobs):\n\u001b[0;32m--> 288\u001b[0m         \u001b[38;5;28;01mreturn\u001b[39;00m [func(\u001b[38;5;241m*\u001b[39margs, \u001b[38;5;241m*\u001b[39m\u001b[38;5;241m*\u001b[39mkwargs)\n\u001b[1;32m    289\u001b[0m                 \u001b[38;5;28;01mfor\u001b[39;00m func, args, kwargs \u001b[38;5;129;01min\u001b[39;00m \u001b[38;5;28mself\u001b[39m\u001b[38;5;241m.\u001b[39mitems]\n",
      "File \u001b[0;32m/usr/local/lib/python3.8/dist-packages/joblib/parallel.py:288\u001b[0m, in \u001b[0;36m<listcomp>\u001b[0;34m(.0)\u001b[0m\n\u001b[1;32m    284\u001b[0m \u001b[38;5;28;01mdef\u001b[39;00m \u001b[38;5;21m__call__\u001b[39m(\u001b[38;5;28mself\u001b[39m):\n\u001b[1;32m    285\u001b[0m     \u001b[38;5;66m# Set the default nested backend to self._backend but do not set the\u001b[39m\n\u001b[1;32m    286\u001b[0m     \u001b[38;5;66m# change the default number of processes to -1\u001b[39m\n\u001b[1;32m    287\u001b[0m     \u001b[38;5;28;01mwith\u001b[39;00m parallel_backend(\u001b[38;5;28mself\u001b[39m\u001b[38;5;241m.\u001b[39m_backend, n_jobs\u001b[38;5;241m=\u001b[39m\u001b[38;5;28mself\u001b[39m\u001b[38;5;241m.\u001b[39m_n_jobs):\n\u001b[0;32m--> 288\u001b[0m         \u001b[38;5;28;01mreturn\u001b[39;00m [\u001b[43mfunc\u001b[49m\u001b[43m(\u001b[49m\u001b[38;5;241;43m*\u001b[39;49m\u001b[43margs\u001b[49m\u001b[43m,\u001b[49m\u001b[43m \u001b[49m\u001b[38;5;241;43m*\u001b[39;49m\u001b[38;5;241;43m*\u001b[39;49m\u001b[43mkwargs\u001b[49m\u001b[43m)\u001b[49m\n\u001b[1;32m    289\u001b[0m                 \u001b[38;5;28;01mfor\u001b[39;00m func, args, kwargs \u001b[38;5;129;01min\u001b[39;00m \u001b[38;5;28mself\u001b[39m\u001b[38;5;241m.\u001b[39mitems]\n",
      "File \u001b[0;32m/usr/local/lib/python3.8/dist-packages/sklearn/utils/fixes.py:117\u001b[0m, in \u001b[0;36m_FuncWrapper.__call__\u001b[0;34m(self, *args, **kwargs)\u001b[0m\n\u001b[1;32m    115\u001b[0m \u001b[38;5;28;01mdef\u001b[39;00m \u001b[38;5;21m__call__\u001b[39m(\u001b[38;5;28mself\u001b[39m, \u001b[38;5;241m*\u001b[39margs, \u001b[38;5;241m*\u001b[39m\u001b[38;5;241m*\u001b[39mkwargs):\n\u001b[1;32m    116\u001b[0m     \u001b[38;5;28;01mwith\u001b[39;00m config_context(\u001b[38;5;241m*\u001b[39m\u001b[38;5;241m*\u001b[39m\u001b[38;5;28mself\u001b[39m\u001b[38;5;241m.\u001b[39mconfig):\n\u001b[0;32m--> 117\u001b[0m         \u001b[38;5;28;01mreturn\u001b[39;00m \u001b[38;5;28;43mself\u001b[39;49m\u001b[38;5;241;43m.\u001b[39;49m\u001b[43mfunction\u001b[49m\u001b[43m(\u001b[49m\u001b[38;5;241;43m*\u001b[39;49m\u001b[43margs\u001b[49m\u001b[43m,\u001b[49m\u001b[43m \u001b[49m\u001b[38;5;241;43m*\u001b[39;49m\u001b[38;5;241;43m*\u001b[39;49m\u001b[43mkwargs\u001b[49m\u001b[43m)\u001b[49m\n",
      "File \u001b[0;32m/usr/local/lib/python3.8/dist-packages/sklearn/linear_model/_logistic.py:436\u001b[0m, in \u001b[0;36m_logistic_regression_path\u001b[0;34m(X, y, pos_class, Cs, fit_intercept, max_iter, tol, verbose, solver, coef, class_weight, dual, penalty, intercept_scaling, multi_class, random_state, check_input, max_squared_sum, sample_weight, l1_ratio, n_threads)\u001b[0m\n\u001b[1;32m    432\u001b[0m l2_reg_strength \u001b[38;5;241m=\u001b[39m \u001b[38;5;241m1.0\u001b[39m \u001b[38;5;241m/\u001b[39m C\n\u001b[1;32m    433\u001b[0m iprint \u001b[38;5;241m=\u001b[39m [\u001b[38;5;241m-\u001b[39m\u001b[38;5;241m1\u001b[39m, \u001b[38;5;241m50\u001b[39m, \u001b[38;5;241m1\u001b[39m, \u001b[38;5;241m100\u001b[39m, \u001b[38;5;241m101\u001b[39m][\n\u001b[1;32m    434\u001b[0m     np\u001b[38;5;241m.\u001b[39msearchsorted(np\u001b[38;5;241m.\u001b[39marray([\u001b[38;5;241m0\u001b[39m, \u001b[38;5;241m1\u001b[39m, \u001b[38;5;241m2\u001b[39m, \u001b[38;5;241m3\u001b[39m]), verbose)\n\u001b[1;32m    435\u001b[0m ]\n\u001b[0;32m--> 436\u001b[0m opt_res \u001b[38;5;241m=\u001b[39m \u001b[43moptimize\u001b[49m\u001b[38;5;241;43m.\u001b[39;49m\u001b[43mminimize\u001b[49m\u001b[43m(\u001b[49m\n\u001b[1;32m    437\u001b[0m \u001b[43m    \u001b[49m\u001b[43mfunc\u001b[49m\u001b[43m,\u001b[49m\n\u001b[1;32m    438\u001b[0m \u001b[43m    \u001b[49m\u001b[43mw0\u001b[49m\u001b[43m,\u001b[49m\n\u001b[1;32m    439\u001b[0m \u001b[43m    \u001b[49m\u001b[43mmethod\u001b[49m\u001b[38;5;241;43m=\u001b[39;49m\u001b[38;5;124;43m\"\u001b[39;49m\u001b[38;5;124;43mL-BFGS-B\u001b[39;49m\u001b[38;5;124;43m\"\u001b[39;49m\u001b[43m,\u001b[49m\n\u001b[1;32m    440\u001b[0m \u001b[43m    \u001b[49m\u001b[43mjac\u001b[49m\u001b[38;5;241;43m=\u001b[39;49m\u001b[38;5;28;43;01mTrue\u001b[39;49;00m\u001b[43m,\u001b[49m\n\u001b[1;32m    441\u001b[0m \u001b[43m    \u001b[49m\u001b[43margs\u001b[49m\u001b[38;5;241;43m=\u001b[39;49m\u001b[43m(\u001b[49m\u001b[43mX\u001b[49m\u001b[43m,\u001b[49m\u001b[43m \u001b[49m\u001b[43mtarget\u001b[49m\u001b[43m,\u001b[49m\u001b[43m \u001b[49m\u001b[43msample_weight\u001b[49m\u001b[43m,\u001b[49m\u001b[43m \u001b[49m\u001b[43ml2_reg_strength\u001b[49m\u001b[43m,\u001b[49m\u001b[43m \u001b[49m\u001b[43mn_threads\u001b[49m\u001b[43m)\u001b[49m\u001b[43m,\u001b[49m\n\u001b[1;32m    442\u001b[0m \u001b[43m    \u001b[49m\u001b[43moptions\u001b[49m\u001b[38;5;241;43m=\u001b[39;49m\u001b[43m{\u001b[49m\u001b[38;5;124;43m\"\u001b[39;49m\u001b[38;5;124;43miprint\u001b[39;49m\u001b[38;5;124;43m\"\u001b[39;49m\u001b[43m:\u001b[49m\u001b[43m \u001b[49m\u001b[43miprint\u001b[49m\u001b[43m,\u001b[49m\u001b[43m \u001b[49m\u001b[38;5;124;43m\"\u001b[39;49m\u001b[38;5;124;43mgtol\u001b[39;49m\u001b[38;5;124;43m\"\u001b[39;49m\u001b[43m:\u001b[49m\u001b[43m \u001b[49m\u001b[43mtol\u001b[49m\u001b[43m,\u001b[49m\u001b[43m \u001b[49m\u001b[38;5;124;43m\"\u001b[39;49m\u001b[38;5;124;43mmaxiter\u001b[39;49m\u001b[38;5;124;43m\"\u001b[39;49m\u001b[43m:\u001b[49m\u001b[43m \u001b[49m\u001b[43mmax_iter\u001b[49m\u001b[43m}\u001b[49m\u001b[43m,\u001b[49m\n\u001b[1;32m    443\u001b[0m \u001b[43m\u001b[49m\u001b[43m)\u001b[49m\n\u001b[1;32m    444\u001b[0m n_iter_i \u001b[38;5;241m=\u001b[39m _check_optimize_result(\n\u001b[1;32m    445\u001b[0m     solver,\n\u001b[1;32m    446\u001b[0m     opt_res,\n\u001b[1;32m    447\u001b[0m     max_iter,\n\u001b[1;32m    448\u001b[0m     extra_warning_msg\u001b[38;5;241m=\u001b[39m_LOGISTIC_SOLVER_CONVERGENCE_MSG,\n\u001b[1;32m    449\u001b[0m )\n\u001b[1;32m    450\u001b[0m w0, loss \u001b[38;5;241m=\u001b[39m opt_res\u001b[38;5;241m.\u001b[39mx, opt_res\u001b[38;5;241m.\u001b[39mfun\n",
      "File \u001b[0;32m/usr/local/lib/python3.8/dist-packages/scipy/optimize/_minimize.py:699\u001b[0m, in \u001b[0;36mminimize\u001b[0;34m(fun, x0, args, method, jac, hess, hessp, bounds, constraints, tol, callback, options)\u001b[0m\n\u001b[1;32m    696\u001b[0m     res \u001b[38;5;241m=\u001b[39m _minimize_newtoncg(fun, x0, args, jac, hess, hessp, callback,\n\u001b[1;32m    697\u001b[0m                              \u001b[38;5;241m*\u001b[39m\u001b[38;5;241m*\u001b[39moptions)\n\u001b[1;32m    698\u001b[0m \u001b[38;5;28;01melif\u001b[39;00m meth \u001b[38;5;241m==\u001b[39m \u001b[38;5;124m'\u001b[39m\u001b[38;5;124ml-bfgs-b\u001b[39m\u001b[38;5;124m'\u001b[39m:\n\u001b[0;32m--> 699\u001b[0m     res \u001b[38;5;241m=\u001b[39m \u001b[43m_minimize_lbfgsb\u001b[49m\u001b[43m(\u001b[49m\u001b[43mfun\u001b[49m\u001b[43m,\u001b[49m\u001b[43m \u001b[49m\u001b[43mx0\u001b[49m\u001b[43m,\u001b[49m\u001b[43m \u001b[49m\u001b[43margs\u001b[49m\u001b[43m,\u001b[49m\u001b[43m \u001b[49m\u001b[43mjac\u001b[49m\u001b[43m,\u001b[49m\u001b[43m \u001b[49m\u001b[43mbounds\u001b[49m\u001b[43m,\u001b[49m\n\u001b[1;32m    700\u001b[0m \u001b[43m                           \u001b[49m\u001b[43mcallback\u001b[49m\u001b[38;5;241;43m=\u001b[39;49m\u001b[43mcallback\u001b[49m\u001b[43m,\u001b[49m\u001b[43m \u001b[49m\u001b[38;5;241;43m*\u001b[39;49m\u001b[38;5;241;43m*\u001b[39;49m\u001b[43moptions\u001b[49m\u001b[43m)\u001b[49m\n\u001b[1;32m    701\u001b[0m \u001b[38;5;28;01melif\u001b[39;00m meth \u001b[38;5;241m==\u001b[39m \u001b[38;5;124m'\u001b[39m\u001b[38;5;124mtnc\u001b[39m\u001b[38;5;124m'\u001b[39m:\n\u001b[1;32m    702\u001b[0m     res \u001b[38;5;241m=\u001b[39m _minimize_tnc(fun, x0, args, jac, bounds, callback\u001b[38;5;241m=\u001b[39mcallback,\n\u001b[1;32m    703\u001b[0m                         \u001b[38;5;241m*\u001b[39m\u001b[38;5;241m*\u001b[39moptions)\n",
      "File \u001b[0;32m/usr/local/lib/python3.8/dist-packages/scipy/optimize/_lbfgsb_py.py:353\u001b[0m, in \u001b[0;36m_minimize_lbfgsb\u001b[0;34m(fun, x0, args, jac, bounds, disp, maxcor, ftol, gtol, eps, maxfun, maxiter, iprint, callback, maxls, finite_diff_rel_step, **unknown_options)\u001b[0m\n\u001b[1;32m    349\u001b[0m n_iterations \u001b[38;5;241m=\u001b[39m \u001b[38;5;241m0\u001b[39m\n\u001b[1;32m    351\u001b[0m \u001b[38;5;28;01mwhile\u001b[39;00m \u001b[38;5;241m1\u001b[39m:\n\u001b[1;32m    352\u001b[0m     \u001b[38;5;66m# x, f, g, wa, iwa, task, csave, lsave, isave, dsave = \\\u001b[39m\n\u001b[0;32m--> 353\u001b[0m     \u001b[43m_lbfgsb\u001b[49m\u001b[38;5;241;43m.\u001b[39;49m\u001b[43msetulb\u001b[49m\u001b[43m(\u001b[49m\u001b[43mm\u001b[49m\u001b[43m,\u001b[49m\u001b[43m \u001b[49m\u001b[43mx\u001b[49m\u001b[43m,\u001b[49m\u001b[43m \u001b[49m\u001b[43mlow_bnd\u001b[49m\u001b[43m,\u001b[49m\u001b[43m \u001b[49m\u001b[43mupper_bnd\u001b[49m\u001b[43m,\u001b[49m\u001b[43m \u001b[49m\u001b[43mnbd\u001b[49m\u001b[43m,\u001b[49m\u001b[43m \u001b[49m\u001b[43mf\u001b[49m\u001b[43m,\u001b[49m\u001b[43m \u001b[49m\u001b[43mg\u001b[49m\u001b[43m,\u001b[49m\u001b[43m \u001b[49m\u001b[43mfactr\u001b[49m\u001b[43m,\u001b[49m\n\u001b[1;32m    354\u001b[0m \u001b[43m                   \u001b[49m\u001b[43mpgtol\u001b[49m\u001b[43m,\u001b[49m\u001b[43m \u001b[49m\u001b[43mwa\u001b[49m\u001b[43m,\u001b[49m\u001b[43m \u001b[49m\u001b[43miwa\u001b[49m\u001b[43m,\u001b[49m\u001b[43m \u001b[49m\u001b[43mtask\u001b[49m\u001b[43m,\u001b[49m\u001b[43m \u001b[49m\u001b[43miprint\u001b[49m\u001b[43m,\u001b[49m\u001b[43m \u001b[49m\u001b[43mcsave\u001b[49m\u001b[43m,\u001b[49m\u001b[43m \u001b[49m\u001b[43mlsave\u001b[49m\u001b[43m,\u001b[49m\n\u001b[1;32m    355\u001b[0m \u001b[43m                   \u001b[49m\u001b[43misave\u001b[49m\u001b[43m,\u001b[49m\u001b[43m \u001b[49m\u001b[43mdsave\u001b[49m\u001b[43m,\u001b[49m\u001b[43m \u001b[49m\u001b[43mmaxls\u001b[49m\u001b[43m)\u001b[49m\n\u001b[1;32m    356\u001b[0m     task_str \u001b[38;5;241m=\u001b[39m task\u001b[38;5;241m.\u001b[39mtobytes()\n\u001b[1;32m    357\u001b[0m     \u001b[38;5;28;01mif\u001b[39;00m task_str\u001b[38;5;241m.\u001b[39mstartswith(\u001b[38;5;124mb\u001b[39m\u001b[38;5;124m'\u001b[39m\u001b[38;5;124mFG\u001b[39m\u001b[38;5;124m'\u001b[39m):\n\u001b[1;32m    358\u001b[0m         \u001b[38;5;66m# The minimization routine wants f and g at the current x.\u001b[39m\n\u001b[1;32m    359\u001b[0m         \u001b[38;5;66m# Note that interruptions due to maxfun are postponed\u001b[39m\n\u001b[1;32m    360\u001b[0m         \u001b[38;5;66m# until the completion of the current minimization iteration.\u001b[39m\n\u001b[1;32m    361\u001b[0m         \u001b[38;5;66m# Overwrite f and g:\u001b[39m\n",
      "\u001b[0;31mKeyboardInterrupt\u001b[0m: "
     ]
    }
   ],
   "source": [
    "brain_networks = [visual, smn, dan, van, fpn, dmn]\n",
    "brain_network_names = [\"visual cortex (12 regions)\",\n",
    "                       \"sensorimotor network (SMN) (12 regions)\",\n",
    "                       \"dorsal attention network (DAN) (6 regions)\",\n",
    "                       \"ventral attention network (VAN) (12 regions)\",\n",
    "                       \"frontoparietal network (FPN) (10 regions)\",\n",
    "                       \"default mode network (DMN) (12 regions)\"\n",
    "                      ]\n",
    "brain_networks_with_names = list(zip(brain_networks, brain_network_names))\n",
    "copulas_res = []\n",
    "for brain_network, brain_network_name in brain_networks_with_names:\n",
    "    T_bn = T_raw[:, :, brain_network]\n",
    "\n",
    "    k = 2\n",
    "    r = range(T_bn.shape[2])\n",
    "    n = T_bn.shape[0]\n",
    "    n_combs = len(list(combinations(r, k)))\n",
    "\n",
    "    Tk_spearman2 = np.zeros((n, n_combs))\n",
    "    Tk_schweizer_wolff2 = np.zeros((n, n_combs))\n",
    "\n",
    "    for i, ts in tqdm(enumerate(T_bn), total=len(T_bn)):\n",
    "        for j, simplex in enumerate(combinations(r, k)):\n",
    "            cur = Copula(ts[:, simplex], np.sort(ts[:, simplex], axis=0))\n",
    "            Tk_spearman2[i, j] = cur.spearman()\n",
    "            Tk_schweizer_wolff2[i, j] = cur.schweizer_wolff()\n",
    "    \n",
    "    k = 3\n",
    "    n_combs = len(list(combinations(r, k)))\n",
    "\n",
    "    Tk_spearman3 = np.zeros((n, n_combs))\n",
    "    Tk_schweizer_wolff3 = np.zeros((n, n_combs))\n",
    "\n",
    "    for i, ts in tqdm(enumerate(T_bn), total=len(T_bn)):\n",
    "        for j, simplex in enumerate(combinations(r, k)):\n",
    "            cur = Copula(ts[:, simplex], np.sort(ts[:, simplex], axis=0))\n",
    "            Tk_spearman3[i, j] = cur.spearman()\n",
    "            Tk_schweizer_wolff3[i, j] = cur.schweizer_wolff()\n",
    "    \n",
    "    copulas_res.append([logistic_score(Tk_spearman2, y), logistic_score(Tk_spearman3, y),\n",
    "                        logistic_score(np.hstack((Tk_spearman2, Tk_spearman3)), y),\n",
    "                        logistic_score(Tk_schweizer_wolff2, y), logistic_score(Tk_schweizer_wolff3, y),\n",
    "                        logistic_score(np.hstack((Tk_schweizer_wolff2, Tk_schweizer_wolff3)), y)\n",
    "                       ])\n",
    "    print(copulas_res[-1], brain_network_name)"
   ]
  },
  {
   "cell_type": "code",
   "execution_count": 70,
   "id": "81569177",
   "metadata": {},
   "outputs": [
    {
     "data": {
      "application/vnd.jupyter.widget-view+json": {
       "model_id": "9236229e988449a5ab8569f4392a2104",
       "version_major": 2,
       "version_minor": 0
      },
      "text/plain": [
       "  0%|          | 0/956 [00:00<?, ?it/s]"
      ]
     },
     "metadata": {},
     "output_type": "display_data"
    },
    {
     "data": {
      "application/vnd.jupyter.widget-view+json": {
       "model_id": "c0d84ca4f37c4b4781fbf4dfbd1cd6eb",
       "version_major": 2,
       "version_minor": 0
      },
      "text/plain": [
       "  0%|          | 0/10 [00:00<?, ?it/s]"
      ]
     },
     "metadata": {},
     "output_type": "display_data"
    },
    {
     "name": "stdout",
     "output_type": "stream",
     "text": [
      "['0.77470 ± 0.02940'] visual cortex (12 regions)\n"
     ]
    },
    {
     "data": {
      "application/vnd.jupyter.widget-view+json": {
       "model_id": "4e55e370f29a40bbb90fb271dfd11d61",
       "version_major": 2,
       "version_minor": 0
      },
      "text/plain": [
       "  0%|          | 0/956 [00:00<?, ?it/s]"
      ]
     },
     "metadata": {},
     "output_type": "display_data"
    },
    {
     "data": {
      "application/vnd.jupyter.widget-view+json": {
       "model_id": "fdb1bcd1ba174171962e240c1ec0d723",
       "version_major": 2,
       "version_minor": 0
      },
      "text/plain": [
       "  0%|          | 0/10 [00:00<?, ?it/s]"
      ]
     },
     "metadata": {},
     "output_type": "display_data"
    },
    {
     "name": "stdout",
     "output_type": "stream",
     "text": [
      "['0.77009 ± 0.02746'] sensorimotor network (SMN) (12 regions)\n"
     ]
    },
    {
     "data": {
      "application/vnd.jupyter.widget-view+json": {
       "model_id": "9af4e73e2ab5463cab1ec20b62e015bd",
       "version_major": 2,
       "version_minor": 0
      },
      "text/plain": [
       "  0%|          | 0/956 [00:00<?, ?it/s]"
      ]
     },
     "metadata": {},
     "output_type": "display_data"
    },
    {
     "data": {
      "application/vnd.jupyter.widget-view+json": {
       "model_id": "b09f127332f04a298ca7fce164a2cb75",
       "version_major": 2,
       "version_minor": 0
      },
      "text/plain": [
       "  0%|          | 0/10 [00:00<?, ?it/s]"
      ]
     },
     "metadata": {},
     "output_type": "display_data"
    },
    {
     "name": "stdout",
     "output_type": "stream",
     "text": [
      "['0.65878 ± 0.02980'] dorsal attention network (DAN) (6 regions)\n"
     ]
    },
    {
     "data": {
      "application/vnd.jupyter.widget-view+json": {
       "model_id": "7401f877578a4b59b998c5a8e4327b5f",
       "version_major": 2,
       "version_minor": 0
      },
      "text/plain": [
       "  0%|          | 0/956 [00:00<?, ?it/s]"
      ]
     },
     "metadata": {},
     "output_type": "display_data"
    },
    {
     "data": {
      "application/vnd.jupyter.widget-view+json": {
       "model_id": "a9d96c0a67d24193ae4ff08f6b8cbd11",
       "version_major": 2,
       "version_minor": 0
      },
      "text/plain": [
       "  0%|          | 0/10 [00:00<?, ?it/s]"
      ]
     },
     "metadata": {},
     "output_type": "display_data"
    },
    {
     "name": "stdout",
     "output_type": "stream",
     "text": [
      "['0.75378 ± 0.02919'] ventral attention network (VAN) (12 regions)\n"
     ]
    },
    {
     "data": {
      "application/vnd.jupyter.widget-view+json": {
       "model_id": "65283fc6f71140ce97cb00f2bdd84f19",
       "version_major": 2,
       "version_minor": 0
      },
      "text/plain": [
       "  0%|          | 0/956 [00:00<?, ?it/s]"
      ]
     },
     "metadata": {},
     "output_type": "display_data"
    },
    {
     "data": {
      "application/vnd.jupyter.widget-view+json": {
       "model_id": "91a3ceff4cc34397ac521c92a3330a29",
       "version_major": 2,
       "version_minor": 0
      },
      "text/plain": [
       "  0%|          | 0/10 [00:00<?, ?it/s]"
      ]
     },
     "metadata": {},
     "output_type": "display_data"
    },
    {
     "name": "stdout",
     "output_type": "stream",
     "text": [
      "['0.75407 ± 0.02701'] frontoparietal network (FPN) (10 regions)\n"
     ]
    },
    {
     "data": {
      "application/vnd.jupyter.widget-view+json": {
       "model_id": "618c31a1d8234d268711fbcd71faabb4",
       "version_major": 2,
       "version_minor": 0
      },
      "text/plain": [
       "  0%|          | 0/956 [00:00<?, ?it/s]"
      ]
     },
     "metadata": {},
     "output_type": "display_data"
    },
    {
     "data": {
      "application/vnd.jupyter.widget-view+json": {
       "model_id": "03c1cb31f47041858ec169c13bc01bd5",
       "version_major": 2,
       "version_minor": 0
      },
      "text/plain": [
       "  0%|          | 0/10 [00:00<?, ?it/s]"
      ]
     },
     "metadata": {},
     "output_type": "display_data"
    },
    {
     "name": "stdout",
     "output_type": "stream",
     "text": [
      "['0.77031 ± 0.02873'] default mode network (DMN) (12 regions)\n"
     ]
    }
   ],
   "source": [
    "brain_networks = [visual, smn, dan, van, fpn, dmn]\n",
    "brain_network_names = [\"visual cortex (12 regions)\",\n",
    "                       \"sensorimotor network (SMN) (12 regions)\",\n",
    "                       \"dorsal attention network (DAN) (6 regions)\",\n",
    "                       \"ventral attention network (VAN) (12 regions)\",\n",
    "                       \"frontoparietal network (FPN) (10 regions)\",\n",
    "                       \"default mode network (DMN) (12 regions)\"\n",
    "                      ]\n",
    "brain_networks_with_names = list(zip(brain_networks, brain_network_names))\n",
    "copulas_resx = []\n",
    "for brain_network, brain_network_name in brain_networks_with_names:\n",
    "    T_bn = T_raw[:, :, brain_network]\n",
    "\n",
    "    k = 2\n",
    "    r = range(T_bn.shape[2])\n",
    "    n = T_bn.shape[0]\n",
    "    n_combs = len(list(combinations(r, k)))\n",
    "\n",
    "    Tk_spearman = np.zeros((n, n_combs))\n",
    "\n",
    "    for i, ts in tqdm(enumerate(T_bn), total=len(T_bn)):\n",
    "        for j, simplex in enumerate(combinations(r, k)):\n",
    "            z = spearmanr(ts[:, simplex])\n",
    "            #print(z)\n",
    "            Tk_spearman[i, j] = z.correlation\n",
    "    # print((Tk_spearman != Tk_spearman2).sum())\n",
    "    \n",
    "    copulas_resx.append([logistic_score(Tk_spearman, y)])\n",
    "    print(copulas_resx[-1], brain_network_name)"
   ]
  },
  {
   "cell_type": "code",
   "execution_count": 81,
   "id": "368d15fa",
   "metadata": {},
   "outputs": [
    {
     "name": "stdout",
     "output_type": "stream",
     "text": [
      "0.8207826816681233\n",
      "-2.0\n"
     ]
    }
   ],
   "source": [
    "tmp = np.array([[1, 2, 3, 4, 5], [5, 6, 7, 8, 7]]).T\n",
    "print(spearmanr(tmp).correlation)\n",
    "print(Copula(tmp).spearman())"
   ]
  },
  {
   "cell_type": "code",
   "execution_count": 80,
   "id": "9f12e6da",
   "metadata": {},
   "outputs": [],
   "source": [
    "class Copula:\n",
    "    \n",
    "    def __init__(self, XY):\n",
    "        \n",
    "        self.n, self.d = XY.shape\n",
    "        if self.d<2:\n",
    "            raise ValueError(f\"Data should be at least two-dimensional, but d={self.d}.\")\n",
    "            \n",
    "        # order statistics\n",
    "        XY_order = np.sort(XY, axis=0)\n",
    "        \n",
    "        # set C\n",
    "        self.C = np.zeros((self.n,self.n))\n",
    "\n",
    "        for i in range(self.n):\n",
    "            for j in range(self.n):\n",
    "                num = np.sum(np.logical_and(XY[:,0] <= XY_order[i,0], XY[:,1] <= XY_order[j,1])) / self.n\n",
    "                self.C[i,j] = num\n",
    "\n",
    "        # set P\n",
    "        i_n = np.arange(1, self.n+1) / self.n\n",
    "        j_n = np.arange(1, self.n+1) / self.n\n",
    "        self.P = np.multiply.outer(i_n, j_n)\n",
    "        \n",
    "    def spearman(self):\n",
    "        \n",
    "        if self.d!=2:\n",
    "            raise ValueError(f\"Spearman's rho is the bivariate measure, but d={self.d}.\")\n",
    "        \n",
    "        #h_rho = 12/(self.n**2-1)\n",
    "        return 3 * (4 / (self.n**2-1)* np.sum(self.C - self.P) - 1)\n",
    "        #return h_rho * np.sum(self.C - self.P) # TODO: general d\n",
    "    \n",
    "    def schweizer_wolff(self, norm=\"inf\"):\n",
    "        \n",
    "        if norm not in [1, 2, \"inf\"]:\n",
    "            raise ValueError(\"Norm should be '1', '2', or 'inf'.\")\n",
    "            \n",
    "        # normalizing factors\n",
    "        h_1 = ((1/(self.d+1)) - (1/(2**self.d))) ** -1\n",
    "        h_2 = 90 # TODO\n",
    "        h_inf = ((1/self.d)**(1/(self.d-1)) * (1 - (1/self.d)))**-1\n",
    "        \n",
    "        if norm==1:\n",
    "            delta = h_1 / (self.n**self.d-1) * np.sum(np.abs(self.C - self.P))\n",
    "        elif norm==2:\n",
    "            delta_sq = h_2 / (self.n**self.d-1) * np.sum((self.C - self.P)**2)\n",
    "            delta = np.sqrt(delta_sq)\n",
    "        elif norm==\"inf\":\n",
    "            delta = h_inf * np.max(np.abs(self.C - self.P))\n",
    "            \n",
    "        return delta"
   ]
  },
  {
   "cell_type": "markdown",
   "id": "e7ffe19f",
   "metadata": {},
   "source": [
    "**Other**"
   ]
  },
  {
   "cell_type": "code",
   "execution_count": 182,
   "id": "4652cc6d",
   "metadata": {},
   "outputs": [],
   "source": [
    "def genX2(X_bn):\n",
    "    X2 = []\n",
    "    for sigma in X_bn:\n",
    "        comp = sigma.shape[0]\n",
    "        Hs = [0] * comp\n",
    "        Is = []\n",
    "        for i in range(comp):\n",
    "            Hs[i] = gaussian_H(sigma, [i])\n",
    "            for j in range(i):\n",
    "                Is.append(I(sigma, [j, i], precalc=Hs))\n",
    "        X2.append(Is)\n",
    "    X2 = np.array(X2)\n",
    "    return X2"
   ]
  },
  {
   "cell_type": "code",
   "execution_count": 189,
   "id": "71e14958",
   "metadata": {},
   "outputs": [],
   "source": [
    "def genXpairs(X_bn):\n",
    "    r = range(X_bn.shape[1])\n",
    "    n_pairs = len(list(combinations(r, 2)))\n",
    "\n",
    "    X_pairs = np.zeros((n, n_pairs))\n",
    "\n",
    "    for i, S in enumerate(X_bn):\n",
    "        for j, simplex in enumerate(combinations(r, 2)):\n",
    "            simplex_idx = np.ix_(simplex, simplex)\n",
    "            X_pairs[i,j] = mutual_information(S[simplex_idx])\n",
    "    return X_pairs"
   ]
  },
  {
   "cell_type": "code",
   "execution_count": 194,
   "id": "d6ca1c46",
   "metadata": {},
   "outputs": [],
   "source": [
    "def genX3(X_bn):\n",
    "    X3 = []\n",
    "    for sigma in X_bn:\n",
    "        comp = sigma.shape[0]\n",
    "        Hs = [0] * comp\n",
    "        Is = []\n",
    "        for i in range(comp):\n",
    "            Hs[i] = gaussian_H(sigma, [i])\n",
    "            for j in range(i):\n",
    "                for k in range(j):\n",
    "                    Is.append(I(sigma, [k, j, i], precalc=Hs))\n",
    "        X3.append(Is)\n",
    "    X3 = np.array(X3)\n",
    "    return X3"
   ]
  },
  {
   "cell_type": "code",
   "execution_count": 121,
   "id": "0d6778a1",
   "metadata": {},
   "outputs": [
    {
     "data": {
      "application/vnd.jupyter.widget-view+json": {
       "model_id": "8096980f0c0d45aa90f8f0fd51949866",
       "version_major": 2,
       "version_minor": 0
      },
      "text/plain": [
       "  0%|          | 0/10 [00:00<?, ?it/s]"
      ]
     },
     "metadata": {},
     "output_type": "display_data"
    },
    {
     "name": "stdout",
     "output_type": "stream",
     "text": [
      "0.74206 ± 0.03105\n"
     ]
    }
   ],
   "source": [
    "logistic_score(X, y)"
   ]
  },
  {
   "cell_type": "code",
   "execution_count": 122,
   "id": "b5d66b3a",
   "metadata": {},
   "outputs": [
    {
     "data": {
      "application/vnd.jupyter.widget-view+json": {
       "model_id": "e60f38f65ec344ffba524c090be40bd7",
       "version_major": 2,
       "version_minor": 0
      },
      "text/plain": [
       "  0%|          | 0/10 [00:00<?, ?it/s]"
      ]
     },
     "metadata": {},
     "output_type": "display_data"
    },
    {
     "name": "stdout",
     "output_type": "stream",
     "text": [
      "0.74865 ± 0.02958\n"
     ]
    }
   ],
   "source": [
    "logistic_score(X_log, y)"
   ]
  },
  {
   "cell_type": "code",
   "execution_count": 123,
   "id": "21fd9247",
   "metadata": {},
   "outputs": [],
   "source": [
    "def gaussian_H(sigma, inds):\n",
    "    sigma = sigma[np.ix_(inds, inds)]\n",
    "    det = np.linalg.det(sigma) if isinstance(sigma, np.ndarray) else sigma\n",
    "    return (len(inds) * np.log(2 * np.pi * np.e) + np.log(det)) / 2\n",
    "\n",
    "def I(sigma, inds, precalc=None):\n",
    "    # not optimal if called for all inds combinations -- precalculate gaussian_H for all singletones\n",
    "    res = -gaussian_H(sigma, inds)\n",
    "    if precalc is None:\n",
    "        for i in inds:\n",
    "            res += gaussian_H(sigma, [i])\n",
    "    else:\n",
    "        for i in inds:\n",
    "            res += precalc[i]\n",
    "    return res"
   ]
  },
  {
   "cell_type": "code",
   "execution_count": 143,
   "id": "c30e3790",
   "metadata": {},
   "outputs": [
    {
     "data": {
      "text/plain": [
       "(956, 66)"
      ]
     },
     "execution_count": 143,
     "metadata": {},
     "output_type": "execute_result"
    }
   ],
   "source": [
    "X2 = []\n",
    "for sigma in X_dmn:\n",
    "    comp = sigma.shape[0]\n",
    "    Hs = [0] * comp\n",
    "    Is = []\n",
    "    for i in range(comp):\n",
    "        Hs[i] = gaussian_H(sigma, [i])\n",
    "        for j in range(i):\n",
    "            Is.append(I(sigma, [j, i], precalc=Hs))\n",
    "    X2.append(Is)\n",
    "X2 = np.array(X2)\n",
    "X2.shape"
   ]
  },
  {
   "cell_type": "code",
   "execution_count": 153,
   "id": "c6f1b140",
   "metadata": {},
   "outputs": [],
   "source": [
    "X22 = X_dmn.copy()\n",
    "for i, S in enumerate(X_dmn):\n",
    "    for simplex in product(range(12), repeat=2):\n",
    "        #print(simplex)\n",
    "        if simplex[0] != simplex[1]:\n",
    "            X22[(i, *simplex)] = I(S, simplex)\n",
    "X2_full = corrmat2vec(X22)\n",
    "X2_full_log = corrmat2vec(X22, take_logm=True)"
   ]
  },
  {
   "cell_type": "code",
   "execution_count": 132,
   "id": "c3dca0cd",
   "metadata": {},
   "outputs": [
    {
     "data": {
      "application/vnd.jupyter.widget-view+json": {
       "model_id": "9e873408a3b74d91b9d2e6ee1dcece1b",
       "version_major": 2,
       "version_minor": 0
      },
      "text/plain": [
       "  0%|          | 0/10 [00:00<?, ?it/s]"
      ]
     },
     "metadata": {},
     "output_type": "display_data"
    },
    {
     "name": "stdout",
     "output_type": "stream",
     "text": [
      "0.75116 ± 0.03073\n"
     ]
    }
   ],
   "source": [
    "logistic_score(X2, y)"
   ]
  },
  {
   "cell_type": "code",
   "execution_count": 154,
   "id": "4ec034b4",
   "metadata": {},
   "outputs": [
    {
     "data": {
      "application/vnd.jupyter.widget-view+json": {
       "model_id": "ceb3d00efe284172adde0333e1733148",
       "version_major": 2,
       "version_minor": 0
      },
      "text/plain": [
       "  0%|          | 0/10 [00:00<?, ?it/s]"
      ]
     },
     "metadata": {},
     "output_type": "display_data"
    },
    {
     "name": "stdout",
     "output_type": "stream",
     "text": [
      "0.75127 ± 0.03087\n"
     ]
    },
    {
     "data": {
      "application/vnd.jupyter.widget-view+json": {
       "model_id": "e0dd9cd3fc4747eeb900a43630e6558e",
       "version_major": 2,
       "version_minor": 0
      },
      "text/plain": [
       "  0%|          | 0/10 [00:00<?, ?it/s]"
      ]
     },
     "metadata": {},
     "output_type": "display_data"
    },
    {
     "name": "stdout",
     "output_type": "stream",
     "text": [
      "0.75524 ± 0.02657\n"
     ]
    }
   ],
   "source": [
    "logistic_score(X2_full, y)\n",
    "logistic_score(X2_full_log, y)"
   ]
  },
  {
   "cell_type": "code",
   "execution_count": 238,
   "id": "d24d5383",
   "metadata": {},
   "outputs": [
    {
     "data": {
      "text/plain": [
       "(564, 220)"
      ]
     },
     "execution_count": 238,
     "metadata": {},
     "output_type": "execute_result"
    }
   ],
   "source": [
    "X3 = []\n",
    "for sigma in X:\n",
    "    comp = sigma.shape[0]\n",
    "    Hs = [0] * comp\n",
    "    Is = []\n",
    "    for i in range(comp):\n",
    "        Hs[i] = gaussian_H(sigma, [i])\n",
    "        for j in range(i):\n",
    "            for k in range(j):\n",
    "                Is.append(I(sigma, [k, j, i], precalc=Hs))\n",
    "    X3.append(Is)\n",
    "X3 = np.array(X3)\n",
    "X3.shape"
   ]
  },
  {
   "cell_type": "code",
   "execution_count": 81,
   "id": "4792fcc6",
   "metadata": {},
   "outputs": [
    {
     "name": "stderr",
     "output_type": "stream",
     "text": [
      "/tmp/ipykernel_4644/1739575051.py:13: RuntimeWarning: invalid value encountered in log\n",
      "  return -0.5 * np.log(np.linalg.det(S))\n"
     ]
    }
   ],
   "source": [
    "n_pairs = len(list(combinations(dmn, 2)))\n",
    "n = X.shape[0]\n",
    "\n",
    "X_pairs = np.zeros((n, n_pairs))\n",
    "\n",
    "for i, S in enumerate(X_dmn):\n",
    "    for j, simplex in enumerate(combinations(np.arange(12), 2)):\n",
    "        simplex_idx = np.ix_(simplex, simplex)\n",
    "        X_pairs[i,j] = mutual_information(S[simplex_idx])"
   ]
  },
  {
   "cell_type": "code",
   "execution_count": 83,
   "id": "bcc4eeec",
   "metadata": {},
   "outputs": [
    {
     "data": {
      "application/vnd.jupyter.widget-view+json": {
       "model_id": "36f627422f32436dae96b869ae07c5f6",
       "version_major": 2,
       "version_minor": 0
      },
      "text/plain": [
       "  0%|          | 0/10 [00:00<?, ?it/s]"
      ]
     },
     "metadata": {},
     "output_type": "display_data"
    },
    {
     "ename": "ValueError",
     "evalue": "Input X contains NaN.\nLogisticRegression does not accept missing values encoded as NaN natively. For supervised learning, you might want to consider sklearn.ensemble.HistGradientBoostingClassifier and Regressor which accept missing values encoded as NaNs natively. Alternatively, it is possible to preprocess the data, for instance by using an imputer transformer in a pipeline or drop samples with missing values. See https://scikit-learn.org/stable/modules/impute.html You can find a list of all estimators that handle NaN values at the following page: https://scikit-learn.org/stable/modules/impute.html#estimators-that-handle-nan-values",
     "output_type": "error",
     "traceback": [
      "\u001b[0;31m---------------------------------------------------------------------------\u001b[0m",
      "\u001b[0;31mValueError\u001b[0m                                Traceback (most recent call last)",
      "Cell \u001b[0;32mIn [83], line 1\u001b[0m\n\u001b[0;32m----> 1\u001b[0m \u001b[43mlogistic_score\u001b[49m\u001b[43m(\u001b[49m\u001b[43mX_pairs\u001b[49m\u001b[43m,\u001b[49m\u001b[43m \u001b[49m\u001b[43my\u001b[49m\u001b[43m)\u001b[49m\n",
      "Cell \u001b[0;32mIn [77], line 15\u001b[0m, in \u001b[0;36mlogistic_score\u001b[0;34m(X, y, n_repeats, n_splits, to_print, to_return)\u001b[0m\n\u001b[1;32m     13\u001b[0m scaler \u001b[38;5;241m=\u001b[39m StandardScaler()\n\u001b[1;32m     14\u001b[0m model \u001b[38;5;241m=\u001b[39m LogisticRegression(C\u001b[38;5;241m=\u001b[39m\u001b[38;5;241m5\u001b[39m, max_iter\u001b[38;5;241m=\u001b[39m\u001b[38;5;241m500\u001b[39m, random_state\u001b[38;5;241m=\u001b[39mi\u001b[38;5;241m*\u001b[39mn_repeats\u001b[38;5;241m+\u001b[39mj)\n\u001b[0;32m---> 15\u001b[0m clf \u001b[38;5;241m=\u001b[39m \u001b[43mPipeline\u001b[49m\u001b[43m(\u001b[49m\u001b[43m[\u001b[49m\u001b[43m(\u001b[49m\u001b[38;5;124;43m\"\u001b[39;49m\u001b[38;5;124;43mscaler\u001b[39;49m\u001b[38;5;124;43m\"\u001b[39;49m\u001b[43m,\u001b[49m\u001b[43m \u001b[49m\u001b[43mscaler\u001b[49m\u001b[43m)\u001b[49m\u001b[43m,\u001b[49m\u001b[43m \u001b[49m\u001b[43m(\u001b[49m\u001b[38;5;124;43m\"\u001b[39;49m\u001b[38;5;124;43mmodel\u001b[39;49m\u001b[38;5;124;43m\"\u001b[39;49m\u001b[43m,\u001b[49m\u001b[43m \u001b[49m\u001b[43mmodel\u001b[49m\u001b[43m)\u001b[49m\u001b[43m]\u001b[49m\u001b[43m)\u001b[49m\u001b[38;5;241;43m.\u001b[39;49m\u001b[43mfit\u001b[49m\u001b[43m(\u001b[49m\u001b[43mX_train\u001b[49m\u001b[43m,\u001b[49m\u001b[43m \u001b[49m\u001b[43my_train\u001b[49m\u001b[43m)\u001b[49m\n\u001b[1;32m     17\u001b[0m y_hat \u001b[38;5;241m=\u001b[39m clf\u001b[38;5;241m.\u001b[39mpredict(X_test)\n\u001b[1;32m     19\u001b[0m accuracy[i, j] \u001b[38;5;241m=\u001b[39m accuracy_score(y_test, y_hat)\n",
      "File \u001b[0;32m/usr/local/lib/python3.8/dist-packages/sklearn/pipeline.py:382\u001b[0m, in \u001b[0;36mPipeline.fit\u001b[0;34m(self, X, y, **fit_params)\u001b[0m\n\u001b[1;32m    380\u001b[0m     \u001b[38;5;28;01mif\u001b[39;00m \u001b[38;5;28mself\u001b[39m\u001b[38;5;241m.\u001b[39m_final_estimator \u001b[38;5;241m!=\u001b[39m \u001b[38;5;124m\"\u001b[39m\u001b[38;5;124mpassthrough\u001b[39m\u001b[38;5;124m\"\u001b[39m:\n\u001b[1;32m    381\u001b[0m         fit_params_last_step \u001b[38;5;241m=\u001b[39m fit_params_steps[\u001b[38;5;28mself\u001b[39m\u001b[38;5;241m.\u001b[39msteps[\u001b[38;5;241m-\u001b[39m\u001b[38;5;241m1\u001b[39m][\u001b[38;5;241m0\u001b[39m]]\n\u001b[0;32m--> 382\u001b[0m         \u001b[38;5;28;43mself\u001b[39;49m\u001b[38;5;241;43m.\u001b[39;49m\u001b[43m_final_estimator\u001b[49m\u001b[38;5;241;43m.\u001b[39;49m\u001b[43mfit\u001b[49m\u001b[43m(\u001b[49m\u001b[43mXt\u001b[49m\u001b[43m,\u001b[49m\u001b[43m \u001b[49m\u001b[43my\u001b[49m\u001b[43m,\u001b[49m\u001b[43m \u001b[49m\u001b[38;5;241;43m*\u001b[39;49m\u001b[38;5;241;43m*\u001b[39;49m\u001b[43mfit_params_last_step\u001b[49m\u001b[43m)\u001b[49m\n\u001b[1;32m    384\u001b[0m \u001b[38;5;28;01mreturn\u001b[39;00m \u001b[38;5;28mself\u001b[39m\n",
      "File \u001b[0;32m/usr/local/lib/python3.8/dist-packages/sklearn/linear_model/_logistic.py:1138\u001b[0m, in \u001b[0;36mLogisticRegression.fit\u001b[0;34m(self, X, y, sample_weight)\u001b[0m\n\u001b[1;32m   1135\u001b[0m \u001b[38;5;28;01melse\u001b[39;00m:\n\u001b[1;32m   1136\u001b[0m     _dtype \u001b[38;5;241m=\u001b[39m [np\u001b[38;5;241m.\u001b[39mfloat64, np\u001b[38;5;241m.\u001b[39mfloat32]\n\u001b[0;32m-> 1138\u001b[0m X, y \u001b[38;5;241m=\u001b[39m \u001b[38;5;28;43mself\u001b[39;49m\u001b[38;5;241;43m.\u001b[39;49m\u001b[43m_validate_data\u001b[49m\u001b[43m(\u001b[49m\n\u001b[1;32m   1139\u001b[0m \u001b[43m    \u001b[49m\u001b[43mX\u001b[49m\u001b[43m,\u001b[49m\n\u001b[1;32m   1140\u001b[0m \u001b[43m    \u001b[49m\u001b[43my\u001b[49m\u001b[43m,\u001b[49m\n\u001b[1;32m   1141\u001b[0m \u001b[43m    \u001b[49m\u001b[43maccept_sparse\u001b[49m\u001b[38;5;241;43m=\u001b[39;49m\u001b[38;5;124;43m\"\u001b[39;49m\u001b[38;5;124;43mcsr\u001b[39;49m\u001b[38;5;124;43m\"\u001b[39;49m\u001b[43m,\u001b[49m\n\u001b[1;32m   1142\u001b[0m \u001b[43m    \u001b[49m\u001b[43mdtype\u001b[49m\u001b[38;5;241;43m=\u001b[39;49m\u001b[43m_dtype\u001b[49m\u001b[43m,\u001b[49m\n\u001b[1;32m   1143\u001b[0m \u001b[43m    \u001b[49m\u001b[43morder\u001b[49m\u001b[38;5;241;43m=\u001b[39;49m\u001b[38;5;124;43m\"\u001b[39;49m\u001b[38;5;124;43mC\u001b[39;49m\u001b[38;5;124;43m\"\u001b[39;49m\u001b[43m,\u001b[49m\n\u001b[1;32m   1144\u001b[0m \u001b[43m    \u001b[49m\u001b[43maccept_large_sparse\u001b[49m\u001b[38;5;241;43m=\u001b[39;49m\u001b[43msolver\u001b[49m\u001b[43m \u001b[49m\u001b[38;5;129;43;01mnot\u001b[39;49;00m\u001b[43m \u001b[49m\u001b[38;5;129;43;01min\u001b[39;49;00m\u001b[43m \u001b[49m\u001b[43m[\u001b[49m\u001b[38;5;124;43m\"\u001b[39;49m\u001b[38;5;124;43mliblinear\u001b[39;49m\u001b[38;5;124;43m\"\u001b[39;49m\u001b[43m,\u001b[49m\u001b[43m \u001b[49m\u001b[38;5;124;43m\"\u001b[39;49m\u001b[38;5;124;43msag\u001b[39;49m\u001b[38;5;124;43m\"\u001b[39;49m\u001b[43m,\u001b[49m\u001b[43m \u001b[49m\u001b[38;5;124;43m\"\u001b[39;49m\u001b[38;5;124;43msaga\u001b[39;49m\u001b[38;5;124;43m\"\u001b[39;49m\u001b[43m]\u001b[49m\u001b[43m,\u001b[49m\n\u001b[1;32m   1145\u001b[0m \u001b[43m\u001b[49m\u001b[43m)\u001b[49m\n\u001b[1;32m   1146\u001b[0m check_classification_targets(y)\n\u001b[1;32m   1147\u001b[0m \u001b[38;5;28mself\u001b[39m\u001b[38;5;241m.\u001b[39mclasses_ \u001b[38;5;241m=\u001b[39m np\u001b[38;5;241m.\u001b[39munique(y)\n",
      "File \u001b[0;32m/usr/local/lib/python3.8/dist-packages/sklearn/base.py:596\u001b[0m, in \u001b[0;36mBaseEstimator._validate_data\u001b[0;34m(self, X, y, reset, validate_separately, **check_params)\u001b[0m\n\u001b[1;32m    594\u001b[0m         y \u001b[38;5;241m=\u001b[39m check_array(y, input_name\u001b[38;5;241m=\u001b[39m\u001b[38;5;124m\"\u001b[39m\u001b[38;5;124my\u001b[39m\u001b[38;5;124m\"\u001b[39m, \u001b[38;5;241m*\u001b[39m\u001b[38;5;241m*\u001b[39mcheck_y_params)\n\u001b[1;32m    595\u001b[0m     \u001b[38;5;28;01melse\u001b[39;00m:\n\u001b[0;32m--> 596\u001b[0m         X, y \u001b[38;5;241m=\u001b[39m \u001b[43mcheck_X_y\u001b[49m\u001b[43m(\u001b[49m\u001b[43mX\u001b[49m\u001b[43m,\u001b[49m\u001b[43m \u001b[49m\u001b[43my\u001b[49m\u001b[43m,\u001b[49m\u001b[43m \u001b[49m\u001b[38;5;241;43m*\u001b[39;49m\u001b[38;5;241;43m*\u001b[39;49m\u001b[43mcheck_params\u001b[49m\u001b[43m)\u001b[49m\n\u001b[1;32m    597\u001b[0m     out \u001b[38;5;241m=\u001b[39m X, y\n\u001b[1;32m    599\u001b[0m \u001b[38;5;28;01mif\u001b[39;00m \u001b[38;5;129;01mnot\u001b[39;00m no_val_X \u001b[38;5;129;01mand\u001b[39;00m check_params\u001b[38;5;241m.\u001b[39mget(\u001b[38;5;124m\"\u001b[39m\u001b[38;5;124mensure_2d\u001b[39m\u001b[38;5;124m\"\u001b[39m, \u001b[38;5;28;01mTrue\u001b[39;00m):\n",
      "File \u001b[0;32m/usr/local/lib/python3.8/dist-packages/sklearn/utils/validation.py:1074\u001b[0m, in \u001b[0;36mcheck_X_y\u001b[0;34m(X, y, accept_sparse, accept_large_sparse, dtype, order, copy, force_all_finite, ensure_2d, allow_nd, multi_output, ensure_min_samples, ensure_min_features, y_numeric, estimator)\u001b[0m\n\u001b[1;32m   1069\u001b[0m         estimator_name \u001b[38;5;241m=\u001b[39m _check_estimator_name(estimator)\n\u001b[1;32m   1070\u001b[0m     \u001b[38;5;28;01mraise\u001b[39;00m \u001b[38;5;167;01mValueError\u001b[39;00m(\n\u001b[1;32m   1071\u001b[0m         f\u001b[38;5;124m\"\u001b[39m\u001b[38;5;132;01m{estimator_name}\u001b[39;00m\u001b[38;5;124m requires y to be passed, but the target y is None\u001b[39m\u001b[38;5;124m\"\u001b[39m\n\u001b[1;32m   1072\u001b[0m     )\n\u001b[0;32m-> 1074\u001b[0m X \u001b[38;5;241m=\u001b[39m \u001b[43mcheck_array\u001b[49m\u001b[43m(\u001b[49m\n\u001b[1;32m   1075\u001b[0m \u001b[43m    \u001b[49m\u001b[43mX\u001b[49m\u001b[43m,\u001b[49m\n\u001b[1;32m   1076\u001b[0m \u001b[43m    \u001b[49m\u001b[43maccept_sparse\u001b[49m\u001b[38;5;241;43m=\u001b[39;49m\u001b[43maccept_sparse\u001b[49m\u001b[43m,\u001b[49m\n\u001b[1;32m   1077\u001b[0m \u001b[43m    \u001b[49m\u001b[43maccept_large_sparse\u001b[49m\u001b[38;5;241;43m=\u001b[39;49m\u001b[43maccept_large_sparse\u001b[49m\u001b[43m,\u001b[49m\n\u001b[1;32m   1078\u001b[0m \u001b[43m    \u001b[49m\u001b[43mdtype\u001b[49m\u001b[38;5;241;43m=\u001b[39;49m\u001b[43mdtype\u001b[49m\u001b[43m,\u001b[49m\n\u001b[1;32m   1079\u001b[0m \u001b[43m    \u001b[49m\u001b[43morder\u001b[49m\u001b[38;5;241;43m=\u001b[39;49m\u001b[43morder\u001b[49m\u001b[43m,\u001b[49m\n\u001b[1;32m   1080\u001b[0m \u001b[43m    \u001b[49m\u001b[43mcopy\u001b[49m\u001b[38;5;241;43m=\u001b[39;49m\u001b[43mcopy\u001b[49m\u001b[43m,\u001b[49m\n\u001b[1;32m   1081\u001b[0m \u001b[43m    \u001b[49m\u001b[43mforce_all_finite\u001b[49m\u001b[38;5;241;43m=\u001b[39;49m\u001b[43mforce_all_finite\u001b[49m\u001b[43m,\u001b[49m\n\u001b[1;32m   1082\u001b[0m \u001b[43m    \u001b[49m\u001b[43mensure_2d\u001b[49m\u001b[38;5;241;43m=\u001b[39;49m\u001b[43mensure_2d\u001b[49m\u001b[43m,\u001b[49m\n\u001b[1;32m   1083\u001b[0m \u001b[43m    \u001b[49m\u001b[43mallow_nd\u001b[49m\u001b[38;5;241;43m=\u001b[39;49m\u001b[43mallow_nd\u001b[49m\u001b[43m,\u001b[49m\n\u001b[1;32m   1084\u001b[0m \u001b[43m    \u001b[49m\u001b[43mensure_min_samples\u001b[49m\u001b[38;5;241;43m=\u001b[39;49m\u001b[43mensure_min_samples\u001b[49m\u001b[43m,\u001b[49m\n\u001b[1;32m   1085\u001b[0m \u001b[43m    \u001b[49m\u001b[43mensure_min_features\u001b[49m\u001b[38;5;241;43m=\u001b[39;49m\u001b[43mensure_min_features\u001b[49m\u001b[43m,\u001b[49m\n\u001b[1;32m   1086\u001b[0m \u001b[43m    \u001b[49m\u001b[43mestimator\u001b[49m\u001b[38;5;241;43m=\u001b[39;49m\u001b[43mestimator\u001b[49m\u001b[43m,\u001b[49m\n\u001b[1;32m   1087\u001b[0m \u001b[43m    \u001b[49m\u001b[43minput_name\u001b[49m\u001b[38;5;241;43m=\u001b[39;49m\u001b[38;5;124;43m\"\u001b[39;49m\u001b[38;5;124;43mX\u001b[39;49m\u001b[38;5;124;43m\"\u001b[39;49m\u001b[43m,\u001b[49m\n\u001b[1;32m   1088\u001b[0m \u001b[43m\u001b[49m\u001b[43m)\u001b[49m\n\u001b[1;32m   1090\u001b[0m y \u001b[38;5;241m=\u001b[39m _check_y(y, multi_output\u001b[38;5;241m=\u001b[39mmulti_output, y_numeric\u001b[38;5;241m=\u001b[39my_numeric, estimator\u001b[38;5;241m=\u001b[39mestimator)\n\u001b[1;32m   1092\u001b[0m check_consistent_length(X, y)\n",
      "File \u001b[0;32m/usr/local/lib/python3.8/dist-packages/sklearn/utils/validation.py:899\u001b[0m, in \u001b[0;36mcheck_array\u001b[0;34m(array, accept_sparse, accept_large_sparse, dtype, order, copy, force_all_finite, ensure_2d, allow_nd, ensure_min_samples, ensure_min_features, estimator, input_name)\u001b[0m\n\u001b[1;32m    893\u001b[0m         \u001b[38;5;28;01mraise\u001b[39;00m \u001b[38;5;167;01mValueError\u001b[39;00m(\n\u001b[1;32m    894\u001b[0m             \u001b[38;5;124m\"\u001b[39m\u001b[38;5;124mFound array with dim \u001b[39m\u001b[38;5;132;01m%d\u001b[39;00m\u001b[38;5;124m. \u001b[39m\u001b[38;5;132;01m%s\u001b[39;00m\u001b[38;5;124m expected <= 2.\u001b[39m\u001b[38;5;124m\"\u001b[39m\n\u001b[1;32m    895\u001b[0m             \u001b[38;5;241m%\u001b[39m (array\u001b[38;5;241m.\u001b[39mndim, estimator_name)\n\u001b[1;32m    896\u001b[0m         )\n\u001b[1;32m    898\u001b[0m     \u001b[38;5;28;01mif\u001b[39;00m force_all_finite:\n\u001b[0;32m--> 899\u001b[0m         \u001b[43m_assert_all_finite\u001b[49m\u001b[43m(\u001b[49m\n\u001b[1;32m    900\u001b[0m \u001b[43m            \u001b[49m\u001b[43marray\u001b[49m\u001b[43m,\u001b[49m\n\u001b[1;32m    901\u001b[0m \u001b[43m            \u001b[49m\u001b[43minput_name\u001b[49m\u001b[38;5;241;43m=\u001b[39;49m\u001b[43minput_name\u001b[49m\u001b[43m,\u001b[49m\n\u001b[1;32m    902\u001b[0m \u001b[43m            \u001b[49m\u001b[43mestimator_name\u001b[49m\u001b[38;5;241;43m=\u001b[39;49m\u001b[43mestimator_name\u001b[49m\u001b[43m,\u001b[49m\n\u001b[1;32m    903\u001b[0m \u001b[43m            \u001b[49m\u001b[43mallow_nan\u001b[49m\u001b[38;5;241;43m=\u001b[39;49m\u001b[43mforce_all_finite\u001b[49m\u001b[43m \u001b[49m\u001b[38;5;241;43m==\u001b[39;49m\u001b[43m \u001b[49m\u001b[38;5;124;43m\"\u001b[39;49m\u001b[38;5;124;43mallow-nan\u001b[39;49m\u001b[38;5;124;43m\"\u001b[39;49m\u001b[43m,\u001b[49m\n\u001b[1;32m    904\u001b[0m \u001b[43m        \u001b[49m\u001b[43m)\u001b[49m\n\u001b[1;32m    906\u001b[0m \u001b[38;5;28;01mif\u001b[39;00m ensure_min_samples \u001b[38;5;241m>\u001b[39m \u001b[38;5;241m0\u001b[39m:\n\u001b[1;32m    907\u001b[0m     n_samples \u001b[38;5;241m=\u001b[39m _num_samples(array)\n",
      "File \u001b[0;32m/usr/local/lib/python3.8/dist-packages/sklearn/utils/validation.py:146\u001b[0m, in \u001b[0;36m_assert_all_finite\u001b[0;34m(X, allow_nan, msg_dtype, estimator_name, input_name)\u001b[0m\n\u001b[1;32m    124\u001b[0m         \u001b[38;5;28;01mif\u001b[39;00m (\n\u001b[1;32m    125\u001b[0m             \u001b[38;5;129;01mnot\u001b[39;00m allow_nan\n\u001b[1;32m    126\u001b[0m             \u001b[38;5;129;01mand\u001b[39;00m estimator_name\n\u001b[0;32m   (...)\u001b[0m\n\u001b[1;32m    130\u001b[0m             \u001b[38;5;66m# Improve the error message on how to handle missing values in\u001b[39m\n\u001b[1;32m    131\u001b[0m             \u001b[38;5;66m# scikit-learn.\u001b[39m\n\u001b[1;32m    132\u001b[0m             msg_err \u001b[38;5;241m+\u001b[39m\u001b[38;5;241m=\u001b[39m (\n\u001b[1;32m    133\u001b[0m                 f\u001b[38;5;124m\"\u001b[39m\u001b[38;5;130;01m\\n\u001b[39;00m\u001b[38;5;132;01m{estimator_name}\u001b[39;00m\u001b[38;5;124m does not accept missing values\u001b[39m\u001b[38;5;124m\"\u001b[39m\n\u001b[1;32m    134\u001b[0m                 \u001b[38;5;124m\"\u001b[39m\u001b[38;5;124m encoded as NaN natively. For supervised learning, you might want\u001b[39m\u001b[38;5;124m\"\u001b[39m\n\u001b[0;32m   (...)\u001b[0m\n\u001b[1;32m    144\u001b[0m                 \u001b[38;5;124m\"\u001b[39m\u001b[38;5;124m#estimators-that-handle-nan-values\u001b[39m\u001b[38;5;124m\"\u001b[39m\n\u001b[1;32m    145\u001b[0m             )\n\u001b[0;32m--> 146\u001b[0m         \u001b[38;5;28;01mraise\u001b[39;00m \u001b[38;5;167;01mValueError\u001b[39;00m(msg_err)\n\u001b[1;32m    148\u001b[0m \u001b[38;5;66m# for object dtype data, we only check for NaNs (GH-13254)\u001b[39m\n\u001b[1;32m    149\u001b[0m \u001b[38;5;28;01melif\u001b[39;00m X\u001b[38;5;241m.\u001b[39mdtype \u001b[38;5;241m==\u001b[39m np\u001b[38;5;241m.\u001b[39mdtype(\u001b[38;5;124m\"\u001b[39m\u001b[38;5;124mobject\u001b[39m\u001b[38;5;124m\"\u001b[39m) \u001b[38;5;129;01mand\u001b[39;00m \u001b[38;5;129;01mnot\u001b[39;00m allow_nan:\n",
      "\u001b[0;31mValueError\u001b[0m: Input X contains NaN.\nLogisticRegression does not accept missing values encoded as NaN natively. For supervised learning, you might want to consider sklearn.ensemble.HistGradientBoostingClassifier and Regressor which accept missing values encoded as NaNs natively. Alternatively, it is possible to preprocess the data, for instance by using an imputer transformer in a pipeline or drop samples with missing values. See https://scikit-learn.org/stable/modules/impute.html You can find a list of all estimators that handle NaN values at the following page: https://scikit-learn.org/stable/modules/impute.html#estimators-that-handle-nan-values"
     ]
    }
   ],
   "source": [
    "logistic_score(X_pairs, y)"
   ]
  },
  {
   "cell_type": "code",
   "execution_count": 291,
   "id": "406c0727",
   "metadata": {},
   "outputs": [
    {
     "name": "stdout",
     "output_type": "stream",
     "text": [
      "\n",
      "pairs\n",
      "Train: 1.0\n",
      "Test: 1.0\n",
      "\n",
      "triples\n",
      "Train: 1.0\n",
      "Test: 1.0\n",
      "\n",
      "both\n",
      "Train: 1.0\n",
      "Test: 1.0\n"
     ]
    }
   ],
   "source": [
    "print(\"\\npairs\\n\", logistic_score(X2, y), sep='')\n",
    "print(\"\\ntriples\\n\", logistic_score(X3, y), sep='')\n",
    "print(\"\\nboth\\n\", logistic_score(np.hstack((X2, X3)), y), sep='')"
   ]
  },
  {
   "cell_type": "code",
   "execution_count": 252,
   "id": "5a873385",
   "metadata": {},
   "outputs": [],
   "source": []
  },
  {
   "cell_type": "code",
   "execution_count": 289,
   "id": "8dd32868",
   "metadata": {},
   "outputs": [
    {
     "data": {
      "application/vnd.jupyter.widget-view+json": {
       "model_id": "09f9cc3b57f94f8a9ac22caae80b1bc9",
       "version_major": 2,
       "version_minor": 0
      },
      "text/plain": [
       "  0%|          | 0/10 [00:00<?, ?it/s]"
      ]
     },
     "metadata": {},
     "output_type": "display_data"
    },
    {
     "name": "stdout",
     "output_type": "stream",
     "text": [
      "[[1. 1. 1. 1. 1.]\n",
      " [1. 1. 1. 1. 1.]\n",
      " [1. 1. 1. 1. 1.]\n",
      " [1. 1. 1. 1. 1.]\n",
      " [1. 1. 1. 1. 1.]\n",
      " [1. 1. 1. 1. 1.]\n",
      " [1. 1. 1. 1. 1.]\n",
      " [1. 1. 1. 1. 1.]\n",
      " [1. 1. 1. 1. 1.]\n",
      " [1. 1. 1. 1. 1.]]\n",
      "1.0000 ± 0.0000\n"
     ]
    }
   ],
   "source": [
    "n_repeats, n_splits = 10, 5\n",
    "accuracy = np.zeros((n_repeats, n_splits))\n",
    "for i in tqdm(range(n_repeats)):\n",
    "\n",
    "    skf = StratifiedKFold(n_splits=n_splits, shuffle=True, random_state=i)\n",
    "\n",
    "    for j, (train_idx, test_idx) in enumerate(skf.split(X2, y)):\n",
    "\n",
    "        X_train, X_test = X2[train_idx], X2[test_idx]\n",
    "        y_train, y_test = y[train_idx], y[test_idx]\n",
    "        #print(y_train.shape, y_test.shape)\n",
    "\n",
    "        scaler = StandardScaler()\n",
    "        model = LogisticRegression(C=5, max_iter=500, random_state=i*n_repeats+j)\n",
    "        clf = Pipeline([(\"scaler\", scaler), (\"model\", model)]).fit(X_train, y_train)\n",
    "\n",
    "        y_hat = clf.predict(X_test)\n",
    "        accuracy[i, j] = clf.score(X_test, y_test)\n",
    "\n",
    "        #accuracy[i,j] = accuracy_score(y_test, y_hat)\n",
    "print(accuracy)\n",
    "print(f\"{accuracy.mean():.4f} ± {accuracy.std():.4f}\")"
   ]
  },
  {
   "cell_type": "markdown",
   "id": "3bb9a89f",
   "metadata": {},
   "source": [
    "---"
   ]
  },
  {
   "cell_type": "code",
   "execution_count": 23,
   "id": "25b15393",
   "metadata": {},
   "outputs": [],
   "source": [
    "X_test = []\n",
    "y_test = []\n",
    "for subj_id in SUBJ_IDS:\n",
    "    for session_id in SESSION_IDS:\n",
    "        for run_id in RUN_IDS:\n",
    "            Sigma = np.corrcoef(ts2[(subj_id, session_id, run_id)])\n",
    "            X_test.append(Sigma[np.triu_indices(Sigma.shape[0])])\n",
    "            y_test.append(subj_id)\n",
    "X_test = np.array(X_test)\n",
    "y_test = np.array(y_test)"
   ]
  },
  {
   "cell_type": "code",
   "execution_count": 24,
   "id": "cafef6cc",
   "metadata": {},
   "outputs": [
    {
     "data": {
      "text/plain": [
       "0.6666666666666666"
      ]
     },
     "execution_count": 24,
     "metadata": {},
     "output_type": "execute_result"
    }
   ],
   "source": [
    "clf.score(X_test, y_test)"
   ]
  },
  {
   "cell_type": "code",
   "execution_count": 6,
   "id": "85851fe0",
   "metadata": {},
   "outputs": [
    {
     "data": {
      "text/plain": [
       "(200, 116)"
      ]
     },
     "execution_count": 6,
     "metadata": {},
     "output_type": "execute_result"
    }
   ],
   "source": [
    "t1.shape"
   ]
  },
  {
   "cell_type": "code",
   "execution_count": null,
   "id": "d93c9528",
   "metadata": {},
   "outputs": [],
   "source": [
    "mri_file = './raw/timeseries/subj01/timeseries_session01_run01.nii.gz'\n",
    "img = nib.load(mri_file)"
   ]
  },
  {
   "cell_type": "code",
   "execution_count": null,
   "id": "7f0c3ca1",
   "metadata": {},
   "outputs": [],
   "source": [
    "print(img.shape)\n",
    "print(img.header.get_zooms())"
   ]
  },
  {
   "cell_type": "markdown",
   "id": "0a40c42f",
   "metadata": {},
   "source": [
    "Четвёртая размерность -- время."
   ]
  },
  {
   "cell_type": "code",
   "execution_count": 13,
   "id": "20514c02",
   "metadata": {},
   "outputs": [
    {
     "name": "stdout",
     "output_type": "stream",
     "text": [
      "(81, 104, 83, 226)\n",
      "(1.8, 1.8, 1.8, 1.3333334)\n"
     ]
    }
   ],
   "source": [
    "mri_file = './raw/timeseries/subj01/timeseries_session02_run04.nii.gz'\n",
    "img = nib.load(mri_file)\n",
    "print(img.shape)\n",
    "print(img.header.get_zooms())"
   ]
  },
  {
   "cell_type": "code",
   "execution_count": 11,
   "id": "5aca1a2a",
   "metadata": {},
   "outputs": [
    {
     "name": "stdout",
     "output_type": "stream",
     "text": [
      "(79, 97, 78, 226)\n",
      "(1.8, 1.8, 1.8, 1.3333334)\n"
     ]
    }
   ],
   "source": [
    "mri_file = './raw/timeseries/subj05/timeseries_session01_run01.nii.gz'\n",
    "img = nib.load(mri_file)\n",
    "print(img.shape)\n",
    "print(img.header.get_zooms())"
   ]
  },
  {
   "cell_type": "code",
   "execution_count": null,
   "id": "570210b4",
   "metadata": {},
   "outputs": [],
   "source": []
  }
 ],
 "metadata": {
  "kernelspec": {
   "display_name": "Python 3 (ipykernel)",
   "language": "python",
   "name": "python3"
  },
  "language_info": {
   "codemirror_mode": {
    "name": "ipython",
    "version": 3
   },
   "file_extension": ".py",
   "mimetype": "text/x-python",
   "name": "python",
   "nbconvert_exporter": "python",
   "pygments_lexer": "ipython3",
   "version": "3.8.10"
  }
 },
 "nbformat": 4,
 "nbformat_minor": 5
}
