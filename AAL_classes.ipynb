{
 "cells": [
  {
   "cell_type": "code",
   "execution_count": 17,
   "id": "2dd5268f",
   "metadata": {},
   "outputs": [
    {
     "data": {
      "text/plain": [
       "12"
      ]
     },
     "execution_count": 17,
     "metadata": {},
     "output_type": "execute_result"
    }
   ],
   "source": [
    "# visual cortex\n",
    "visual = list(range(42, 53+1))\n",
    "len(visual)"
   ]
  },
  {
   "cell_type": "code",
   "execution_count": 18,
   "id": "94fe4573",
   "metadata": {},
   "outputs": [
    {
     "data": {
      "text/plain": [
       "12"
      ]
     },
     "execution_count": 18,
     "metadata": {},
     "output_type": "execute_result"
    }
   ],
   "source": [
    "# sensorimotor network, somatomotor network (SMN)\n",
    "smn = [0, 1, 6, 7, 18, 19, 56, 57, 62, 63, 68, 69]\n",
    "len(smn)"
   ]
  },
  {
   "cell_type": "code",
   "execution_count": 10,
   "id": "6ae09181",
   "metadata": {},
   "outputs": [
    {
     "data": {
      "text/plain": [
       "6"
      ]
     },
     "execution_count": 10,
     "metadata": {},
     "output_type": "execute_result"
    }
   ],
   "source": [
    "# dorsal attention network (DAN), dorsal frontoparietal network (D-FPN)\n",
    "dan = [28, 29, 30, 31, 84, 85]\n",
    "len(dan)"
   ]
  },
  {
   "cell_type": "code",
   "execution_count": 11,
   "id": "dc3d22b8",
   "metadata": {},
   "outputs": [
    {
     "data": {
      "text/plain": [
       "12"
      ]
     },
     "execution_count": 11,
     "metadata": {},
     "output_type": "execute_result"
    }
   ],
   "source": [
    "# ventral attention network (VAN), ventral frontoparietal network (VFN), ventral attention system (VAS)\n",
    "van = [32, 33, 34, 35, 36, 37, 52, 53, 62, 63, 64, 65]\n",
    "len(van)"
   ]
  },
  {
   "cell_type": "code",
   "execution_count": 12,
   "id": "c116425c",
   "metadata": {},
   "outputs": [
    {
     "data": {
      "text/plain": [
       "10"
      ]
     },
     "execution_count": 12,
     "metadata": {},
     "output_type": "execute_result"
    }
   ],
   "source": [
    "# frontoparietal network (FPN), central executive network (CEN), lateral frontoparietal network (L-FPN)\n",
    "fpn = [6, 7, 10, 11, 12, 13, 60, 61, 64, 65]\n",
    "len(fpn)"
   ]
  },
  {
   "cell_type": "code",
   "execution_count": 13,
   "id": "762552d1",
   "metadata": {},
   "outputs": [
    {
     "data": {
      "text/plain": [
       "18"
      ]
     },
     "execution_count": 13,
     "metadata": {},
     "output_type": "execute_result"
    }
   ],
   "source": [
    "# limbic system, paleomammalian cortex\n",
    "limbic = list(range(30, 39+1)) + list(range(80, 87+1))\n",
    "len(limbic)"
   ]
  },
  {
   "cell_type": "code",
   "execution_count": 16,
   "id": "62db0fde",
   "metadata": {},
   "outputs": [
    {
     "data": {
      "text/plain": [
       "12"
      ]
     },
     "execution_count": 16,
     "metadata": {},
     "output_type": "execute_result"
    }
   ],
   "source": [
    "# default mode network (DMN), default network, default state network, medial frontoparietal network (M-FPN)\n",
    "dmn = [22, 23, 34, 35, 36, 37, 38, 39, 64, 65, 66, 67]\n",
    "len(dmn)"
   ]
  },
  {
   "cell_type": "code",
   "execution_count": 26,
   "id": "12cd7ac2",
   "metadata": {},
   "outputs": [],
   "source": [
    "# visual cortex\n",
    "visual = list(range(42, 53+1))\n",
    "# sensorimotor network, somatomotor network (SMN)\n",
    "smn = [0, 1, 6, 7, 18, 19, 56, 57, 62, 63, 68, 69]\n",
    "# dorsal attention network (DAN), dorsal frontoparietal network (D-FPN)\n",
    "dan = [28, 29, 30, 31, 84, 85]\n",
    "# ventral attention network (VAN), ventral frontoparietal network (VFN), ventral attention system (VAS)\n",
    "van = [32, 33, 34, 35, 36, 37, 52, 53, 62, 63, 64, 65]\n",
    "# frontoparietal network (FPN), central executive network (CEN), lateral frontoparietal network (L-FPN)\n",
    "fpn = [6, 7, 10, 11, 12, 13, 60, 61, 64, 65]\n",
    "# limbic system, paleomammalian cortex\n",
    "limbic = list(range(30, 39+1)) + list(range(80, 87+1))\n",
    "# default mode network (DMN), default network, default state network, medial frontoparietal network (M-FPN)\n",
    "dmn = [22, 23, 34, 35, 36, 37, 38, 39, 64, 65, 66, 67]\n",
    "\n",
    "brain_networks = [visual, smn, dan, van, fpn, limbic, dmn]"
   ]
  },
  {
   "cell_type": "code",
   "execution_count": 21,
   "id": "74173f0c",
   "metadata": {},
   "outputs": [],
   "source": [
    "import numpy as np"
   ]
  },
  {
   "cell_type": "code",
   "execution_count": null,
   "id": "d3cf9d39",
   "metadata": {},
   "outputs": [],
   "source": [
    "# not needed as we apply brain_network to timeseries\n",
    "def apply_network(X, brain_network):\n",
    "    return X[np.ix_(np.arange(X.shape[0]), *(brain_network,) * (len(X.shape) - 1))]"
   ]
  },
  {
   "cell_type": "code",
   "execution_count": null,
   "id": "d3d9d7e8",
   "metadata": {},
   "outputs": [],
   "source": [
    "def get_score(X, y, clf, n_repeats=10, n_splits=5, to_print=True, to_return=False):\n",
    "    \"\"\"\n",
    "    Evaluates classifier on the particular brain network\n",
    "    \n",
    "    \"\"\"\n",
    "    accuracy = np.zeros((n_repeats, n_splits))\n",
    "    for i in tqdm(range(n_repeats)):\n",
    "        skf = StratifiedKFold(n_splits=n_splits, shuffle=True, random_state=i)\n",
    "        for j, (train_idx, test_idx) in enumerate(skf.split(X, y)):\n",
    "            X_train, X_test = X[train_idx], X[test_idx]\n",
    "            y_train, y_test = y[train_idx], y[test_idx]\n",
    "\n",
    "            y_hat = clf.predict(X_test)\n",
    "\n",
    "            accuracy[i, j] = accuracy_score(y_test, y_hat)\n",
    "    # convenient in jupyter notebook: instantly print accuracy and do not print the last line return value (which could be an accuracy table)\n",
    "    if to_print:\n",
    "        print(f\"{accuracy.mean():.5f} ± {accuracy.std():.5f}\")\n",
    "    if to_return:\n",
    "        return accuracy"
   ]
  },
  {
   "cell_type": "code",
   "execution_count": 2,
   "id": "97238f2a",
   "metadata": {},
   "outputs": [],
   "source": [
    "import math\n",
    "import random"
   ]
  },
  {
   "cell_type": "code",
   "execution_count": 4,
   "id": "90bd05cb",
   "metadata": {},
   "outputs": [
    {
     "data": {
      "text/plain": [
       "199493777025432311307794894355885495155374618645649991647260852628512116131066137893375545851508627436004145506834219702067244966169006048387863728269762134247734758942538959056986508790579804030649962218407661831303945661096715296725847954833614937459131688813244205994269991761276271097299542304123"
      ]
     },
     "execution_count": 4,
     "metadata": {},
     "output_type": "execute_result"
    }
   ],
   "source": [
    "random.randint(0, math.comb(1000, 500)-1)"
   ]
  },
  {
   "cell_type": "code",
   "execution_count": null,
   "id": "790dc3f0",
   "metadata": {},
   "outputs": [],
   "source": []
  }
 ],
 "metadata": {
  "kernelspec": {
   "display_name": "Python 3 (ipykernel)",
   "language": "python",
   "name": "python3"
  },
  "language_info": {
   "codemirror_mode": {
    "name": "ipython",
    "version": 3
   },
   "file_extension": ".py",
   "mimetype": "text/x-python",
   "name": "python",
   "nbconvert_exporter": "python",
   "pygments_lexer": "ipython3",
   "version": "3.8.10"
  }
 },
 "nbformat": 4,
 "nbformat_minor": 5
}
