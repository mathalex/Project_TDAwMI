{
 "cells": [
  {
   "cell_type": "code",
   "execution_count": 2,
   "id": "bf1d9e94",
   "metadata": {},
   "outputs": [],
   "source": [
    "factorial = [1]\n",
    "def precalc_factorials(n):\n",
    "    while len(factorial) <= n:\n",
    "        factorial.append(factorial[-1] * len(factorial))\n",
    "    \n",
    "    \n",
    "def binom(n, k):\n",
    "    # precalculate factorials for speed!!! not here as this function is called often\n",
    "    # here n >= k, which is always true with correct i in number_to_simplex\n",
    "    # and k >= 0, which is also always true with correct break in number_to_simplex\n",
    "    return factorial[n] // factorial[k] // factorial[n - k]\n",
    "\n",
    "\n",
    "def simplex_to_number(simplex, n):\n",
    "    # simplex is an iterable consists of unique sorted integers from [0, n - 1]\n",
    "    # no assertions for speed\n",
    "    precalc_factorials(n)\n",
    "    k = len(simplex)\n",
    "    res = 0\n",
    "    pr = 0\n",
    "    for el in simplex:\n",
    "        n -= 1\n",
    "        k -= 1\n",
    "        while pr < el:\n",
    "            res += binom(n, k)\n",
    "            n -= 1\n",
    "            pr += 1\n",
    "        pr += 1\n",
    "    return res\n",
    "\n",
    "\n",
    "def asserted_simplex_to_number(simplex, n):\n",
    "    # simplex is an indexed iterable consists of unique sorted integers from [0, n - 1]\n",
    "    assert all(simplex[i] < simplex[i + 1] for i in range(len(simplex) - 1)), f\"simplex should be sorted and contains pairwise distinct values, got {simplex}\"\n",
    "    assert all(isinstance(el, int) for el in simplex), f\"simplex elements should be integers, got {tuple(type(el) for el in simplex)}\"\n",
    "    assert isinstance(n, int) and n >= 0, f\"n should be a non-negative integer, got {n}\"\n",
    "    assert len(simplex) == 0 or (simplex[0] >= 0 and simplex[-1] < n), f\"simplex elements should be indexed from 0 to {n-1} inclusively, got range [{simplex[0]}, {simplex[-1]}]\"\n",
    "    return simplex_to_number(simplex, n)\n",
    "\n",
    "    \n",
    "def number_to_simplex(n, k, i):\n",
    "    # n >= k\n",
    "    # i is an integer from [0, binom(n, k) - 1]\n",
    "    # no assertions for speed\n",
    "    precalc_factorials(n)\n",
    "    res = []\n",
    "    for j in range(n):\n",
    "        cur = binom(n - j - 1, k - 1)\n",
    "        if cur <= i:\n",
    "            i -= cur\n",
    "        else:\n",
    "            res.append(j)\n",
    "            k -= 1\n",
    "            if k == 0:\n",
    "                break\n",
    "    return res\n",
    "\n",
    "\n",
    "def asserted_number_to_simplex(n, k, i):\n",
    "    # n >= k\n",
    "    # i is an integer from [0, binom(n, k) - 1]\n",
    "    precalc_factorials(n)  # binom in assertions\n",
    "    assert isinstance(n, int) and isinstance(k, int) and n >= k >= 0, f\"n and k should be non-negative integers, which satisfies n >= k, got {n=}, {k=}\"\n",
    "    assert isinstance(i, int) and i >= 0 and i < binom(n, k), f\"i should be a non-negative integer from 0 to {binom(n, k) - 1} inclusively, got {i}\"\n",
    "    return number_to_simplex(n, k, i)"
   ]
  },
  {
   "cell_type": "code",
   "execution_count": 3,
   "id": "08b9bc0c",
   "metadata": {},
   "outputs": [],
   "source": [
    "# tests\n",
    "from itertools import combinations\n",
    "\n",
    "\n",
    "def test_simplex_to_number(simplex, n):\n",
    "    k = len(simplex)\n",
    "    ret = asserted_simplex_to_number(simplex, n)\n",
    "    assert isinstance(ret, int), f\"simplex_to_number function should return integer, got {type(ret)}\"\n",
    "    ans = next((i for i, s in enumerate(combinations(range(n), k)) if s == tuple(simplex)), None)\n",
    "    assert ans is not None, f\"assertions in asserted_simplex_to_number are not full: {simplex} is not a combination (wrong argument)\"\n",
    "    assert ans == ret, f\"wrong answer: got {ret}, but should be {ans}\"\n",
    "    return ans\n",
    "\n",
    "\n",
    "def test_number_to_simplex(n, k, i):\n",
    "    ret = asserted_number_to_simplex(n, k, i)\n",
    "    ans = list(combinations(range(n), k))[i]  # binom(n, k) should not be large here! (but can be in number_to_simplex)\n",
    "    assert len(ret) == k, f\"wrong length: got {ret} with length {len(ret)}, should be {ans} with length {k}\"\n",
    "    cmp = test_simplex_to_number(ret, n)\n",
    "    assert i == cmp, f\"wrong answer: got {cmp}-th simplex ({ret}), but should be {i}-th ({ans})\"\n",
    "    return ret"
   ]
  },
  {
   "cell_type": "code",
   "execution_count": 4,
   "id": "a92f7307",
   "metadata": {},
   "outputs": [
    {
     "data": {
      "text/plain": [
       "1826807"
      ]
     },
     "execution_count": 4,
     "metadata": {},
     "output_type": "execute_result"
    }
   ],
   "source": [
    "test_simplex_to_number((0, 1, 2), 3)\n",
    "test_simplex_to_number(tuple(), 0)\n",
    "test_simplex_to_number([], 5)\n",
    "test_simplex_to_number((1, 2), 3)\n",
    "test_simplex_to_number((0,), 1)\n",
    "test_simplex_to_number((9, 14, 18, 21, 37), 53)"
   ]
  },
  {
   "cell_type": "code",
   "execution_count": 11,
   "id": "5cc7e1a1",
   "metadata": {},
   "outputs": [
    {
     "data": {
      "text/plain": [
       "[0, 1, 5, 7, 9, 10, 12, 18]"
      ]
     },
     "execution_count": 11,
     "metadata": {},
     "output_type": "execute_result"
    }
   ],
   "source": [
    "test_number_to_simplex(5, 3, 9)\n",
    "test_number_to_simplex(5, 3, 0)\n",
    "test_number_to_simplex(5, 0, 0)\n",
    "test_number_to_simplex(0, 0, 0)\n",
    "test_number_to_simplex(19, 8, 10000)"
   ]
  },
  {
   "cell_type": "code",
   "execution_count": 7,
   "id": "44414177",
   "metadata": {},
   "outputs": [
    {
     "name": "stdout",
     "output_type": "stream",
     "text": [
      "OK\n"
     ]
    }
   ],
   "source": [
    "from random import randint\n",
    "for _ in range(1000):\n",
    "    n = randint(0, 20)\n",
    "    k = randint(0, n)\n",
    "    i = randint(0, len(list(combinations(range(n), k))) - 1)\n",
    "    assert i == test_simplex_to_number(test_number_to_simplex(n, k, i), n)\n",
    "print(\"OK\")"
   ]
  },
  {
   "cell_type": "code",
   "execution_count": null,
   "id": "2723a099",
   "metadata": {},
   "outputs": [],
   "source": []
  }
 ],
 "metadata": {
  "kernelspec": {
   "display_name": "Python 3 (ipykernel)",
   "language": "python",
   "name": "python3"
  },
  "language_info": {
   "codemirror_mode": {
    "name": "ipython",
    "version": 3
   },
   "file_extension": ".py",
   "mimetype": "text/x-python",
   "name": "python",
   "nbconvert_exporter": "python",
   "pygments_lexer": "ipython3",
   "version": "3.8.10"
  }
 },
 "nbformat": 4,
 "nbformat_minor": 5
}
